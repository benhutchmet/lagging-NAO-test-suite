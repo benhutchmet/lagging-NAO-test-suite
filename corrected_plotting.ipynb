{
 "cells": [
  {
   "cell_type": "code",
   "execution_count": null,
   "metadata": {},
   "outputs": [],
   "source": [
    "# Local imports\n",
    "import argparse\n",
    "import glob\n",
    "import os\n",
    "import sys\n",
    "import re\n",
    "\n",
    "# Third-party imports\n",
    "import xarray as xr\n",
    "import numpy as np\n",
    "import scipy.stats as stats\n",
    "import matplotlib.pyplot as plt\n",
    "import pandas as pd\n",
    "from datetime import datetime\n",
    "import cftime"
   ]
  },
  {
   "cell_type": "code",
   "execution_count": null,
   "metadata": {},
   "outputs": [],
   "source": [
    "# Import the dictionaries\n",
    "import dictionaries as dic\n",
    "\n",
    "# Import the functions\n",
    "import processing_NAO_data as pnd\n",
    "import functions_lag as fnc_lag\n",
    "import functions_skill_maps as fnc_sm"
   ]
  },
  {
   "cell_type": "code",
   "execution_count": null,
   "metadata": {},
   "outputs": [],
   "source": [
    "# First thing to do is to process the observations\n",
    "# We need to set up the parameters for this\n",
    "forecast_range = \"2-9\"\n",
    "season = \"DJFM\"\n",
    "variable = \"psl\"\n",
    "obs_var_name = \"psl\"\n",
    "region_grid = \"north-atlantic\"\n",
    "models = dic.models # all models for psl\n",
    "observations_path = dic.full_era5 # contains all months and variables"
   ]
  },
  {
   "cell_type": "code",
   "execution_count": null,
   "metadata": {},
   "outputs": [],
   "source": [
    "# First use the function to process the data for the azores region\n",
    "# define the region\n",
    "region = \"azores\"\n",
    "\n",
    "# here we are using the function process_observations\n",
    "# from functions_skill_maps.py\n",
    "obs_azores = fnc_sm.process_observations(variable, region, region_grid,\n",
    "                                          forecast_range, season, \n",
    "                                          observations_path, obs_var_name)"
   ]
  },
  {
   "cell_type": "code",
   "execution_count": null,
   "metadata": {},
   "outputs": [],
   "source": [
    "# Now do the same but for the iceland region\n",
    "region = \"iceland\"\n",
    "\n",
    "# Run the function process_observations\n",
    "obs_iceland = fnc_sm.process_observations(variable, region, region_grid,\n",
    "                                          forecast_range, season, \n",
    "                                          observations_path, obs_var_name)"
   ]
  }
 ],
 "metadata": {
  "language_info": {
   "name": "python"
  },
  "orig_nbformat": 4
 },
 "nbformat": 4,
 "nbformat_minor": 2
}
