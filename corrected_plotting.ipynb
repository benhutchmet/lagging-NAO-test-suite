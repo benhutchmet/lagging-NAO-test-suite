{
 "cells": [
  {
   "cell_type": "code",
   "execution_count": null,
   "metadata": {},
   "outputs": [],
   "source": [
    "# Local imports\n",
    "import argparse\n",
    "import glob\n",
    "import os\n",
    "import sys\n",
    "import re\n",
    "\n",
    "# Third-party imports\n",
    "import xarray as xr\n",
    "import numpy as np\n",
    "import scipy.stats as stats\n",
    "import matplotlib.pyplot as plt\n",
    "import pandas as pd\n",
    "from datetime import datetime\n",
    "import cftime"
   ]
  },
  {
   "cell_type": "code",
   "execution_count": null,
   "metadata": {},
   "outputs": [],
   "source": [
    "# Import the dictionaries\n",
    "import dictionaries as dic\n",
    "\n",
    "# Import the functions\n",
    "import processing_NAO_data as pnd\n",
    "import functions_lag as fnc_lag\n",
    "import functions_skill_maps as fnc_sm"
   ]
  },
  {
   "cell_type": "code",
   "execution_count": null,
   "metadata": {},
   "outputs": [],
   "source": [
    "# First thing to do is to process the observations\n",
    "# We need to set up the parameters for this\n",
    "forecast_range = \"2-9\"\n",
    "season = \"DJFM\"\n",
    "variable = \"psl\"\n",
    "models = dic.models # all models for psl\n",
    "obs = dic.full_era5 # contains all months and variables"
   ]
  }
 ],
 "metadata": {
  "language_info": {
   "name": "python"
  },
  "orig_nbformat": 4
 },
 "nbformat": 4,
 "nbformat_minor": 2
}
