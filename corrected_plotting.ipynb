{
 "cells": [
  {
   "cell_type": "code",
   "execution_count": 1,
   "metadata": {},
   "outputs": [],
   "source": [
    "# Local imports\n",
    "import argparse\n",
    "import glob\n",
    "import os\n",
    "import sys\n",
    "import re\n",
    "\n",
    "# Third-party imports\n",
    "import xarray as xr\n",
    "import numpy as np\n",
    "import scipy.stats as stats\n",
    "import matplotlib.pyplot as plt\n",
    "import pandas as pd\n",
    "from datetime import datetime\n",
    "import cftime"
   ]
  },
  {
   "cell_type": "code",
   "execution_count": 2,
   "metadata": {},
   "outputs": [],
   "source": [
    "# Import the dictionaries\n",
    "import dictionaries as dic\n",
    "\n",
    "# Import the functions\n",
    "import processing_NAO_data as pnd\n",
    "import functions_lag as fnc_lag\n",
    "import functions_skill_maps as fnc_sm"
   ]
  },
  {
   "cell_type": "code",
   "execution_count": null,
   "metadata": {},
   "outputs": [],
   "source": [
    "# make the saved data directory if it doesn't exist\n",
    "if not os.path.exists(dic.saved_data_dir):\n",
    "    os.makedirs(dic.saved_data_dir)\n",
    "\n",
    "# define the paths to the processed data files\n",
    "azores_data_path = dic.azores_data_path\n",
    "iceland_data_path = dic.iceland_data_path"
   ]
  },
  {
   "cell_type": "code",
   "execution_count": 3,
   "metadata": {},
   "outputs": [],
   "source": [
    "# First thing to do is to process the observations\n",
    "# We need to set up the parameters for this\n",
    "forecast_range = \"2-6\"\n",
    "season = \"DJFM\"\n",
    "variable = \"psl\"\n",
    "obs_var_name = \"psl\"\n",
    "region_grid = \"north-atlantic\"\n",
    "models = dic.models # all models for psl\n",
    "observations_path = dic.full_era5 # contains all months and variables"
   ]
  },
  {
   "cell_type": "code",
   "execution_count": 4,
   "metadata": {},
   "outputs": [
    {
     "name": "stdout",
     "output_type": "stream",
     "text": [
      "File already exists\n",
      "Forecast range: 2 - 6\n",
      "Rolling mean range: 5\n"
     ]
    }
   ],
   "source": [
    "# Check if the processed data files exist\n",
    "if os.path.exists(azores_data_path) and os.path.exists(iceland_data_path):\n",
    "    # If the files exist, load the processed data from the files\n",
    "    obs_azores = np.load(azores_data_path)\n",
    "    obs_iceland = np.load(iceland_data_path)\n",
    "else:\n",
    "    # If the files don't exist, process the observations and save the processed data to files\n",
    "    # Process the observations for the Azores region\n",
    "    region = \"azores\"\n",
    "    obs_azores = fnc_sm.process_observations(variable, region, region_grid,\n",
    "                                                forecast_range, season, \n",
    "                                                observations_path, obs_var_name)\n",
    "    \n",
    "    # Now do the same but for the iceland region\n",
    "    region = \"iceland\"\n",
    "    obs_iceland = fnc_sm.process_observations(variable, region, region_grid,\n",
    "                                            forecast_range, season, \n",
    "                                            observations_path, obs_var_name)\n",
    "\n",
    "    # Save the processed data to files\n",
    "    np.save(azores_data_path, obs_azores)\n",
    "    np.save(iceland_data_path, obs_iceland)"
   ]
  },
  {
   "cell_type": "code",
   "execution_count": 6,
   "metadata": {},
   "outputs": [],
   "source": [
    "# Now we have obs anomaly fields for year 2-6 DJFM psl\n",
    "# for both the azores and iceland gridboxes\n",
    "# we want to take the fieldmean of these\n",
    "# then subtract iceland from azores\n",
    "# use the calculate_nao_index function from functions_skill_maps.py for this\n",
    "obs_nao_index = fnc_sm.calculate_nao_index(obs_azores, obs_iceland)"
   ]
  },
  {
   "cell_type": "code",
   "execution_count": 7,
   "metadata": {},
   "outputs": [],
   "source": [
    "# obs_nao_index.values"
   ]
  },
  {
   "cell_type": "code",
   "execution_count": 8,
   "metadata": {},
   "outputs": [],
   "source": [
    "# obs_nao_index.time"
   ]
  },
  {
   "cell_type": "code",
   "execution_count": 9,
   "metadata": {
    "scrolled": true
   },
   "outputs": [
    {
     "name": "stdout",
     "output_type": "stream",
     "text": [
      "Searching for files in  /home/users/benhutch/alternate-lag-processed-data/*BCC-CSM2-MR*same-init.nc\n",
      "Files for BCC-CSM2-MR: ['/home/users/benhutch/alternate-lag-processed-data/NAO_BCC-CSM2-MR_psl__DJFM_lag-4_r1i1.same-init.nc', '/home/users/benhutch/alternate-lag-processed-data/NAO_BCC-CSM2-MR_psl__DJFM_lag-4_r2i1.same-init.nc', '/home/users/benhutch/alternate-lag-processed-data/NAO_BCC-CSM2-MR_psl__DJFM_lag-4_r3i1.same-init.nc', '/home/users/benhutch/alternate-lag-processed-data/NAO_BCC-CSM2-MR_psl__DJFM_lag-4_r4i1.same-init.nc', '/home/users/benhutch/alternate-lag-processed-data/NAO_BCC-CSM2-MR_psl__DJFM_lag-4_r5i1.same-init.nc', '/home/users/benhutch/alternate-lag-processed-data/NAO_BCC-CSM2-MR_psl__DJFM_lag-4_r6i1.same-init.nc', '/home/users/benhutch/alternate-lag-processed-data/NAO_BCC-CSM2-MR_psl__DJFM_lag-4_r7i1.same-init.nc', '/home/users/benhutch/alternate-lag-processed-data/NAO_BCC-CSM2-MR_psl__DJFM_lag-4_r8i1.same-init.nc']\n",
      "Searching for files in  /home/users/benhutch/alternate-lag-processed-data/*MPI-ESM1-2-HR*same-init.nc\n",
      "Files for MPI-ESM1-2-HR: ['/home/users/benhutch/alternate-lag-processed-data/NAO_MPI-ESM1-2-HR_psl__DJFM_lag-4_r10i1.same-init.nc', '/home/users/benhutch/alternate-lag-processed-data/NAO_MPI-ESM1-2-HR_psl__DJFM_lag-4_r1i1.same-init.nc', '/home/users/benhutch/alternate-lag-processed-data/NAO_MPI-ESM1-2-HR_psl__DJFM_lag-4_r2i1.same-init.nc', '/home/users/benhutch/alternate-lag-processed-data/NAO_MPI-ESM1-2-HR_psl__DJFM_lag-4_r3i1.same-init.nc', '/home/users/benhutch/alternate-lag-processed-data/NAO_MPI-ESM1-2-HR_psl__DJFM_lag-4_r4i1.same-init.nc', '/home/users/benhutch/alternate-lag-processed-data/NAO_MPI-ESM1-2-HR_psl__DJFM_lag-4_r5i1.same-init.nc', '/home/users/benhutch/alternate-lag-processed-data/NAO_MPI-ESM1-2-HR_psl__DJFM_lag-4_r6i1.same-init.nc', '/home/users/benhutch/alternate-lag-processed-data/NAO_MPI-ESM1-2-HR_psl__DJFM_lag-4_r7i1.same-init.nc', '/home/users/benhutch/alternate-lag-processed-data/NAO_MPI-ESM1-2-HR_psl__DJFM_lag-4_r8i1.same-init.nc', '/home/users/benhutch/alternate-lag-processed-data/NAO_MPI-ESM1-2-HR_psl__DJFM_lag-4_r9i1.same-init.nc']\n",
      "Searching for files in  /home/users/benhutch/alternate-lag-processed-data/*CMCC-CM2-SR5*same-init.nc\n",
      "Files for CMCC-CM2-SR5: ['/home/users/benhutch/alternate-lag-processed-data/NAO_CMCC-CM2-SR5_psl__DJFM_lag-4_r10i1.same-init.nc', '/home/users/benhutch/alternate-lag-processed-data/NAO_CMCC-CM2-SR5_psl__DJFM_lag-4_r1i1.same-init.nc', '/home/users/benhutch/alternate-lag-processed-data/NAO_CMCC-CM2-SR5_psl__DJFM_lag-4_r2i1.same-init.nc', '/home/users/benhutch/alternate-lag-processed-data/NAO_CMCC-CM2-SR5_psl__DJFM_lag-4_r3i1.same-init.nc', '/home/users/benhutch/alternate-lag-processed-data/NAO_CMCC-CM2-SR5_psl__DJFM_lag-4_r4i1.same-init.nc', '/home/users/benhutch/alternate-lag-processed-data/NAO_CMCC-CM2-SR5_psl__DJFM_lag-4_r5i1.same-init.nc', '/home/users/benhutch/alternate-lag-processed-data/NAO_CMCC-CM2-SR5_psl__DJFM_lag-4_r6i1.same-init.nc', '/home/users/benhutch/alternate-lag-processed-data/NAO_CMCC-CM2-SR5_psl__DJFM_lag-4_r7i1.same-init.nc', '/home/users/benhutch/alternate-lag-processed-data/NAO_CMCC-CM2-SR5_psl__DJFM_lag-4_r8i1.same-init.nc', '/home/users/benhutch/alternate-lag-processed-data/NAO_CMCC-CM2-SR5_psl__DJFM_lag-4_r9i1.same-init.nc']\n",
      "Searching for files in  /home/users/benhutch/alternate-lag-processed-data/*HadGEM3-GC31-MM*same-init.nc\n",
      "Files for HadGEM3-GC31-MM: ['/home/users/benhutch/alternate-lag-processed-data/NAO_HadGEM3-GC31-MM_psl__DJFM_lag-4_r10i1.same-init.nc', '/home/users/benhutch/alternate-lag-processed-data/NAO_HadGEM3-GC31-MM_psl__DJFM_lag-4_r1i1.same-init.nc', '/home/users/benhutch/alternate-lag-processed-data/NAO_HadGEM3-GC31-MM_psl__DJFM_lag-4_r2i1.same-init.nc', '/home/users/benhutch/alternate-lag-processed-data/NAO_HadGEM3-GC31-MM_psl__DJFM_lag-4_r3i1.same-init.nc', '/home/users/benhutch/alternate-lag-processed-data/NAO_HadGEM3-GC31-MM_psl__DJFM_lag-4_r4i1.same-init.nc', '/home/users/benhutch/alternate-lag-processed-data/NAO_HadGEM3-GC31-MM_psl__DJFM_lag-4_r5i1.same-init.nc', '/home/users/benhutch/alternate-lag-processed-data/NAO_HadGEM3-GC31-MM_psl__DJFM_lag-4_r6i1.same-init.nc', '/home/users/benhutch/alternate-lag-processed-data/NAO_HadGEM3-GC31-MM_psl__DJFM_lag-4_r7i1.same-init.nc', '/home/users/benhutch/alternate-lag-processed-data/NAO_HadGEM3-GC31-MM_psl__DJFM_lag-4_r8i1.same-init.nc', '/home/users/benhutch/alternate-lag-processed-data/NAO_HadGEM3-GC31-MM_psl__DJFM_lag-4_r9i1.same-init.nc']\n",
      "Searching for files in  /home/users/benhutch/alternate-lag-processed-data/*EC-Earth3*same-init.nc\n",
      "Files for EC-Earth3: ['/home/users/benhutch/alternate-lag-processed-data/NAO_EC-Earth3_psl__DJFM_lag-4_r10i1.same-init.nc', '/home/users/benhutch/alternate-lag-processed-data/NAO_EC-Earth3_psl__DJFM_lag-4_r10i2.same-init.nc', '/home/users/benhutch/alternate-lag-processed-data/NAO_EC-Earth3_psl__DJFM_lag-4_r1i1.same-init.nc', '/home/users/benhutch/alternate-lag-processed-data/NAO_EC-Earth3_psl__DJFM_lag-4_r2i1.same-init.nc', '/home/users/benhutch/alternate-lag-processed-data/NAO_EC-Earth3_psl__DJFM_lag-4_r3i1.same-init.nc', '/home/users/benhutch/alternate-lag-processed-data/NAO_EC-Earth3_psl__DJFM_lag-4_r4i1.same-init.nc', '/home/users/benhutch/alternate-lag-processed-data/NAO_EC-Earth3_psl__DJFM_lag-4_r5i1.same-init.nc', '/home/users/benhutch/alternate-lag-processed-data/NAO_EC-Earth3_psl__DJFM_lag-4_r6i1.same-init.nc', '/home/users/benhutch/alternate-lag-processed-data/NAO_EC-Earth3_psl__DJFM_lag-4_r6i2.same-init.nc', '/home/users/benhutch/alternate-lag-processed-data/NAO_EC-Earth3_psl__DJFM_lag-4_r7i1.same-init.nc', '/home/users/benhutch/alternate-lag-processed-data/NAO_EC-Earth3_psl__DJFM_lag-4_r7i2.same-init.nc', '/home/users/benhutch/alternate-lag-processed-data/NAO_EC-Earth3_psl__DJFM_lag-4_r8i1.same-init.nc', '/home/users/benhutch/alternate-lag-processed-data/NAO_EC-Earth3_psl__DJFM_lag-4_r8i2.same-init.nc', '/home/users/benhutch/alternate-lag-processed-data/NAO_EC-Earth3_psl__DJFM_lag-4_r9i1.same-init.nc', '/home/users/benhutch/alternate-lag-processed-data/NAO_EC-Earth3_psl__DJFM_lag-4_r9i2.same-init.nc']\n",
      "Searching for files in  /home/users/benhutch/alternate-lag-processed-data/*MPI-ESM1-2-LR*same-init.nc\n",
      "Files for MPI-ESM1-2-LR: ['/home/users/benhutch/alternate-lag-processed-data/NAO_MPI-ESM1-2-LR_psl__DJFM_lag-4_r10i1.same-init.nc', '/home/users/benhutch/alternate-lag-processed-data/NAO_MPI-ESM1-2-LR_psl__DJFM_lag-4_r11i1.same-init.nc', '/home/users/benhutch/alternate-lag-processed-data/NAO_MPI-ESM1-2-LR_psl__DJFM_lag-4_r12i1.same-init.nc', '/home/users/benhutch/alternate-lag-processed-data/NAO_MPI-ESM1-2-LR_psl__DJFM_lag-4_r13i1.same-init.nc', '/home/users/benhutch/alternate-lag-processed-data/NAO_MPI-ESM1-2-LR_psl__DJFM_lag-4_r14i1.same-init.nc', '/home/users/benhutch/alternate-lag-processed-data/NAO_MPI-ESM1-2-LR_psl__DJFM_lag-4_r15i1.same-init.nc', '/home/users/benhutch/alternate-lag-processed-data/NAO_MPI-ESM1-2-LR_psl__DJFM_lag-4_r16i1.same-init.nc', '/home/users/benhutch/alternate-lag-processed-data/NAO_MPI-ESM1-2-LR_psl__DJFM_lag-4_r1i1.same-init.nc', '/home/users/benhutch/alternate-lag-processed-data/NAO_MPI-ESM1-2-LR_psl__DJFM_lag-4_r2i1.same-init.nc', '/home/users/benhutch/alternate-lag-processed-data/NAO_MPI-ESM1-2-LR_psl__DJFM_lag-4_r3i1.same-init.nc', '/home/users/benhutch/alternate-lag-processed-data/NAO_MPI-ESM1-2-LR_psl__DJFM_lag-4_r4i1.same-init.nc', '/home/users/benhutch/alternate-lag-processed-data/NAO_MPI-ESM1-2-LR_psl__DJFM_lag-4_r5i1.same-init.nc', '/home/users/benhutch/alternate-lag-processed-data/NAO_MPI-ESM1-2-LR_psl__DJFM_lag-4_r6i1.same-init.nc', '/home/users/benhutch/alternate-lag-processed-data/NAO_MPI-ESM1-2-LR_psl__DJFM_lag-4_r7i1.same-init.nc', '/home/users/benhutch/alternate-lag-processed-data/NAO_MPI-ESM1-2-LR_psl__DJFM_lag-4_r8i1.same-init.nc', '/home/users/benhutch/alternate-lag-processed-data/NAO_MPI-ESM1-2-LR_psl__DJFM_lag-4_r9i1.same-init.nc']\n",
      "Searching for files in  /home/users/benhutch/alternate-lag-processed-data/*FGOALS-f3-L*same-init.nc\n",
      "Files for FGOALS-f3-L: ['/home/users/benhutch/alternate-lag-processed-data/NAO_FGOALS-f3-L_psl__DJFM_lag-4_r1i1.same-init.nc', '/home/users/benhutch/alternate-lag-processed-data/NAO_FGOALS-f3-L_psl__DJFM_lag-4_r2i1.same-init.nc', '/home/users/benhutch/alternate-lag-processed-data/NAO_FGOALS-f3-L_psl__DJFM_lag-4_r3i1.same-init.nc', '/home/users/benhutch/alternate-lag-processed-data/NAO_FGOALS-f3-L_psl__DJFM_lag-4_r4i1.same-init.nc', '/home/users/benhutch/alternate-lag-processed-data/NAO_FGOALS-f3-L_psl__DJFM_lag-4_r5i1.same-init.nc', '/home/users/benhutch/alternate-lag-processed-data/NAO_FGOALS-f3-L_psl__DJFM_lag-4_r6i1.same-init.nc', '/home/users/benhutch/alternate-lag-processed-data/NAO_FGOALS-f3-L_psl__DJFM_lag-4_r7i1.same-init.nc', '/home/users/benhutch/alternate-lag-processed-data/NAO_FGOALS-f3-L_psl__DJFM_lag-4_r8i1.same-init.nc', '/home/users/benhutch/alternate-lag-processed-data/NAO_FGOALS-f3-L_psl__DJFM_lag-4_r9i1.same-init.nc']\n",
      "Searching for files in  /home/users/benhutch/alternate-lag-processed-data/*MIROC6*same-init.nc\n",
      "Files for MIROC6: ['/home/users/benhutch/alternate-lag-processed-data/NAO_MIROC6_psl__DJFM_lag-4_r10i1.same-init.nc', '/home/users/benhutch/alternate-lag-processed-data/NAO_MIROC6_psl__DJFM_lag-4_r1i1.same-init.nc', '/home/users/benhutch/alternate-lag-processed-data/NAO_MIROC6_psl__DJFM_lag-4_r2i1.same-init.nc', '/home/users/benhutch/alternate-lag-processed-data/NAO_MIROC6_psl__DJFM_lag-4_r3i1.same-init.nc', '/home/users/benhutch/alternate-lag-processed-data/NAO_MIROC6_psl__DJFM_lag-4_r4i1.same-init.nc', '/home/users/benhutch/alternate-lag-processed-data/NAO_MIROC6_psl__DJFM_lag-4_r5i1.same-init.nc', '/home/users/benhutch/alternate-lag-processed-data/NAO_MIROC6_psl__DJFM_lag-4_r6i1.same-init.nc', '/home/users/benhutch/alternate-lag-processed-data/NAO_MIROC6_psl__DJFM_lag-4_r7i1.same-init.nc', '/home/users/benhutch/alternate-lag-processed-data/NAO_MIROC6_psl__DJFM_lag-4_r8i1.same-init.nc', '/home/users/benhutch/alternate-lag-processed-data/NAO_MIROC6_psl__DJFM_lag-4_r9i1.same-init.nc']\n",
      "Searching for files in  /home/users/benhutch/alternate-lag-processed-data/*IPSL-CM6A-LR*same-init.nc\n",
      "Files for IPSL-CM6A-LR: ['/home/users/benhutch/alternate-lag-processed-data/NAO_IPSL-CM6A-LR_psl__DJFM_lag-4_r10i1.same-init.nc', '/home/users/benhutch/alternate-lag-processed-data/NAO_IPSL-CM6A-LR_psl__DJFM_lag-4_r1i1.same-init.nc', '/home/users/benhutch/alternate-lag-processed-data/NAO_IPSL-CM6A-LR_psl__DJFM_lag-4_r2i1.same-init.nc', '/home/users/benhutch/alternate-lag-processed-data/NAO_IPSL-CM6A-LR_psl__DJFM_lag-4_r3i1.same-init.nc', '/home/users/benhutch/alternate-lag-processed-data/NAO_IPSL-CM6A-LR_psl__DJFM_lag-4_r4i1.same-init.nc', '/home/users/benhutch/alternate-lag-processed-data/NAO_IPSL-CM6A-LR_psl__DJFM_lag-4_r5i1.same-init.nc', '/home/users/benhutch/alternate-lag-processed-data/NAO_IPSL-CM6A-LR_psl__DJFM_lag-4_r6i1.same-init.nc', '/home/users/benhutch/alternate-lag-processed-data/NAO_IPSL-CM6A-LR_psl__DJFM_lag-4_r7i1.same-init.nc', '/home/users/benhutch/alternate-lag-processed-data/NAO_IPSL-CM6A-LR_psl__DJFM_lag-4_r8i1.same-init.nc', '/home/users/benhutch/alternate-lag-processed-data/NAO_IPSL-CM6A-LR_psl__DJFM_lag-4_r9i1.same-init.nc']\n",
      "Searching for files in  /home/users/benhutch/alternate-lag-processed-data/*CESM1-1-CAM5-CMIP5*same-init.nc\n",
      "Files for CESM1-1-CAM5-CMIP5: ['/home/users/benhutch/alternate-lag-processed-data/NAO_CESM1-1-CAM5-CMIP5_psl__DJFM_lag-4_r10i1.same-init.nc', '/home/users/benhutch/alternate-lag-processed-data/NAO_CESM1-1-CAM5-CMIP5_psl__DJFM_lag-4_r11i1.same-init.nc', '/home/users/benhutch/alternate-lag-processed-data/NAO_CESM1-1-CAM5-CMIP5_psl__DJFM_lag-4_r12i1.same-init.nc', '/home/users/benhutch/alternate-lag-processed-data/NAO_CESM1-1-CAM5-CMIP5_psl__DJFM_lag-4_r13i1.same-init.nc', '/home/users/benhutch/alternate-lag-processed-data/NAO_CESM1-1-CAM5-CMIP5_psl__DJFM_lag-4_r14i1.same-init.nc', '/home/users/benhutch/alternate-lag-processed-data/NAO_CESM1-1-CAM5-CMIP5_psl__DJFM_lag-4_r15i1.same-init.nc', '/home/users/benhutch/alternate-lag-processed-data/NAO_CESM1-1-CAM5-CMIP5_psl__DJFM_lag-4_r16i1.same-init.nc', '/home/users/benhutch/alternate-lag-processed-data/NAO_CESM1-1-CAM5-CMIP5_psl__DJFM_lag-4_r17i1.same-init.nc', '/home/users/benhutch/alternate-lag-processed-data/NAO_CESM1-1-CAM5-CMIP5_psl__DJFM_lag-4_r18i1.same-init.nc', '/home/users/benhutch/alternate-lag-processed-data/NAO_CESM1-1-CAM5-CMIP5_psl__DJFM_lag-4_r19i1.same-init.nc', '/home/users/benhutch/alternate-lag-processed-data/NAO_CESM1-1-CAM5-CMIP5_psl__DJFM_lag-4_r1i1.same-init.nc', '/home/users/benhutch/alternate-lag-processed-data/NAO_CESM1-1-CAM5-CMIP5_psl__DJFM_lag-4_r20i1.same-init.nc', '/home/users/benhutch/alternate-lag-processed-data/NAO_CESM1-1-CAM5-CMIP5_psl__DJFM_lag-4_r21i1.same-init.nc', '/home/users/benhutch/alternate-lag-processed-data/NAO_CESM1-1-CAM5-CMIP5_psl__DJFM_lag-4_r22i1.same-init.nc', '/home/users/benhutch/alternate-lag-processed-data/NAO_CESM1-1-CAM5-CMIP5_psl__DJFM_lag-4_r23i1.same-init.nc', '/home/users/benhutch/alternate-lag-processed-data/NAO_CESM1-1-CAM5-CMIP5_psl__DJFM_lag-4_r24i1.same-init.nc', '/home/users/benhutch/alternate-lag-processed-data/NAO_CESM1-1-CAM5-CMIP5_psl__DJFM_lag-4_r25i1.same-init.nc', '/home/users/benhutch/alternate-lag-processed-data/NAO_CESM1-1-CAM5-CMIP5_psl__DJFM_lag-4_r26i1.same-init.nc', '/home/users/benhutch/alternate-lag-processed-data/NAO_CESM1-1-CAM5-CMIP5_psl__DJFM_lag-4_r27i1.same-init.nc', '/home/users/benhutch/alternate-lag-processed-data/NAO_CESM1-1-CAM5-CMIP5_psl__DJFM_lag-4_r28i1.same-init.nc', '/home/users/benhutch/alternate-lag-processed-data/NAO_CESM1-1-CAM5-CMIP5_psl__DJFM_lag-4_r29i1.same-init.nc', '/home/users/benhutch/alternate-lag-processed-data/NAO_CESM1-1-CAM5-CMIP5_psl__DJFM_lag-4_r2i1.same-init.nc', '/home/users/benhutch/alternate-lag-processed-data/NAO_CESM1-1-CAM5-CMIP5_psl__DJFM_lag-4_r30i1.same-init.nc', '/home/users/benhutch/alternate-lag-processed-data/NAO_CESM1-1-CAM5-CMIP5_psl__DJFM_lag-4_r31i1.same-init.nc', '/home/users/benhutch/alternate-lag-processed-data/NAO_CESM1-1-CAM5-CMIP5_psl__DJFM_lag-4_r32i1.same-init.nc', '/home/users/benhutch/alternate-lag-processed-data/NAO_CESM1-1-CAM5-CMIP5_psl__DJFM_lag-4_r33i1.same-init.nc', '/home/users/benhutch/alternate-lag-processed-data/NAO_CESM1-1-CAM5-CMIP5_psl__DJFM_lag-4_r34i1.same-init.nc', '/home/users/benhutch/alternate-lag-processed-data/NAO_CESM1-1-CAM5-CMIP5_psl__DJFM_lag-4_r35i1.same-init.nc', '/home/users/benhutch/alternate-lag-processed-data/NAO_CESM1-1-CAM5-CMIP5_psl__DJFM_lag-4_r36i1.same-init.nc', '/home/users/benhutch/alternate-lag-processed-data/NAO_CESM1-1-CAM5-CMIP5_psl__DJFM_lag-4_r37i1.same-init.nc', '/home/users/benhutch/alternate-lag-processed-data/NAO_CESM1-1-CAM5-CMIP5_psl__DJFM_lag-4_r38i1.same-init.nc', '/home/users/benhutch/alternate-lag-processed-data/NAO_CESM1-1-CAM5-CMIP5_psl__DJFM_lag-4_r39i1.same-init.nc', '/home/users/benhutch/alternate-lag-processed-data/NAO_CESM1-1-CAM5-CMIP5_psl__DJFM_lag-4_r3i1.same-init.nc', '/home/users/benhutch/alternate-lag-processed-data/NAO_CESM1-1-CAM5-CMIP5_psl__DJFM_lag-4_r40i1.same-init.nc', '/home/users/benhutch/alternate-lag-processed-data/NAO_CESM1-1-CAM5-CMIP5_psl__DJFM_lag-4_r4i1.same-init.nc', '/home/users/benhutch/alternate-lag-processed-data/NAO_CESM1-1-CAM5-CMIP5_psl__DJFM_lag-4_r5i1.same-init.nc', '/home/users/benhutch/alternate-lag-processed-data/NAO_CESM1-1-CAM5-CMIP5_psl__DJFM_lag-4_r6i1.same-init.nc', '/home/users/benhutch/alternate-lag-processed-data/NAO_CESM1-1-CAM5-CMIP5_psl__DJFM_lag-4_r7i1.same-init.nc', '/home/users/benhutch/alternate-lag-processed-data/NAO_CESM1-1-CAM5-CMIP5_psl__DJFM_lag-4_r8i1.same-init.nc', '/home/users/benhutch/alternate-lag-processed-data/NAO_CESM1-1-CAM5-CMIP5_psl__DJFM_lag-4_r9i1.same-init.nc']\n",
      "Searching for files in  /home/users/benhutch/alternate-lag-processed-data/*NorCPM1*same-init.nc\n",
      "Files for NorCPM1: ['/home/users/benhutch/alternate-lag-processed-data/NAO_NorCPM1_psl__DJFM_lag-4_r10i1.same-init.nc', '/home/users/benhutch/alternate-lag-processed-data/NAO_NorCPM1_psl__DJFM_lag-4_r10i2.same-init.nc', '/home/users/benhutch/alternate-lag-processed-data/NAO_NorCPM1_psl__DJFM_lag-4_r1i1.same-init.nc', '/home/users/benhutch/alternate-lag-processed-data/NAO_NorCPM1_psl__DJFM_lag-4_r1i2.same-init.nc', '/home/users/benhutch/alternate-lag-processed-data/NAO_NorCPM1_psl__DJFM_lag-4_r2i1.same-init.nc', '/home/users/benhutch/alternate-lag-processed-data/NAO_NorCPM1_psl__DJFM_lag-4_r2i2.same-init.nc', '/home/users/benhutch/alternate-lag-processed-data/NAO_NorCPM1_psl__DJFM_lag-4_r3i1.same-init.nc', '/home/users/benhutch/alternate-lag-processed-data/NAO_NorCPM1_psl__DJFM_lag-4_r3i2.same-init.nc', '/home/users/benhutch/alternate-lag-processed-data/NAO_NorCPM1_psl__DJFM_lag-4_r4i1.same-init.nc', '/home/users/benhutch/alternate-lag-processed-data/NAO_NorCPM1_psl__DJFM_lag-4_r4i2.same-init.nc', '/home/users/benhutch/alternate-lag-processed-data/NAO_NorCPM1_psl__DJFM_lag-4_r5i1.same-init.nc', '/home/users/benhutch/alternate-lag-processed-data/NAO_NorCPM1_psl__DJFM_lag-4_r5i2.same-init.nc', '/home/users/benhutch/alternate-lag-processed-data/NAO_NorCPM1_psl__DJFM_lag-4_r6i1.same-init.nc', '/home/users/benhutch/alternate-lag-processed-data/NAO_NorCPM1_psl__DJFM_lag-4_r6i2.same-init.nc', '/home/users/benhutch/alternate-lag-processed-data/NAO_NorCPM1_psl__DJFM_lag-4_r7i1.same-init.nc', '/home/users/benhutch/alternate-lag-processed-data/NAO_NorCPM1_psl__DJFM_lag-4_r7i2.same-init.nc', '/home/users/benhutch/alternate-lag-processed-data/NAO_NorCPM1_psl__DJFM_lag-4_r8i1.same-init.nc', '/home/users/benhutch/alternate-lag-processed-data/NAO_NorCPM1_psl__DJFM_lag-4_r8i2.same-init.nc', '/home/users/benhutch/alternate-lag-processed-data/NAO_NorCPM1_psl__DJFM_lag-4_r9i1.same-init.nc', '/home/users/benhutch/alternate-lag-processed-data/NAO_NorCPM1_psl__DJFM_lag-4_r9i2.same-init.nc']\n"
     ]
    }
   ],
   "source": [
    "# Now we want to load all of the same init files\n",
    "# There should be 158 of them (we are missing CanESM5)\n",
    "# These contain year 2-6 running means\n",
    "# We will use them for our no lag case\n",
    "# Set up the models to be included to be the no_CanESM5 models\n",
    "models = dic.models_no_can\n",
    "\n",
    "# Set up the base directory\n",
    "base_dir = dic.base_directory\n",
    "\n",
    "# Use the function: load_data_same_init from functions_lag.py\n",
    "# to load the same init files\n",
    "same_init_members = fnc_lag.load_data_same_init(base_dir, models, \n",
    "                                                variable, forecast_range, season)"
   ]
  },
  {
   "cell_type": "code",
   "execution_count": 10,
   "metadata": {},
   "outputs": [
    {
     "name": "stdout",
     "output_type": "stream",
     "text": [
      "Dataset type: <class 'dict'>\n"
     ]
    }
   ],
   "source": [
    "# Now we want to process the same init model data before it is plotted\n",
    "# by extracting the data for out variable of interest (e.g. temperature)\n",
    "# and the time values\n",
    "# the function used for this is: process_data from functions_lag.py\n",
    "processed_same_init_members, same_init_members_time = fnc_lag.process_data(\n",
    "    same_init_members, variable)"
   ]
  },
  {
   "cell_type": "code",
   "execution_count": 15,
   "metadata": {
    "scrolled": true
   },
   "outputs": [
    {
     "ename": "AttributeError",
     "evalue": "'list' object has no attribute 'time'",
     "output_type": "error",
     "traceback": [
      "\u001b[0;31m---------------------------------------------------------------------------\u001b[0m",
      "\u001b[0;31mAttributeError\u001b[0m                            Traceback (most recent call last)",
      "Input \u001b[0;32mIn [15]\u001b[0m, in \u001b[0;36m<cell line: 1>\u001b[0;34m()\u001b[0m\n\u001b[0;32m----> 1\u001b[0m \u001b[43mprocessed_same_init_members\u001b[49m\u001b[43m[\u001b[49m\u001b[38;5;124;43m'\u001b[39;49m\u001b[38;5;124;43mNorCPM1\u001b[39;49m\u001b[38;5;124;43m'\u001b[39;49m\u001b[43m]\u001b[49m\u001b[38;5;241;43m.\u001b[39;49m\u001b[43mtime\u001b[49m\n",
      "\u001b[0;31mAttributeError\u001b[0m: 'list' object has no attribute 'time'"
     ]
    }
   ],
   "source": [
    "# test\n",
    "processed_same_init_members['NorCPM1'].time"
   ]
  },
  {
   "cell_type": "code",
   "execution_count": 12,
   "metadata": {},
   "outputs": [
    {
     "name": "stdout",
     "output_type": "stream",
     "text": [
      "obs_time type: <class 'numpy.ndarray'>\n",
      "model_time type: <class 'list'>\n",
      "obs_time: ['1959-12-31T00:00:00.000000000' '1960-12-31T00:00:00.000000000'\n",
      " '1961-12-31T00:00:00.000000000' '1962-12-31T00:00:00.000000000'\n",
      " '1963-12-31T00:00:00.000000000' '1964-12-31T00:00:00.000000000'\n",
      " '1965-12-31T00:00:00.000000000' '1966-12-31T00:00:00.000000000'\n",
      " '1967-12-31T00:00:00.000000000' '1968-12-31T00:00:00.000000000'\n",
      " '1969-12-31T00:00:00.000000000' '1970-12-31T00:00:00.000000000'\n",
      " '1971-12-31T00:00:00.000000000' '1972-12-31T00:00:00.000000000'\n",
      " '1973-12-31T00:00:00.000000000' '1974-12-31T00:00:00.000000000'\n",
      " '1975-12-31T00:00:00.000000000' '1976-12-31T00:00:00.000000000'\n",
      " '1977-12-31T00:00:00.000000000' '1978-12-31T00:00:00.000000000'\n",
      " '1979-12-31T00:00:00.000000000' '1980-12-31T00:00:00.000000000'\n",
      " '1981-12-31T00:00:00.000000000' '1982-12-31T00:00:00.000000000'\n",
      " '1983-12-31T00:00:00.000000000' '1984-12-31T00:00:00.000000000'\n",
      " '1985-12-31T00:00:00.000000000' '1986-12-31T00:00:00.000000000'\n",
      " '1987-12-31T00:00:00.000000000' '1988-12-31T00:00:00.000000000'\n",
      " '1989-12-31T00:00:00.000000000' '1990-12-31T00:00:00.000000000'\n",
      " '1991-12-31T00:00:00.000000000' '1992-12-31T00:00:00.000000000'\n",
      " '1993-12-31T00:00:00.000000000' '1994-12-31T00:00:00.000000000'\n",
      " '1995-12-31T00:00:00.000000000' '1996-12-31T00:00:00.000000000'\n",
      " '1997-12-31T00:00:00.000000000' '1998-12-31T00:00:00.000000000'\n",
      " '1999-12-31T00:00:00.000000000' '2000-12-31T00:00:00.000000000'\n",
      " '2001-12-31T00:00:00.000000000' '2002-12-31T00:00:00.000000000'\n",
      " '2003-12-31T00:00:00.000000000' '2004-12-31T00:00:00.000000000'\n",
      " '2005-12-31T00:00:00.000000000' '2006-12-31T00:00:00.000000000'\n",
      " '2007-12-31T00:00:00.000000000' '2008-12-31T00:00:00.000000000'\n",
      " '2009-12-31T00:00:00.000000000' '2010-12-31T00:00:00.000000000'\n",
      " '2011-12-31T00:00:00.000000000' '2012-12-31T00:00:00.000000000'\n",
      " '2013-12-31T00:00:00.000000000' '2014-12-31T00:00:00.000000000'\n",
      " '2015-12-31T00:00:00.000000000' '2016-12-31T00:00:00.000000000'\n",
      " '2017-12-31T00:00:00.000000000' '2018-12-31T00:00:00.000000000'\n",
      " '2019-12-31T00:00:00.000000000' '2020-12-31T00:00:00.000000000'\n",
      " '2021-12-31T00:00:00.000000000' '2022-12-31T00:00:00.000000000'\n",
      " '2023-12-31T00:00:00.000000000']\n",
      "model time: [array(['1965', '1966', '1967', '1968', '1969', '1970', '1971', '1972',\n",
      "       '1973', '1974', '1975', '1976', '1977', '1978', '1979', '1980',\n",
      "       '1981', '1982', '1983', '1984', '1985', '1986', '1987', '1988',\n",
      "       '1989', '1990', '1991', '1992', '1993', '1994', '1995', '1996',\n",
      "       '1997', '1998', '1999', '2000', '2001', '2002', '2003', '2004',\n",
      "       '2005', '2006', '2007', '2008', '2009', '2010', '2011', '2012',\n",
      "       '2013', '2014', '2015', '2016', '2017', '2018'],\n",
      "      dtype='datetime64[Y]'), array(['1965', '1966', '1967', '1968', '1969', '1970', '1971', '1972',\n",
      "       '1973', '1974', '1975', '1976', '1977', '1978', '1979', '1980',\n",
      "       '1981', '1982', '1983', '1984', '1985', '1986', '1987', '1988',\n",
      "       '1989', '1990', '1991', '1992', '1993', '1994', '1995', '1996',\n",
      "       '1997', '1998', '1999', '2000', '2001', '2002', '2003', '2004',\n",
      "       '2005', '2006', '2007', '2008', '2009', '2010', '2011', '2012',\n",
      "       '2013', '2014', '2015', '2016', '2017', '2018'],\n",
      "      dtype='datetime64[Y]'), array(['1965', '1966', '1967', '1968', '1969', '1970', '1971', '1972',\n",
      "       '1973', '1974', '1975', '1976', '1977', '1978', '1979', '1980',\n",
      "       '1981', '1982', '1983', '1984', '1985', '1986', '1987', '1988',\n",
      "       '1989', '1990', '1991', '1992', '1993', '1994', '1995', '1996',\n",
      "       '1997', '1998', '1999', '2000', '2001', '2002', '2003', '2004',\n",
      "       '2005', '2006', '2007', '2008', '2009', '2010', '2011', '2012',\n",
      "       '2013', '2014', '2015', '2016', '2017', '2018'],\n",
      "      dtype='datetime64[Y]'), array(['1965', '1966', '1967', '1968', '1969', '1970', '1971', '1972',\n",
      "       '1973', '1974', '1975', '1976', '1977', '1978', '1979', '1980',\n",
      "       '1981', '1982', '1983', '1984', '1985', '1986', '1987', '1988',\n",
      "       '1989', '1990', '1991', '1992', '1993', '1994', '1995', '1996',\n",
      "       '1997', '1998', '1999', '2000', '2001', '2002', '2003', '2004',\n",
      "       '2005', '2006', '2007', '2008', '2009', '2010', '2011', '2012',\n",
      "       '2013', '2014', '2015', '2016', '2017', '2018'],\n",
      "      dtype='datetime64[Y]'), array(['1965', '1966', '1967', '1968', '1969', '1970', '1971', '1972',\n",
      "       '1973', '1974', '1975', '1976', '1977', '1978', '1979', '1980',\n",
      "       '1981', '1982', '1983', '1984', '1985', '1986', '1987', '1988',\n",
      "       '1989', '1990', '1991', '1992', '1993', '1994', '1995', '1996',\n",
      "       '1997', '1998', '1999', '2000', '2001', '2002', '2003', '2004',\n",
      "       '2005', '2006', '2007', '2008', '2009', '2010', '2011', '2012',\n",
      "       '2013', '2014', '2015', '2016', '2017', '2018'],\n",
      "      dtype='datetime64[Y]'), array(['1965', '1966', '1967', '1968', '1969', '1970', '1971', '1972',\n",
      "       '1973', '1974', '1975', '1976', '1977', '1978', '1979', '1980',\n",
      "       '1981', '1982', '1983', '1984', '1985', '1986', '1987', '1988',\n",
      "       '1989', '1990', '1991', '1992', '1993', '1994', '1995', '1996',\n",
      "       '1997', '1998', '1999', '2000', '2001', '2002', '2003', '2004',\n",
      "       '2005', '2006', '2007', '2008', '2009', '2010', '2011', '2012',\n",
      "       '2013', '2014', '2015', '2016', '2017', '2018'],\n",
      "      dtype='datetime64[Y]'), array(['1965', '1966', '1967', '1968', '1969', '1970', '1971', '1972',\n",
      "       '1973', '1974', '1975', '1976', '1977', '1978', '1979', '1980',\n",
      "       '1981', '1982', '1983', '1984', '1985', '1986', '1987', '1988',\n",
      "       '1989', '1990', '1991', '1992', '1993', '1994', '1995', '1996',\n",
      "       '1997', '1998', '1999', '2000', '2001', '2002', '2003', '2004',\n",
      "       '2005', '2006', '2007', '2008', '2009', '2010', '2011', '2012',\n",
      "       '2013', '2014', '2015', '2016', '2017', '2018'],\n",
      "      dtype='datetime64[Y]'), array(['1965', '1966', '1967', '1968', '1969', '1970', '1971', '1972',\n",
      "       '1973', '1974', '1975', '1976', '1977', '1978', '1979', '1980',\n",
      "       '1981', '1982', '1983', '1984', '1985', '1986', '1987', '1988',\n",
      "       '1989', '1990', '1991', '1992', '1993', '1994', '1995', '1996',\n",
      "       '1997', '1998', '1999', '2000', '2001', '2002', '2003', '2004',\n",
      "       '2005', '2006', '2007', '2008', '2009', '2010', '2011', '2012',\n",
      "       '2013', '2014', '2015', '2016', '2017', '2018'],\n",
      "      dtype='datetime64[Y]')]\n"
     ]
    },
    {
     "ename": "IndexError",
     "evalue": "index 0 is out of bounds for axis 0 with size 0",
     "output_type": "error",
     "traceback": [
      "\u001b[0;31m---------------------------------------------------------------------------\u001b[0m",
      "\u001b[0;31mIndexError\u001b[0m                                Traceback (most recent call last)",
      "Input \u001b[0;32mIn [12]\u001b[0m, in \u001b[0;36m<cell line: 13>\u001b[0;34m()\u001b[0m\n\u001b[1;32m     10\u001b[0m obs_time \u001b[38;5;241m=\u001b[39m obs_nao_index\u001b[38;5;241m.\u001b[39mtime\u001b[38;5;241m.\u001b[39mvalues\n\u001b[1;32m     12\u001b[0m \u001b[38;5;66;03m# Run the function\u001b[39;00m\n\u001b[0;32m---> 13\u001b[0m \u001b[43mpnd\u001b[49m\u001b[38;5;241;43m.\u001b[39;49m\u001b[43mplot_ensemble_members_and_mean\u001b[49m\u001b[43m(\u001b[49m\u001b[43mmodels\u001b[49m\u001b[43m,\u001b[49m\u001b[43m \u001b[49m\u001b[43mmodel_times\u001b[49m\u001b[43m,\u001b[49m\u001b[43m \u001b[49m\u001b[43mmodel_nao_anoms\u001b[49m\u001b[43m,\u001b[49m\n\u001b[1;32m     14\u001b[0m \u001b[43m                                    \u001b[49m\u001b[43mobs_nao_anom\u001b[49m\u001b[43m,\u001b[49m\u001b[43m \u001b[49m\u001b[43mobs_time\u001b[49m\u001b[43m)\u001b[49m\n",
      "File \u001b[0;32m~/lagging-NAO-test-suite/processing_NAO_data.py:986\u001b[0m, in \u001b[0;36mplot_ensemble_members_and_mean\u001b[0;34m(models, model_times_by_model, model_nao_anoms_by_model, obs_nao_anom, obs_time)\u001b[0m\n\u001b[1;32m    982\u001b[0m \u001b[38;5;28mprint\u001b[39m(\u001b[38;5;124m\"\u001b[39m\u001b[38;5;124mmodel time:\u001b[39m\u001b[38;5;124m\"\u001b[39m, \u001b[38;5;28mlist\u001b[39m(model_times_by_model\u001b[38;5;241m.\u001b[39mvalues())[\u001b[38;5;241m0\u001b[39m])\n\u001b[1;32m    984\u001b[0m \u001b[38;5;66;03m# Calculate the ACC score for the \\\u001b[39;00m\n\u001b[1;32m    985\u001b[0m \u001b[38;5;66;03m# short period using the function pearsonr_score\u001b[39;00m\n\u001b[0;32m--> 986\u001b[0m acc_score_short, p_value_short \u001b[38;5;241m=\u001b[39m \u001b[43mpearsonr_score\u001b[49m\u001b[43m(\u001b[49m\u001b[43mobs_nao_anom\u001b[49m\u001b[43m,\u001b[49m\u001b[43m \u001b[49m\u001b[43mgrand_ensemble_mean\u001b[49m\u001b[43m,\u001b[49m\u001b[43m \u001b[49m\u001b[38;5;28;43mlist\u001b[39;49m\u001b[43m(\u001b[49m\u001b[43mmodel_times_by_model\u001b[49m\u001b[38;5;241;43m.\u001b[39;49m\u001b[43mvalues\u001b[49m\u001b[43m(\u001b[49m\u001b[43m)\u001b[49m\u001b[43m)\u001b[49m\u001b[43m[\u001b[49m\u001b[38;5;241;43m0\u001b[39;49m\u001b[43m]\u001b[49m\u001b[43m,\u001b[49m\u001b[43m \u001b[49m\u001b[43mobs_time\u001b[49m\u001b[43m,\u001b[49m\u001b[43m \u001b[49m\u001b[38;5;124;43m\"\u001b[39;49m\u001b[38;5;124;43m1966-01-01\u001b[39;49m\u001b[38;5;124;43m\"\u001b[39;49m\u001b[43m,\u001b[49m\u001b[38;5;124;43m\"\u001b[39;49m\u001b[38;5;124;43m2010-12-31\u001b[39;49m\u001b[38;5;124;43m\"\u001b[39;49m\u001b[43m)\u001b[49m\n\u001b[1;32m    988\u001b[0m \u001b[38;5;66;03m# Calculate the ACC score for the \\\u001b[39;00m\n\u001b[1;32m    989\u001b[0m \u001b[38;5;66;03m# long period using the function pearsonr_score\u001b[39;00m\n\u001b[1;32m    990\u001b[0m \u001b[38;5;66;03m# long period 1966 - 2019\u001b[39;00m\n\u001b[1;32m    991\u001b[0m acc_score_long, p_value_long \u001b[38;5;241m=\u001b[39m pearsonr_score(obs_nao_anom, grand_ensemble_mean, \u001b[38;5;28mlist\u001b[39m(model_times_by_model\u001b[38;5;241m.\u001b[39mvalues())[\u001b[38;5;241m0\u001b[39m], obs_time, \u001b[38;5;124m\"\u001b[39m\u001b[38;5;124m1966-01-01\u001b[39m\u001b[38;5;124m\"\u001b[39m,\u001b[38;5;124m\"\u001b[39m\u001b[38;5;124m2019-12-31\u001b[39m\u001b[38;5;124m\"\u001b[39m)\n",
      "File \u001b[0;32m~/lagging-NAO-test-suite/processing_NAO_data.py:340\u001b[0m, in \u001b[0;36mpearsonr_score\u001b[0;34m(obs, model, model_times, obs_times, start_date, end_date)\u001b[0m\n\u001b[1;32m    332\u001b[0m obs_times \u001b[38;5;241m=\u001b[39m np\u001b[38;5;241m.\u001b[39mvectorize(pd\u001b[38;5;241m.\u001b[39mTimestamp)(obs_times)\n\u001b[1;32m    334\u001b[0m \u001b[38;5;66;03m# debugging for NAO matching\u001b[39;00m\n\u001b[1;32m    335\u001b[0m \u001b[38;5;66;03m# print(\"model times\", model_times)\u001b[39;00m\n\u001b[1;32m    336\u001b[0m \u001b[38;5;66;03m# print(\"model times shape\", np.shape(model_times))\u001b[39;00m\n\u001b[1;32m    337\u001b[0m \u001b[38;5;66;03m# print(\"model times type\", type(model_times))\u001b[39;00m\n\u001b[1;32m    338\u001b[0m \n\u001b[1;32m    339\u001b[0m \u001b[38;5;66;03m# Analyze dimensions of model_times and obs_times\u001b[39;00m\n\u001b[0;32m--> 340\u001b[0m model_start_index \u001b[38;5;241m=\u001b[39m \u001b[43mnp\u001b[49m\u001b[38;5;241;43m.\u001b[39;49m\u001b[43mwhere\u001b[49m\u001b[43m(\u001b[49m\u001b[43mmodel_times\u001b[49m\u001b[43m \u001b[49m\u001b[38;5;241;43m==\u001b[39;49m\u001b[43m \u001b[49m\u001b[43mstart_date\u001b[49m\u001b[43m)\u001b[49m\u001b[43m[\u001b[49m\u001b[38;5;241;43m0\u001b[39;49m\u001b[43m]\u001b[49m\u001b[43m[\u001b[49m\u001b[38;5;241;43m0\u001b[39;49m\u001b[43m]\u001b[49m\n\u001b[1;32m    341\u001b[0m model_end_index \u001b[38;5;241m=\u001b[39m np\u001b[38;5;241m.\u001b[39mwhere(model_times \u001b[38;5;241m<\u001b[39m\u001b[38;5;241m=\u001b[39m end_date)[\u001b[38;5;241m0\u001b[39m][\u001b[38;5;241m-\u001b[39m\u001b[38;5;241m1\u001b[39m]\n\u001b[1;32m    342\u001b[0m obs_start_index \u001b[38;5;241m=\u001b[39m np\u001b[38;5;241m.\u001b[39mwhere(obs_times \u001b[38;5;241m>\u001b[39m\u001b[38;5;241m=\u001b[39m start_date)[\u001b[38;5;241m0\u001b[39m][\u001b[38;5;241m0\u001b[39m]\n",
      "\u001b[0;31mIndexError\u001b[0m: index 0 is out of bounds for axis 0 with size 0"
     ]
    },
    {
     "data": {
      "image/png": "[encoded data removed]",
      "text/plain": [
       "<Figure size 720x432 with 1 Axes>"
      ]
     },
     "metadata": {
      "needs_background": "light"
     },
     "output_type": "display_data"
    }
   ],
   "source": [
    "# Now we want to plot the no lag case for the 158 members\n",
    "# Using the plot_ensemble_members_and_mean function\n",
    "# from processing_NAO_data.py (pnd.)\n",
    "\n",
    "# Set up the arguments for the function\n",
    "models = dic.models_no_can\n",
    "model_times = same_init_members_time\n",
    "model_nao_anoms = processed_same_init_members\n",
    "obs_nao_anom = obs_nao_index.values\n",
    "obs_time = obs_nao_index.time.values\n",
    "\n",
    "# Run the function\n",
    "pnd.plot_ensemble_members_and_mean(models, model_times, model_nao_anoms,\n",
    "                                    obs_nao_anom, obs_time) "
   ]
  }
 ],
 "metadata": {
  "kernelspec": {
   "display_name": "bens-python-environment",
   "language": "python",
   "name": "bens-python-environment"
  },
  "language_info": {
   "codemirror_mode": {
    "name": "ipython",
    "version": 3
   },
   "file_extension": ".py",
   "mimetype": "text/x-python",
   "name": "python",
   "nbconvert_exporter": "python",
   "pygments_lexer": "ipython3",
   "version": "3.10.5"
  }
 },
 "nbformat": 4,
 "nbformat_minor": 4
}
