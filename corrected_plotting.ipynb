{
 "cells": [
  {
   "cell_type": "code",
   "execution_count": 1,
   "metadata": {},
   "outputs": [],
   "source": [
    "# Local imports\n",
    "import argparse\n",
    "import glob\n",
    "import os\n",
    "import sys\n",
    "import re\n",
    "\n",
    "# Third-party imports\n",
    "import xarray as xr\n",
    "import numpy as np\n",
    "import scipy.stats as stats\n",
    "import matplotlib.pyplot as plt\n",
    "import pandas as pd\n",
    "from datetime import datetime\n",
    "import cftime"
   ]
  },
  {
   "cell_type": "code",
   "execution_count": 2,
   "metadata": {},
   "outputs": [],
   "source": [
    "# Import the dictionaries\n",
    "import dictionaries as dic\n",
    "\n",
    "# Import the functions\n",
    "import processing_NAO_data as pnd\n",
    "import functions_lag as fnc_lag\n",
    "import functions_skill_maps as fnc_sm"
   ]
  },
  {
   "cell_type": "code",
   "execution_count": 3,
   "metadata": {},
   "outputs": [],
   "source": [
    "# First thing to do is to process the observations\n",
    "# We need to set up the parameters for this\n",
    "forecast_range = \"2-6\"\n",
    "season = \"DJFM\"\n",
    "variable = \"psl\"\n",
    "obs_var_name = \"psl\"\n",
    "region_grid = \"north-atlantic\"\n",
    "models = dic.models # all models for psl\n",
    "observations_path = dic.full_era5 # contains all months and variables"
   ]
  },
  {
   "cell_type": "code",
   "execution_count": 4,
   "metadata": {},
   "outputs": [
    {
     "name": "stdout",
     "output_type": "stream",
     "text": [
      "Forecast range: 2 - 6\n",
      "Rolling mean range: 5\n"
     ]
    }
   ],
   "source": [
    "# First use the function to process the data for the azores region\n",
    "# define the region\n",
    "region = \"azores\"\n",
    "\n",
    "# here we are using the function process_observations\n",
    "# from functions_skill_maps.py\n",
    "obs_azores = fnc_sm.process_observations(variable, region, region_grid,\n",
    "                                          forecast_range, season, \n",
    "                                          observations_path, obs_var_name)"
   ]
  },
  {
   "cell_type": "code",
   "execution_count": 5,
   "metadata": {},
   "outputs": [
    {
     "name": "stdout",
     "output_type": "stream",
     "text": [
      "Forecast range: 2 - 6\n",
      "Rolling mean range: 5\n"
     ]
    }
   ],
   "source": [
    "# Now do the same but for the iceland region\n",
    "region = \"iceland\"\n",
    "\n",
    "# Run the function process_observations\n",
    "obs_iceland = fnc_sm.process_observations(variable, region, region_grid,\n",
    "                                          forecast_range, season, \n",
    "                                          observations_path, obs_var_name)"
   ]
  },
  {
   "cell_type": "code",
   "execution_count": 6,
   "metadata": {},
   "outputs": [],
   "source": [
    "# Now we have obs anomaly fields for year 2-6 DJFM psl\n",
    "# for both the azores and iceland gridboxes\n",
    "# we want to take the fieldmean of these\n",
    "# then subtract iceland from azores\n",
    "# use the calculate_nao_index function from functions_skill_maps.py for this\n",
    "obs_nao_index = fnc_sm.calculate_nao_index(obs_azores, obs_iceland)"
   ]
  },
  {
   "cell_type": "code",
   "execution_count": 11,
   "metadata": {},
   "outputs": [],
   "source": [
    "# obs_nao_index.values"
   ]
  },
  {
   "cell_type": "code",
   "execution_count": 10,
   "metadata": {},
   "outputs": [],
   "source": [
    "# obs_nao_index.time"
   ]
  },
  {
   "cell_type": "code",
   "execution_count": null,
   "metadata": {},
   "outputs": [],
   "source": [
    "# Now we want to load all of the same init files\n",
    "# There should be 158 of them (we are missing CanESM5)\n",
    "# These contain year 2-6 running means\n",
    "# We will use them for our no lag case"
   ]
  }
 ],
 "metadata": {
  "kernelspec": {
   "display_name": "bens-python-environment",
   "language": "python",
   "name": "bens-python-environment"
  },
  "language_info": {
   "codemirror_mode": {
    "name": "ipython",
    "version": 3
   },
   "file_extension": ".py",
   "mimetype": "text/x-python",
   "name": "python",
   "nbconvert_exporter": "python",
   "pygments_lexer": "ipython3",
   "version": "3.10.5"
  }
 },
 "nbformat": 4,
 "nbformat_minor": 4
}
