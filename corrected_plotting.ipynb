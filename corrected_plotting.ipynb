{
 "cells": [
  {
   "cell_type": "code",
   "execution_count": 1,
   "metadata": {},
   "outputs": [],
   "source": [
    "# Local imports\n",
    "import argparse\n",
    "import glob\n",
    "import os\n",
    "import sys\n",
    "import re\n",
    "\n",
    "# Third-party imports\n",
    "import xarray as xr\n",
    "import numpy as np\n",
    "import scipy.stats as stats\n",
    "import matplotlib.pyplot as plt\n",
    "import pandas as pd\n",
    "from datetime import datetime\n",
    "import cftime"
   ]
  },
  {
   "cell_type": "code",
   "execution_count": 2,
   "metadata": {},
   "outputs": [],
   "source": [
    "# Import the dictionaries\n",
    "import dictionaries as dic\n",
    "\n",
    "# Import the functions\n",
    "import processing_NAO_data as pnd\n",
    "import functions_lag as fnc_lag\n",
    "import functions_skill_maps as fnc_sm"
   ]
  },
  {
   "cell_type": "code",
   "execution_count": 3,
   "metadata": {},
   "outputs": [],
   "source": [
    "# First thing to do is to process the observations\n",
    "# We need to set up the parameters for this\n",
    "forecast_range = \"2-6\"\n",
    "season = \"DJFM\"\n",
    "variable = \"psl\"\n",
    "obs_var_name = \"psl\"\n",
    "region_grid = \"north-atlantic\"\n",
    "models = dic.models # all models for psl\n",
    "observations_path = dic.full_era5 # contains all months and variables"
   ]
  },
  {
   "cell_type": "code",
   "execution_count": 4,
   "metadata": {},
   "outputs": [
    {
     "name": "stdout",
     "output_type": "stream",
     "text": [
      "File already exists\n",
      "Forecast range: 2 - 6\n",
      "Rolling mean range: 5\n"
     ]
    }
   ],
   "source": [
    "# First use the function to process the data for the azores region\n",
    "# define the region\n",
    "region = \"azores\"\n",
    "\n",
    "# here we are using the function process_observations\n",
    "# from functions_skill_maps.py\n",
    "obs_azores = fnc_sm.process_observations(variable, region, region_grid,\n",
    "                                          forecast_range, season, \n",
    "                                          observations_path, obs_var_name)"
   ]
  },
  {
   "cell_type": "code",
   "execution_count": 5,
   "metadata": {},
   "outputs": [
    {
     "name": "stdout",
     "output_type": "stream",
     "text": [
      "File already exists\n",
      "Forecast range: 2 - 6\n",
      "Rolling mean range: 5\n"
     ]
    }
   ],
   "source": [
    "# Now do the same but for the iceland region\n",
    "region = \"iceland\"\n",
    "\n",
    "# Run the function process_observations\n",
    "obs_iceland = fnc_sm.process_observations(variable, region, region_grid,\n",
    "                                          forecast_range, season, \n",
    "                                          observations_path, obs_var_name)"
   ]
  },
  {
   "cell_type": "code",
   "execution_count": 6,
   "metadata": {},
   "outputs": [],
   "source": [
    "# Now we have obs anomaly fields for year 2-6 DJFM psl\n",
    "# for both the azores and iceland gridboxes\n",
    "# we want to take the fieldmean of these\n",
    "# then subtract iceland from azores\n",
    "# use the calculate_nao_index function from functions_skill_maps.py for this\n",
    "obs_nao_index = fnc_sm.calculate_nao_index(obs_azores, obs_iceland)"
   ]
  },
  {
   "cell_type": "code",
   "execution_count": 7,
   "metadata": {},
   "outputs": [],
   "source": [
    "# obs_nao_index.values"
   ]
  },
  {
   "cell_type": "code",
   "execution_count": 8,
   "metadata": {},
   "outputs": [],
   "source": [
    "# obs_nao_index.time"
   ]
  },
  {
   "cell_type": "code",
   "execution_count": 9,
   "metadata": {},
   "outputs": [
    {
     "name": "stdout",
     "output_type": "stream",
     "text": [
      "Searching for files in  /home/users/benhutch/alternate-lag-processed-data/*BCC-CSM2-MR*same-init.nc\n",
      "Files for BCC-CSM2-MR: ['/home/users/benhutch/alternate-lag-processed-data/NAO_BCC-CSM2-MR_psl__DJFM_lag-4_r1i1.same-init.nc', '/home/users/benhutch/alternate-lag-processed-data/NAO_BCC-CSM2-MR_psl__DJFM_lag-4_r2i1.same-init.nc', '/home/users/benhutch/alternate-lag-processed-data/NAO_BCC-CSM2-MR_psl__DJFM_lag-4_r3i1.same-init.nc', '/home/users/benhutch/alternate-lag-processed-data/NAO_BCC-CSM2-MR_psl__DJFM_lag-4_r4i1.same-init.nc', '/home/users/benhutch/alternate-lag-processed-data/NAO_BCC-CSM2-MR_psl__DJFM_lag-4_r5i1.same-init.nc', '/home/users/benhutch/alternate-lag-processed-data/NAO_BCC-CSM2-MR_psl__DJFM_lag-4_r6i1.same-init.nc', '/home/users/benhutch/alternate-lag-processed-data/NAO_BCC-CSM2-MR_psl__DJFM_lag-4_r7i1.same-init.nc', '/home/users/benhutch/alternate-lag-processed-data/NAO_BCC-CSM2-MR_psl__DJFM_lag-4_r8i1.same-init.nc']\n",
      "Searching for files in  /home/users/benhutch/alternate-lag-processed-data/*MPI-ESM1-2-HR*same-init.nc\n",
      "Files for MPI-ESM1-2-HR: ['/home/users/benhutch/alternate-lag-processed-data/NAO_MPI-ESM1-2-HR_psl__DJFM_lag-4_r10i1.same-init.nc', '/home/users/benhutch/alternate-lag-processed-data/NAO_MPI-ESM1-2-HR_psl__DJFM_lag-4_r1i1.same-init.nc', '/home/users/benhutch/alternate-lag-processed-data/NAO_MPI-ESM1-2-HR_psl__DJFM_lag-4_r2i1.same-init.nc', '/home/users/benhutch/alternate-lag-processed-data/NAO_MPI-ESM1-2-HR_psl__DJFM_lag-4_r3i1.same-init.nc', '/home/users/benhutch/alternate-lag-processed-data/NAO_MPI-ESM1-2-HR_psl__DJFM_lag-4_r4i1.same-init.nc', '/home/users/benhutch/alternate-lag-processed-data/NAO_MPI-ESM1-2-HR_psl__DJFM_lag-4_r5i1.same-init.nc', '/home/users/benhutch/alternate-lag-processed-data/NAO_MPI-ESM1-2-HR_psl__DJFM_lag-4_r6i1.same-init.nc', '/home/users/benhutch/alternate-lag-processed-data/NAO_MPI-ESM1-2-HR_psl__DJFM_lag-4_r7i1.same-init.nc', '/home/users/benhutch/alternate-lag-processed-data/NAO_MPI-ESM1-2-HR_psl__DJFM_lag-4_r8i1.same-init.nc', '/home/users/benhutch/alternate-lag-processed-data/NAO_MPI-ESM1-2-HR_psl__DJFM_lag-4_r9i1.same-init.nc']\n",
      "Searching for files in  /home/users/benhutch/alternate-lag-processed-data/*CMCC-CM2-SR5*same-init.nc\n",
      "Files for CMCC-CM2-SR5: ['/home/users/benhutch/alternate-lag-processed-data/NAO_CMCC-CM2-SR5_psl__DJFM_lag-4_r10i1.same-init.nc', '/home/users/benhutch/alternate-lag-processed-data/NAO_CMCC-CM2-SR5_psl__DJFM_lag-4_r1i1.same-init.nc', '/home/users/benhutch/alternate-lag-processed-data/NAO_CMCC-CM2-SR5_psl__DJFM_lag-4_r2i1.same-init.nc', '/home/users/benhutch/alternate-lag-processed-data/NAO_CMCC-CM2-SR5_psl__DJFM_lag-4_r3i1.same-init.nc', '/home/users/benhutch/alternate-lag-processed-data/NAO_CMCC-CM2-SR5_psl__DJFM_lag-4_r4i1.same-init.nc', '/home/users/benhutch/alternate-lag-processed-data/NAO_CMCC-CM2-SR5_psl__DJFM_lag-4_r5i1.same-init.nc', '/home/users/benhutch/alternate-lag-processed-data/NAO_CMCC-CM2-SR5_psl__DJFM_lag-4_r6i1.same-init.nc', '/home/users/benhutch/alternate-lag-processed-data/NAO_CMCC-CM2-SR5_psl__DJFM_lag-4_r7i1.same-init.nc', '/home/users/benhutch/alternate-lag-processed-data/NAO_CMCC-CM2-SR5_psl__DJFM_lag-4_r8i1.same-init.nc', '/home/users/benhutch/alternate-lag-processed-data/NAO_CMCC-CM2-SR5_psl__DJFM_lag-4_r9i1.same-init.nc']\n",
      "Searching for files in  /home/users/benhutch/alternate-lag-processed-data/*HadGEM3-GC31-MM*same-init.nc\n",
      "Files for HadGEM3-GC31-MM: ['/home/users/benhutch/alternate-lag-processed-data/NAO_HadGEM3-GC31-MM_psl__DJFM_lag-4_r10i1.same-init.nc', '/home/users/benhutch/alternate-lag-processed-data/NAO_HadGEM3-GC31-MM_psl__DJFM_lag-4_r1i1.same-init.nc', '/home/users/benhutch/alternate-lag-processed-data/NAO_HadGEM3-GC31-MM_psl__DJFM_lag-4_r2i1.same-init.nc', '/home/users/benhutch/alternate-lag-processed-data/NAO_HadGEM3-GC31-MM_psl__DJFM_lag-4_r3i1.same-init.nc', '/home/users/benhutch/alternate-lag-processed-data/NAO_HadGEM3-GC31-MM_psl__DJFM_lag-4_r4i1.same-init.nc', '/home/users/benhutch/alternate-lag-processed-data/NAO_HadGEM3-GC31-MM_psl__DJFM_lag-4_r5i1.same-init.nc', '/home/users/benhutch/alternate-lag-processed-data/NAO_HadGEM3-GC31-MM_psl__DJFM_lag-4_r6i1.same-init.nc', '/home/users/benhutch/alternate-lag-processed-data/NAO_HadGEM3-GC31-MM_psl__DJFM_lag-4_r7i1.same-init.nc', '/home/users/benhutch/alternate-lag-processed-data/NAO_HadGEM3-GC31-MM_psl__DJFM_lag-4_r8i1.same-init.nc', '/home/users/benhutch/alternate-lag-processed-data/NAO_HadGEM3-GC31-MM_psl__DJFM_lag-4_r9i1.same-init.nc']\n",
      "Searching for files in  /home/users/benhutch/alternate-lag-processed-data/*EC-Earth3*same-init.nc\n",
      "Files for EC-Earth3: ['/home/users/benhutch/alternate-lag-processed-data/NAO_EC-Earth3_psl__DJFM_lag-4_r10i1.same-init.nc', '/home/users/benhutch/alternate-lag-processed-data/NAO_EC-Earth3_psl__DJFM_lag-4_r10i2.same-init.nc', '/home/users/benhutch/alternate-lag-processed-data/NAO_EC-Earth3_psl__DJFM_lag-4_r1i1.same-init.nc', '/home/users/benhutch/alternate-lag-processed-data/NAO_EC-Earth3_psl__DJFM_lag-4_r2i1.same-init.nc', '/home/users/benhutch/alternate-lag-processed-data/NAO_EC-Earth3_psl__DJFM_lag-4_r3i1.same-init.nc', '/home/users/benhutch/alternate-lag-processed-data/NAO_EC-Earth3_psl__DJFM_lag-4_r4i1.same-init.nc', '/home/users/benhutch/alternate-lag-processed-data/NAO_EC-Earth3_psl__DJFM_lag-4_r5i1.same-init.nc', '/home/users/benhutch/alternate-lag-processed-data/NAO_EC-Earth3_psl__DJFM_lag-4_r6i1.same-init.nc', '/home/users/benhutch/alternate-lag-processed-data/NAO_EC-Earth3_psl__DJFM_lag-4_r6i2.same-init.nc', '/home/users/benhutch/alternate-lag-processed-data/NAO_EC-Earth3_psl__DJFM_lag-4_r7i1.same-init.nc', '/home/users/benhutch/alternate-lag-processed-data/NAO_EC-Earth3_psl__DJFM_lag-4_r7i2.same-init.nc', '/home/users/benhutch/alternate-lag-processed-data/NAO_EC-Earth3_psl__DJFM_lag-4_r8i1.same-init.nc', '/home/users/benhutch/alternate-lag-processed-data/NAO_EC-Earth3_psl__DJFM_lag-4_r8i2.same-init.nc', '/home/users/benhutch/alternate-lag-processed-data/NAO_EC-Earth3_psl__DJFM_lag-4_r9i1.same-init.nc', '/home/users/benhutch/alternate-lag-processed-data/NAO_EC-Earth3_psl__DJFM_lag-4_r9i2.same-init.nc']\n",
      "Searching for files in  /home/users/benhutch/alternate-lag-processed-data/*MPI-ESM1-2-LR*same-init.nc\n",
      "Files for MPI-ESM1-2-LR: ['/home/users/benhutch/alternate-lag-processed-data/NAO_MPI-ESM1-2-LR_psl__DJFM_lag-4_r10i1.same-init.nc', '/home/users/benhutch/alternate-lag-processed-data/NAO_MPI-ESM1-2-LR_psl__DJFM_lag-4_r11i1.same-init.nc', '/home/users/benhutch/alternate-lag-processed-data/NAO_MPI-ESM1-2-LR_psl__DJFM_lag-4_r12i1.same-init.nc', '/home/users/benhutch/alternate-lag-processed-data/NAO_MPI-ESM1-2-LR_psl__DJFM_lag-4_r13i1.same-init.nc', '/home/users/benhutch/alternate-lag-processed-data/NAO_MPI-ESM1-2-LR_psl__DJFM_lag-4_r14i1.same-init.nc', '/home/users/benhutch/alternate-lag-processed-data/NAO_MPI-ESM1-2-LR_psl__DJFM_lag-4_r15i1.same-init.nc', '/home/users/benhutch/alternate-lag-processed-data/NAO_MPI-ESM1-2-LR_psl__DJFM_lag-4_r16i1.same-init.nc', '/home/users/benhutch/alternate-lag-processed-data/NAO_MPI-ESM1-2-LR_psl__DJFM_lag-4_r1i1.same-init.nc', '/home/users/benhutch/alternate-lag-processed-data/NAO_MPI-ESM1-2-LR_psl__DJFM_lag-4_r2i1.same-init.nc', '/home/users/benhutch/alternate-lag-processed-data/NAO_MPI-ESM1-2-LR_psl__DJFM_lag-4_r3i1.same-init.nc', '/home/users/benhutch/alternate-lag-processed-data/NAO_MPI-ESM1-2-LR_psl__DJFM_lag-4_r4i1.same-init.nc', '/home/users/benhutch/alternate-lag-processed-data/NAO_MPI-ESM1-2-LR_psl__DJFM_lag-4_r5i1.same-init.nc', '/home/users/benhutch/alternate-lag-processed-data/NAO_MPI-ESM1-2-LR_psl__DJFM_lag-4_r6i1.same-init.nc', '/home/users/benhutch/alternate-lag-processed-data/NAO_MPI-ESM1-2-LR_psl__DJFM_lag-4_r7i1.same-init.nc', '/home/users/benhutch/alternate-lag-processed-data/NAO_MPI-ESM1-2-LR_psl__DJFM_lag-4_r8i1.same-init.nc', '/home/users/benhutch/alternate-lag-processed-data/NAO_MPI-ESM1-2-LR_psl__DJFM_lag-4_r9i1.same-init.nc']\n",
      "Searching for files in  /home/users/benhutch/alternate-lag-processed-data/*FGOALS-f3-L*same-init.nc\n",
      "Files for FGOALS-f3-L: ['/home/users/benhutch/alternate-lag-processed-data/NAO_FGOALS-f3-L_psl__DJFM_lag-4_r1i1.same-init.nc', '/home/users/benhutch/alternate-lag-processed-data/NAO_FGOALS-f3-L_psl__DJFM_lag-4_r2i1.same-init.nc', '/home/users/benhutch/alternate-lag-processed-data/NAO_FGOALS-f3-L_psl__DJFM_lag-4_r3i1.same-init.nc', '/home/users/benhutch/alternate-lag-processed-data/NAO_FGOALS-f3-L_psl__DJFM_lag-4_r4i1.same-init.nc', '/home/users/benhutch/alternate-lag-processed-data/NAO_FGOALS-f3-L_psl__DJFM_lag-4_r5i1.same-init.nc', '/home/users/benhutch/alternate-lag-processed-data/NAO_FGOALS-f3-L_psl__DJFM_lag-4_r6i1.same-init.nc', '/home/users/benhutch/alternate-lag-processed-data/NAO_FGOALS-f3-L_psl__DJFM_lag-4_r7i1.same-init.nc', '/home/users/benhutch/alternate-lag-processed-data/NAO_FGOALS-f3-L_psl__DJFM_lag-4_r8i1.same-init.nc', '/home/users/benhutch/alternate-lag-processed-data/NAO_FGOALS-f3-L_psl__DJFM_lag-4_r9i1.same-init.nc']\n",
      "Searching for files in  /home/users/benhutch/alternate-lag-processed-data/*MIROC6*same-init.nc\n",
      "Files for MIROC6: ['/home/users/benhutch/alternate-lag-processed-data/NAO_MIROC6_psl__DJFM_lag-4_r10i1.same-init.nc', '/home/users/benhutch/alternate-lag-processed-data/NAO_MIROC6_psl__DJFM_lag-4_r1i1.same-init.nc', '/home/users/benhutch/alternate-lag-processed-data/NAO_MIROC6_psl__DJFM_lag-4_r2i1.same-init.nc', '/home/users/benhutch/alternate-lag-processed-data/NAO_MIROC6_psl__DJFM_lag-4_r3i1.same-init.nc', '/home/users/benhutch/alternate-lag-processed-data/NAO_MIROC6_psl__DJFM_lag-4_r4i1.same-init.nc', '/home/users/benhutch/alternate-lag-processed-data/NAO_MIROC6_psl__DJFM_lag-4_r5i1.same-init.nc', '/home/users/benhutch/alternate-lag-processed-data/NAO_MIROC6_psl__DJFM_lag-4_r6i1.same-init.nc', '/home/users/benhutch/alternate-lag-processed-data/NAO_MIROC6_psl__DJFM_lag-4_r7i1.same-init.nc', '/home/users/benhutch/alternate-lag-processed-data/NAO_MIROC6_psl__DJFM_lag-4_r8i1.same-init.nc', '/home/users/benhutch/alternate-lag-processed-data/NAO_MIROC6_psl__DJFM_lag-4_r9i1.same-init.nc']\n",
      "Searching for files in  /home/users/benhutch/alternate-lag-processed-data/*IPSL-CM6A-LR*same-init.nc\n",
      "Files for IPSL-CM6A-LR: ['/home/users/benhutch/alternate-lag-processed-data/NAO_IPSL-CM6A-LR_psl__DJFM_lag-4_r10i1.same-init.nc', '/home/users/benhutch/alternate-lag-processed-data/NAO_IPSL-CM6A-LR_psl__DJFM_lag-4_r1i1.same-init.nc', '/home/users/benhutch/alternate-lag-processed-data/NAO_IPSL-CM6A-LR_psl__DJFM_lag-4_r2i1.same-init.nc', '/home/users/benhutch/alternate-lag-processed-data/NAO_IPSL-CM6A-LR_psl__DJFM_lag-4_r3i1.same-init.nc', '/home/users/benhutch/alternate-lag-processed-data/NAO_IPSL-CM6A-LR_psl__DJFM_lag-4_r4i1.same-init.nc', '/home/users/benhutch/alternate-lag-processed-data/NAO_IPSL-CM6A-LR_psl__DJFM_lag-4_r5i1.same-init.nc', '/home/users/benhutch/alternate-lag-processed-data/NAO_IPSL-CM6A-LR_psl__DJFM_lag-4_r6i1.same-init.nc', '/home/users/benhutch/alternate-lag-processed-data/NAO_IPSL-CM6A-LR_psl__DJFM_lag-4_r7i1.same-init.nc', '/home/users/benhutch/alternate-lag-processed-data/NAO_IPSL-CM6A-LR_psl__DJFM_lag-4_r8i1.same-init.nc', '/home/users/benhutch/alternate-lag-processed-data/NAO_IPSL-CM6A-LR_psl__DJFM_lag-4_r9i1.same-init.nc']\n",
      "Searching for files in  /home/users/benhutch/alternate-lag-processed-data/*CESM1-1-CAM5-CMIP5*same-init.nc\n",
      "Files for CESM1-1-CAM5-CMIP5: ['/home/users/benhutch/alternate-lag-processed-data/NAO_CESM1-1-CAM5-CMIP5_psl__DJFM_lag-4_r10i1.same-init.nc', '/home/users/benhutch/alternate-lag-processed-data/NAO_CESM1-1-CAM5-CMIP5_psl__DJFM_lag-4_r11i1.same-init.nc', '/home/users/benhutch/alternate-lag-processed-data/NAO_CESM1-1-CAM5-CMIP5_psl__DJFM_lag-4_r12i1.same-init.nc', '/home/users/benhutch/alternate-lag-processed-data/NAO_CESM1-1-CAM5-CMIP5_psl__DJFM_lag-4_r13i1.same-init.nc', '/home/users/benhutch/alternate-lag-processed-data/NAO_CESM1-1-CAM5-CMIP5_psl__DJFM_lag-4_r14i1.same-init.nc', '/home/users/benhutch/alternate-lag-processed-data/NAO_CESM1-1-CAM5-CMIP5_psl__DJFM_lag-4_r15i1.same-init.nc', '/home/users/benhutch/alternate-lag-processed-data/NAO_CESM1-1-CAM5-CMIP5_psl__DJFM_lag-4_r16i1.same-init.nc', '/home/users/benhutch/alternate-lag-processed-data/NAO_CESM1-1-CAM5-CMIP5_psl__DJFM_lag-4_r17i1.same-init.nc', '/home/users/benhutch/alternate-lag-processed-data/NAO_CESM1-1-CAM5-CMIP5_psl__DJFM_lag-4_r18i1.same-init.nc', '/home/users/benhutch/alternate-lag-processed-data/NAO_CESM1-1-CAM5-CMIP5_psl__DJFM_lag-4_r19i1.same-init.nc', '/home/users/benhutch/alternate-lag-processed-data/NAO_CESM1-1-CAM5-CMIP5_psl__DJFM_lag-4_r1i1.same-init.nc', '/home/users/benhutch/alternate-lag-processed-data/NAO_CESM1-1-CAM5-CMIP5_psl__DJFM_lag-4_r20i1.same-init.nc', '/home/users/benhutch/alternate-lag-processed-data/NAO_CESM1-1-CAM5-CMIP5_psl__DJFM_lag-4_r21i1.same-init.nc', '/home/users/benhutch/alternate-lag-processed-data/NAO_CESM1-1-CAM5-CMIP5_psl__DJFM_lag-4_r22i1.same-init.nc', '/home/users/benhutch/alternate-lag-processed-data/NAO_CESM1-1-CAM5-CMIP5_psl__DJFM_lag-4_r23i1.same-init.nc', '/home/users/benhutch/alternate-lag-processed-data/NAO_CESM1-1-CAM5-CMIP5_psl__DJFM_lag-4_r24i1.same-init.nc', '/home/users/benhutch/alternate-lag-processed-data/NAO_CESM1-1-CAM5-CMIP5_psl__DJFM_lag-4_r25i1.same-init.nc', '/home/users/benhutch/alternate-lag-processed-data/NAO_CESM1-1-CAM5-CMIP5_psl__DJFM_lag-4_r26i1.same-init.nc', '/home/users/benhutch/alternate-lag-processed-data/NAO_CESM1-1-CAM5-CMIP5_psl__DJFM_lag-4_r27i1.same-init.nc', '/home/users/benhutch/alternate-lag-processed-data/NAO_CESM1-1-CAM5-CMIP5_psl__DJFM_lag-4_r28i1.same-init.nc', '/home/users/benhutch/alternate-lag-processed-data/NAO_CESM1-1-CAM5-CMIP5_psl__DJFM_lag-4_r29i1.same-init.nc', '/home/users/benhutch/alternate-lag-processed-data/NAO_CESM1-1-CAM5-CMIP5_psl__DJFM_lag-4_r2i1.same-init.nc', '/home/users/benhutch/alternate-lag-processed-data/NAO_CESM1-1-CAM5-CMIP5_psl__DJFM_lag-4_r30i1.same-init.nc', '/home/users/benhutch/alternate-lag-processed-data/NAO_CESM1-1-CAM5-CMIP5_psl__DJFM_lag-4_r31i1.same-init.nc', '/home/users/benhutch/alternate-lag-processed-data/NAO_CESM1-1-CAM5-CMIP5_psl__DJFM_lag-4_r32i1.same-init.nc', '/home/users/benhutch/alternate-lag-processed-data/NAO_CESM1-1-CAM5-CMIP5_psl__DJFM_lag-4_r33i1.same-init.nc', '/home/users/benhutch/alternate-lag-processed-data/NAO_CESM1-1-CAM5-CMIP5_psl__DJFM_lag-4_r34i1.same-init.nc', '/home/users/benhutch/alternate-lag-processed-data/NAO_CESM1-1-CAM5-CMIP5_psl__DJFM_lag-4_r35i1.same-init.nc', '/home/users/benhutch/alternate-lag-processed-data/NAO_CESM1-1-CAM5-CMIP5_psl__DJFM_lag-4_r36i1.same-init.nc', '/home/users/benhutch/alternate-lag-processed-data/NAO_CESM1-1-CAM5-CMIP5_psl__DJFM_lag-4_r37i1.same-init.nc', '/home/users/benhutch/alternate-lag-processed-data/NAO_CESM1-1-CAM5-CMIP5_psl__DJFM_lag-4_r38i1.same-init.nc', '/home/users/benhutch/alternate-lag-processed-data/NAO_CESM1-1-CAM5-CMIP5_psl__DJFM_lag-4_r39i1.same-init.nc', '/home/users/benhutch/alternate-lag-processed-data/NAO_CESM1-1-CAM5-CMIP5_psl__DJFM_lag-4_r3i1.same-init.nc', '/home/users/benhutch/alternate-lag-processed-data/NAO_CESM1-1-CAM5-CMIP5_psl__DJFM_lag-4_r40i1.same-init.nc', '/home/users/benhutch/alternate-lag-processed-data/NAO_CESM1-1-CAM5-CMIP5_psl__DJFM_lag-4_r4i1.same-init.nc', '/home/users/benhutch/alternate-lag-processed-data/NAO_CESM1-1-CAM5-CMIP5_psl__DJFM_lag-4_r5i1.same-init.nc', '/home/users/benhutch/alternate-lag-processed-data/NAO_CESM1-1-CAM5-CMIP5_psl__DJFM_lag-4_r6i1.same-init.nc', '/home/users/benhutch/alternate-lag-processed-data/NAO_CESM1-1-CAM5-CMIP5_psl__DJFM_lag-4_r7i1.same-init.nc', '/home/users/benhutch/alternate-lag-processed-data/NAO_CESM1-1-CAM5-CMIP5_psl__DJFM_lag-4_r8i1.same-init.nc', '/home/users/benhutch/alternate-lag-processed-data/NAO_CESM1-1-CAM5-CMIP5_psl__DJFM_lag-4_r9i1.same-init.nc']\n",
      "Searching for files in  /home/users/benhutch/alternate-lag-processed-data/*NorCPM1*same-init.nc\n",
      "Files for NorCPM1: ['/home/users/benhutch/alternate-lag-processed-data/NAO_NorCPM1_psl__DJFM_lag-4_r10i1.same-init.nc', '/home/users/benhutch/alternate-lag-processed-data/NAO_NorCPM1_psl__DJFM_lag-4_r10i2.same-init.nc', '/home/users/benhutch/alternate-lag-processed-data/NAO_NorCPM1_psl__DJFM_lag-4_r1i1.same-init.nc', '/home/users/benhutch/alternate-lag-processed-data/NAO_NorCPM1_psl__DJFM_lag-4_r1i2.same-init.nc', '/home/users/benhutch/alternate-lag-processed-data/NAO_NorCPM1_psl__DJFM_lag-4_r2i1.same-init.nc', '/home/users/benhutch/alternate-lag-processed-data/NAO_NorCPM1_psl__DJFM_lag-4_r2i2.same-init.nc', '/home/users/benhutch/alternate-lag-processed-data/NAO_NorCPM1_psl__DJFM_lag-4_r3i1.same-init.nc', '/home/users/benhutch/alternate-lag-processed-data/NAO_NorCPM1_psl__DJFM_lag-4_r3i2.same-init.nc', '/home/users/benhutch/alternate-lag-processed-data/NAO_NorCPM1_psl__DJFM_lag-4_r4i1.same-init.nc', '/home/users/benhutch/alternate-lag-processed-data/NAO_NorCPM1_psl__DJFM_lag-4_r4i2.same-init.nc', '/home/users/benhutch/alternate-lag-processed-data/NAO_NorCPM1_psl__DJFM_lag-4_r5i1.same-init.nc', '/home/users/benhutch/alternate-lag-processed-data/NAO_NorCPM1_psl__DJFM_lag-4_r5i2.same-init.nc', '/home/users/benhutch/alternate-lag-processed-data/NAO_NorCPM1_psl__DJFM_lag-4_r6i1.same-init.nc', '/home/users/benhutch/alternate-lag-processed-data/NAO_NorCPM1_psl__DJFM_lag-4_r6i2.same-init.nc', '/home/users/benhutch/alternate-lag-processed-data/NAO_NorCPM1_psl__DJFM_lag-4_r7i1.same-init.nc', '/home/users/benhutch/alternate-lag-processed-data/NAO_NorCPM1_psl__DJFM_lag-4_r7i2.same-init.nc', '/home/users/benhutch/alternate-lag-processed-data/NAO_NorCPM1_psl__DJFM_lag-4_r8i1.same-init.nc', '/home/users/benhutch/alternate-lag-processed-data/NAO_NorCPM1_psl__DJFM_lag-4_r8i2.same-init.nc', '/home/users/benhutch/alternate-lag-processed-data/NAO_NorCPM1_psl__DJFM_lag-4_r9i1.same-init.nc', '/home/users/benhutch/alternate-lag-processed-data/NAO_NorCPM1_psl__DJFM_lag-4_r9i2.same-init.nc']\n"
     ]
    }
   ],
   "source": [
    "# Now we want to load all of the same init files\n",
    "# There should be 158 of them (we are missing CanESM5)\n",
    "# These contain year 2-6 running means\n",
    "# We will use them for our no lag case\n",
    "# Set up the models to be included to be the no_CanESM5 models\n",
    "models = dic.models_no_can\n",
    "\n",
    "# Set up the base directory\n",
    "base_dir = dic.base_directory\n",
    "\n",
    "# Use the function: load_data_same_init from functions_lag.py\n",
    "# to load the same init files\n",
    "same_init_members = fnc_lag.load_data_same_init(base_dir, models, \n",
    "                                                variable, forecast_range, season)"
   ]
  },
  {
   "cell_type": "code",
   "execution_count": 10,
   "metadata": {},
   "outputs": [
    {
     "name": "stdout",
     "output_type": "stream",
     "text": [
      "Dataset type: <class 'dict'>\n"
     ]
    }
   ],
   "source": [
    "# Now we want to process the same init model data before it is plotted\n",
    "# by extracting the data for out variable of interest (e.g. temperature)\n",
    "# and the time values\n",
    "# the function used for this is: process_data from functions_lag.py\n",
    "processed_same_init_members, same_init_members_time = fnc_lag.process_data(\n",
    "    same_init_members, variable)"
   ]
  },
  {
   "cell_type": "code",
   "execution_count": 11,
   "metadata": {
    "collapsed": true,
    "jupyter": {
     "outputs_hidden": true
    }
   },
   "outputs": [
    {
     "data": {
      "text/plain": [
       "[<xarray.DataArray 'psl' (time: 54, lat: 1, lon: 1)>\n",
       " dask.array<open_dataset-1a78fd7d454a9f4e56eddf38c37edea7psl, shape=(54, 1, 1), dtype=float32, chunksize=(50, 1, 1), chunktype=numpy.ndarray>\n",
       " Coordinates:\n",
       "   * time     (time) object 1965-01-31 06:00:00 ... 2018-01-31 06:00:00\n",
       "   * lon      (lon) float64 0.0\n",
       "   * lat      (lat) float64 0.0\n",
       " Attributes:\n",
       "     standard_name:  air_pressure_at_mean_sea_level\n",
       "     long_name:      Sea Level Pressure\n",
       "     units:          Pa\n",
       "     cell_methods:   area: time: mean (interval: 5 minutes)\n",
       "     comment:        Sea Level Pressure\n",
       "     original_name:  PSL\n",
       "     cell_measures:  area: areacella,\n",
       " <xarray.DataArray 'psl' (time: 54, lat: 1, lon: 1)>\n",
       " dask.array<open_dataset-585972b8f139a82efea3cf169b89b8f0psl, shape=(54, 1, 1), dtype=float32, chunksize=(50, 1, 1), chunktype=numpy.ndarray>\n",
       " Coordinates:\n",
       "   * time     (time) object 1965-01-31 06:00:00 ... 2018-01-31 06:00:00\n",
       "   * lon      (lon) float64 0.0\n",
       "   * lat      (lat) float64 0.0\n",
       " Attributes:\n",
       "     standard_name:  air_pressure_at_mean_sea_level\n",
       "     long_name:      Sea Level Pressure\n",
       "     units:          Pa\n",
       "     cell_methods:   area: time: mean (interval: 5 minutes)\n",
       "     comment:        Sea Level Pressure\n",
       "     original_name:  PSL\n",
       "     cell_measures:  area: areacella,\n",
       " <xarray.DataArray 'psl' (time: 54, lat: 1, lon: 1)>\n",
       " dask.array<open_dataset-c2b78ce8fd291e932e395b00692d977fpsl, shape=(54, 1, 1), dtype=float32, chunksize=(50, 1, 1), chunktype=numpy.ndarray>\n",
       " Coordinates:\n",
       "   * time     (time) object 1965-01-31 06:00:00 ... 2018-01-31 06:00:00\n",
       "   * lon      (lon) float64 0.0\n",
       "   * lat      (lat) float64 0.0\n",
       " Attributes:\n",
       "     standard_name:  air_pressure_at_mean_sea_level\n",
       "     long_name:      Sea Level Pressure\n",
       "     units:          Pa\n",
       "     cell_methods:   area: time: mean (interval: 5 minutes)\n",
       "     comment:        Sea Level Pressure\n",
       "     original_name:  PSL\n",
       "     cell_measures:  area: areacella,\n",
       " <xarray.DataArray 'psl' (time: 54, lat: 1, lon: 1)>\n",
       " dask.array<open_dataset-2409072bf901d85b2a69a8206c7a8c11psl, shape=(54, 1, 1), dtype=float32, chunksize=(50, 1, 1), chunktype=numpy.ndarray>\n",
       " Coordinates:\n",
       "   * time     (time) object 1965-01-31 06:00:00 ... 2018-01-31 06:00:00\n",
       "   * lon      (lon) float64 0.0\n",
       "   * lat      (lat) float64 0.0\n",
       " Attributes:\n",
       "     standard_name:  air_pressure_at_mean_sea_level\n",
       "     long_name:      Sea Level Pressure\n",
       "     units:          Pa\n",
       "     cell_methods:   area: time: mean (interval: 5 minutes)\n",
       "     comment:        Sea Level Pressure\n",
       "     original_name:  PSL\n",
       "     cell_measures:  area: areacella,\n",
       " <xarray.DataArray 'psl' (time: 54, lat: 1, lon: 1)>\n",
       " dask.array<open_dataset-0fe549a3310d2b7e874ba072fc937e78psl, shape=(54, 1, 1), dtype=float32, chunksize=(50, 1, 1), chunktype=numpy.ndarray>\n",
       " Coordinates:\n",
       "   * time     (time) object 1965-01-31 06:00:00 ... 2018-01-31 06:00:00\n",
       "   * lon      (lon) float64 0.0\n",
       "   * lat      (lat) float64 0.0\n",
       " Attributes:\n",
       "     standard_name:  air_pressure_at_mean_sea_level\n",
       "     long_name:      Sea Level Pressure\n",
       "     units:          Pa\n",
       "     cell_methods:   area: time: mean (interval: 5 minutes)\n",
       "     comment:        Sea Level Pressure\n",
       "     original_name:  PSL\n",
       "     cell_measures:  area: areacella,\n",
       " <xarray.DataArray 'psl' (time: 54, lat: 1, lon: 1)>\n",
       " dask.array<open_dataset-b5549d6f9d7c295d5e774ef0d8300d79psl, shape=(54, 1, 1), dtype=float32, chunksize=(50, 1, 1), chunktype=numpy.ndarray>\n",
       " Coordinates:\n",
       "   * time     (time) object 1965-01-31 06:00:00 ... 2018-01-31 06:00:00\n",
       "   * lon      (lon) float64 0.0\n",
       "   * lat      (lat) float64 0.0\n",
       " Attributes:\n",
       "     standard_name:  air_pressure_at_mean_sea_level\n",
       "     long_name:      Sea Level Pressure\n",
       "     units:          Pa\n",
       "     cell_methods:   area: time: mean (interval: 5 minutes)\n",
       "     comment:        Sea Level Pressure\n",
       "     original_name:  PSL\n",
       "     cell_measures:  area: areacella,\n",
       " <xarray.DataArray 'psl' (time: 54, lat: 1, lon: 1)>\n",
       " dask.array<open_dataset-8e6230dc6daa41e7e5f2b647226f83b4psl, shape=(54, 1, 1), dtype=float32, chunksize=(50, 1, 1), chunktype=numpy.ndarray>\n",
       " Coordinates:\n",
       "   * time     (time) object 1965-01-31 06:00:00 ... 2018-01-31 06:00:00\n",
       "   * lon      (lon) float64 0.0\n",
       "   * lat      (lat) float64 0.0\n",
       " Attributes:\n",
       "     standard_name:  air_pressure_at_mean_sea_level\n",
       "     long_name:      Sea Level Pressure\n",
       "     units:          Pa\n",
       "     cell_methods:   area: time: mean (interval: 5 minutes)\n",
       "     comment:        Sea Level Pressure\n",
       "     original_name:  PSL\n",
       "     cell_measures:  area: areacella,\n",
       " <xarray.DataArray 'psl' (time: 54, lat: 1, lon: 1)>\n",
       " dask.array<open_dataset-b6827e9ed8c6f7ea26f0316df54cae0bpsl, shape=(54, 1, 1), dtype=float32, chunksize=(50, 1, 1), chunktype=numpy.ndarray>\n",
       " Coordinates:\n",
       "   * time     (time) object 1965-01-31 06:00:00 ... 2018-01-31 06:00:00\n",
       "   * lon      (lon) float64 0.0\n",
       "   * lat      (lat) float64 0.0\n",
       " Attributes:\n",
       "     standard_name:  air_pressure_at_mean_sea_level\n",
       "     long_name:      Sea Level Pressure\n",
       "     units:          Pa\n",
       "     cell_methods:   area: time: mean (interval: 5 minutes)\n",
       "     comment:        Sea Level Pressure\n",
       "     original_name:  PSL\n",
       "     cell_measures:  area: areacella]"
      ]
     },
     "execution_count": 11,
     "metadata": {},
     "output_type": "execute_result"
    }
   ],
   "source": [
    "#processed_same_init_members['BCC-CSM2-MR']"
   ]
  },
  {
   "cell_type": "code",
   "execution_count": null,
   "metadata": {},
   "outputs": [],
   "source": [
    "# Now we want to plot the no lag case for the 158 members\n",
    "# Using the plot_ensemble_members_and_mean function\n",
    "# from processing_NAO_data.py (pnd.)\n",
    "\n",
    "# Set up the arguments for the function\n",
    "models = dic.models_no_can\n",
    "model_times = same_init_members_time\n",
    "model_nao_anoms = processed_same_init_members\n",
    "obs_nao_anom = obs_nao_index.values\n",
    "obs_time = obs_nao_index.time.values\n",
    "\n",
    "# Run the function\n",
    "pnd.plot_ensemble_members_and_mean(models, model_times, model_nao_anoms,\n",
    "                                    obs_nao_anom, obs_time) "
   ]
  }
 ],
 "metadata": {
  "kernelspec": {
   "display_name": "bens-python-environment",
   "language": "python",
   "name": "bens-python-environment"
  },
  "language_info": {
   "codemirror_mode": {
    "name": "ipython",
    "version": 3
   },
   "file_extension": ".py",
   "mimetype": "text/x-python",
   "name": "python",
   "nbconvert_exporter": "python",
   "pygments_lexer": "ipython3",
   "version": "3.10.5"
  }
 },
 "nbformat": 4,
 "nbformat_minor": 4
}
