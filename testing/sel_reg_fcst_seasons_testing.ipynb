{
 "cells": [
  {
   "cell_type": "markdown",
   "metadata": {},
   "source": [
    "### New way of regridding step ###\n",
    "\n",
    "Old way doesn't consistently work. Doing with Python."
   ]
  },
  {
   "cell_type": "code",
   "execution_count": 1,
   "metadata": {},
   "outputs": [],
   "source": [
    "# Load autoreload\n",
    "%load_ext autoreload\n",
    "%autoreload 2\n",
    "\n",
    "# Import local modules\n",
    "import os\n",
    "import sys\n",
    "import time\n",
    "import glob\n",
    "\n",
    "# Import third-party modules\n",
    "import numpy as np\n",
    "import pandas as pd\n",
    "import matplotlib.pyplot as plt\n",
    "import xarray as xr\n",
    "import tqdm"
   ]
  },
  {
   "cell_type": "code",
   "execution_count": 2,
   "metadata": {},
   "outputs": [],
   "source": [
    "# Import the functions from the local modules\n",
    "from sel_reg_fcst_seasons_functions import *"
   ]
  },
  {
   "cell_type": "code",
   "execution_count": 3,
   "metadata": {},
   "outputs": [],
   "source": [
    "# Test the load data function\n",
    "# First set up the params\n",
    "variable = \"pr\"\n",
    "model = \"EC-Earth3\"\n",
    "experiment = \"dcppA-hindcast\"\n",
    "start_year = 1961\n",
    "end_year = 2014\n",
    "season = \"ONDJFM\"\n",
    "region = \"global\""
   ]
  },
  {
   "cell_type": "code",
   "execution_count": 5,
   "metadata": {},
   "outputs": [
    {
     "name": "stdout",
     "output_type": "stream",
     "text": [
      "The unique members are:  ['r8i2p1f1', 'r4i1p1f1', 'r10i2p1f1', 'r9i2p1f1', 'r8i1p1f1', 'r1i1p1f1', 'r5i1p1f1', 'r3i1p1f1', 'r7i2p1f1', 'r10i1p1f1', 'r6i1p1f1', 'r6i2p1f1', 'r2i1p1f1', 'r9i1p1f1', 'r7i1p1f1']\n",
      "The length of the unique members is:  15\n"
     ]
    },
    {
     "name": "stderr",
     "output_type": "stream",
     "text": [
      "100%|██████████| 54/54 [00:04<00:00, 12.30it/s]\n"
     ]
    }
   ],
   "source": [
    "# First check that the files don't already exist\n",
    "df = check_regrid_files_exist(variable=variable,\n",
    "                              model=model,\n",
    "                              season=season,\n",
    "                              experiment=experiment,\n",
    "                              region=region,\n",
    "                              start_year=start_year,\n",
    "                              end_year=end_year,\n",
    "                              )"
   ]
  },
  {
   "cell_type": "code",
   "execution_count": 6,
   "metadata": {},
   "outputs": [
    {
     "data": {
      "text/html": [
       "<div>\n",
       "<style scoped>\n",
       "    .dataframe tbody tr th:only-of-type {\n",
       "        vertical-align: middle;\n",
       "    }\n",
       "\n",
       "    .dataframe tbody tr th {\n",
       "        vertical-align: top;\n",
       "    }\n",
       "\n",
       "    .dataframe thead th {\n",
       "        text-align: right;\n",
       "    }\n",
       "</style>\n",
       "<table border=\"1\" class=\"dataframe\">\n",
       "  <thead>\n",
       "    <tr style=\"text-align: right;\">\n",
       "      <th></th>\n",
       "      <th>file name</th>\n",
       "      <th>file path</th>\n",
       "      <th>file size</th>\n",
       "    </tr>\n",
       "  </thead>\n",
       "  <tbody>\n",
       "    <tr>\n",
       "      <th>0</th>\n",
       "      <td>all-years-ONDJFM-global-pr_Amon_EC-Earth3_dcpp...</td>\n",
       "      <td>/work/scratch-nopw2/benhutch/pr/EC-Earth3/glob...</td>\n",
       "      <td>501995</td>\n",
       "    </tr>\n",
       "    <tr>\n",
       "      <th>1</th>\n",
       "      <td>all-years-ONDJFM-global-pr_Amon_EC-Earth3_dcpp...</td>\n",
       "      <td>/work/scratch-nopw2/benhutch/pr/EC-Earth3/glob...</td>\n",
       "      <td>543458</td>\n",
       "    </tr>\n",
       "    <tr>\n",
       "      <th>2</th>\n",
       "      <td>all-years-ONDJFM-global-pr_Amon_EC-Earth3_dcpp...</td>\n",
       "      <td>/work/scratch-nopw2/benhutch/pr/EC-Earth3/glob...</td>\n",
       "      <td>501995</td>\n",
       "    </tr>\n",
       "    <tr>\n",
       "      <th>3</th>\n",
       "      <td>all-years-ONDJFM-global-pr_Amon_EC-Earth3_dcpp...</td>\n",
       "      <td>/work/scratch-nopw2/benhutch/pr/EC-Earth3/glob...</td>\n",
       "      <td>501995</td>\n",
       "    </tr>\n",
       "    <tr>\n",
       "      <th>4</th>\n",
       "      <td>all-years-ONDJFM-global-pr_Amon_EC-Earth3_dcpp...</td>\n",
       "      <td>/work/scratch-nopw2/benhutch/pr/EC-Earth3/glob...</td>\n",
       "      <td>543458</td>\n",
       "    </tr>\n",
       "    <tr>\n",
       "      <th>...</th>\n",
       "      <td>...</td>\n",
       "      <td>...</td>\n",
       "      <td>...</td>\n",
       "    </tr>\n",
       "    <tr>\n",
       "      <th>805</th>\n",
       "      <td>all-years-ONDJFM-global-pr_Amon_EC-Earth3_dcpp...</td>\n",
       "      <td>/work/scratch-nopw2/benhutch/pr/EC-Earth3/glob...</td>\n",
       "      <td>543458</td>\n",
       "    </tr>\n",
       "    <tr>\n",
       "      <th>806</th>\n",
       "      <td>all-years-ONDJFM-global-pr_Amon_EC-Earth3_dcpp...</td>\n",
       "      <td>/work/scratch-nopw2/benhutch/pr/EC-Earth3/glob...</td>\n",
       "      <td>500971</td>\n",
       "    </tr>\n",
       "    <tr>\n",
       "      <th>807</th>\n",
       "      <td>all-years-ONDJFM-global-pr_Amon_EC-Earth3_dcpp...</td>\n",
       "      <td>/work/scratch-nopw2/benhutch/pr/EC-Earth3/glob...</td>\n",
       "      <td>543458</td>\n",
       "    </tr>\n",
       "    <tr>\n",
       "      <th>808</th>\n",
       "      <td>all-years-ONDJFM-global-pr_Amon_EC-Earth3_dcpp...</td>\n",
       "      <td>/work/scratch-nopw2/benhutch/pr/EC-Earth3/glob...</td>\n",
       "      <td>543458</td>\n",
       "    </tr>\n",
       "    <tr>\n",
       "      <th>809</th>\n",
       "      <td>all-years-ONDJFM-global-pr_Amon_EC-Earth3_dcpp...</td>\n",
       "      <td>/work/scratch-nopw2/benhutch/pr/EC-Earth3/glob...</td>\n",
       "      <td>543458</td>\n",
       "    </tr>\n",
       "  </tbody>\n",
       "</table>\n",
       "<p>810 rows × 3 columns</p>\n",
       "</div>"
      ],
      "text/plain": [
       "                                             file name  \\\n",
       "0    all-years-ONDJFM-global-pr_Amon_EC-Earth3_dcpp...   \n",
       "1    all-years-ONDJFM-global-pr_Amon_EC-Earth3_dcpp...   \n",
       "2    all-years-ONDJFM-global-pr_Amon_EC-Earth3_dcpp...   \n",
       "3    all-years-ONDJFM-global-pr_Amon_EC-Earth3_dcpp...   \n",
       "4    all-years-ONDJFM-global-pr_Amon_EC-Earth3_dcpp...   \n",
       "..                                                 ...   \n",
       "805  all-years-ONDJFM-global-pr_Amon_EC-Earth3_dcpp...   \n",
       "806  all-years-ONDJFM-global-pr_Amon_EC-Earth3_dcpp...   \n",
       "807  all-years-ONDJFM-global-pr_Amon_EC-Earth3_dcpp...   \n",
       "808  all-years-ONDJFM-global-pr_Amon_EC-Earth3_dcpp...   \n",
       "809  all-years-ONDJFM-global-pr_Amon_EC-Earth3_dcpp...   \n",
       "\n",
       "                                             file path  file size  \n",
       "0    /work/scratch-nopw2/benhutch/pr/EC-Earth3/glob...     501995  \n",
       "1    /work/scratch-nopw2/benhutch/pr/EC-Earth3/glob...     543458  \n",
       "2    /work/scratch-nopw2/benhutch/pr/EC-Earth3/glob...     501995  \n",
       "3    /work/scratch-nopw2/benhutch/pr/EC-Earth3/glob...     501995  \n",
       "4    /work/scratch-nopw2/benhutch/pr/EC-Earth3/glob...     543458  \n",
       "..                                                 ...        ...  \n",
       "805  /work/scratch-nopw2/benhutch/pr/EC-Earth3/glob...     543458  \n",
       "806  /work/scratch-nopw2/benhutch/pr/EC-Earth3/glob...     500971  \n",
       "807  /work/scratch-nopw2/benhutch/pr/EC-Earth3/glob...     543458  \n",
       "808  /work/scratch-nopw2/benhutch/pr/EC-Earth3/glob...     543458  \n",
       "809  /work/scratch-nopw2/benhutch/pr/EC-Earth3/glob...     543458  \n",
       "\n",
       "[810 rows x 3 columns]"
      ]
     },
     "execution_count": 6,
     "metadata": {},
     "output_type": "execute_result"
    }
   ],
   "source": [
    "df"
   ]
  },
  {
   "cell_type": "code",
   "execution_count": 4,
   "metadata": {},
   "outputs": [
    {
     "name": "stdout",
     "output_type": "stream",
     "text": [
      "The model path root is gws.\n",
      "The unique members are:  ['r9i1p1f1', 'r3i1p1f1', 'r7i1p1f1', 'r7i2p1f1', 'r2i1p1f1', 'r5i1p1f1', 'r10i2p1f1', 'r6i2p1f1', 'r8i1p1f1', 'r8i2p1f1', 'r10i1p1f1', 'r1i1p1f1', 'r4i1p1f1', 'r9i2p1f1', 'r6i1p1f1']\n",
      "The length of the unique members is:  15\n"
     ]
    },
    {
     "name": "stderr",
     "output_type": "stream",
     "text": [
      "  0%|          | 0/54 [00:00<?, ?it/s]"
     ]
    },
    {
     "name": "stderr",
     "output_type": "stream",
     "text": [
      "100%|██████████| 54/54 [00:26<00:00,  2.01it/s]"
     ]
    },
    {
     "name": "stdout",
     "output_type": "stream",
     "text": [
      "The length of the file paths is:  810\n"
     ]
    },
    {
     "name": "stderr",
     "output_type": "stream",
     "text": [
      "\n"
     ]
    }
   ],
   "source": [
    "# test the functions\n",
    "file_paths = load_model_data(variable=variable,\n",
    "                             model=model,\n",
    "                             experiment=experiment,\n",
    "                             start_year=start_year,\n",
    "                             end_year=end_year)"
   ]
  },
  {
   "cell_type": "code",
   "execution_count": 5,
   "metadata": {},
   "outputs": [
    {
     "name": "stdout",
     "output_type": "stream",
     "text": [
      "The length of the year file paths is:  15\n"
     ]
    },
    {
     "name": "stderr",
     "output_type": "stream",
     "text": [
      "  0%|          | 0/15 [00:00<?, ?it/s]"
     ]
    },
    {
     "name": "stderr",
     "output_type": "stream",
     "text": [
      "100%|██████████| 15/15 [00:13<00:00,  1.11it/s]\n"
     ]
    }
   ],
   "source": [
    "# Test the functoin for processing the intermediate files\n",
    "int_file_paths = sel_season_shift(file_paths=file_paths,\n",
    "                                  year = 1962,\n",
    "                                  season=\"ONDJFM\",\n",
    "                                  variable=variable,\n",
    "                                  model=model,\n",
    "                                  )"
   ]
  },
  {
   "cell_type": "code",
   "execution_count": 6,
   "metadata": {},
   "outputs": [
    {
     "name": "stderr",
     "output_type": "stream",
     "text": [
      "100%|██████████| 15/15 [00:00<00:00, 1014.44it/s]"
     ]
    },
    {
     "name": "stdout",
     "output_type": "stream",
     "text": [
      "The file /work/scratch-nopw2/benhutch/pr/EC-Earth3/global/all_forecast_years/ONDJFM/outputs/all-years-ONDJFM-global-pr_Amon_EC-Earth3_dcppA-hindcast_s1962-r9i1p1f1_gr_196211-197310.nc already exists and has a file size greater than 10000 bytes.\n",
      "The file /work/scratch-nopw2/benhutch/pr/EC-Earth3/global/all_forecast_years/ONDJFM/outputs/all-years-ONDJFM-global-pr_Amon_EC-Earth3_dcppA-hindcast_s1962-r3i1p1f1_gr_196211-197310.nc already exists and has a file size greater than 10000 bytes.\n",
      "The file /work/scratch-nopw2/benhutch/pr/EC-Earth3/global/all_forecast_years/ONDJFM/outputs/all-years-ONDJFM-global-pr_Amon_EC-Earth3_dcppA-hindcast_s1962-r7i1p1f1_gr_196211-197310.nc already exists and has a file size greater than 10000 bytes.\n",
      "The file /work/scratch-nopw2/benhutch/pr/EC-Earth3/global/all_forecast_years/ONDJFM/outputs/all-years-ONDJFM-global-pr_Amon_EC-Earth3_dcppA-hindcast_s1962-r7i2p1f1_gr_196211-197310.nc already exists and has a file size greater than 10000 bytes.\n",
      "The file /work/scratch-nopw2/benhutch/pr/EC-Earth3/global/all_forecast_years/ONDJFM/outputs/all-years-ONDJFM-global-pr_Amon_EC-Earth3_dcppA-hindcast_s1962-r2i1p1f1_gr_196211-197310.nc already exists and has a file size greater than 10000 bytes.\n",
      "The file /work/scratch-nopw2/benhutch/pr/EC-Earth3/global/all_forecast_years/ONDJFM/outputs/all-years-ONDJFM-global-pr_Amon_EC-Earth3_dcppA-hindcast_s1962-r5i1p1f1_gr_196211-197310.nc already exists and has a file size greater than 10000 bytes.\n",
      "The file /work/scratch-nopw2/benhutch/pr/EC-Earth3/global/all_forecast_years/ONDJFM/outputs/all-years-ONDJFM-global-pr_Amon_EC-Earth3_dcppA-hindcast_s1962-r10i2p1f1_gr_196211-197310.nc already exists and has a file size greater than 10000 bytes.\n",
      "The file /work/scratch-nopw2/benhutch/pr/EC-Earth3/global/all_forecast_years/ONDJFM/outputs/all-years-ONDJFM-global-pr_Amon_EC-Earth3_dcppA-hindcast_s1962-r6i2p1f1_gr_196211-197310.nc already exists and has a file size greater than 10000 bytes.\n",
      "The file /work/scratch-nopw2/benhutch/pr/EC-Earth3/global/all_forecast_years/ONDJFM/outputs/all-years-ONDJFM-global-pr_Amon_EC-Earth3_dcppA-hindcast_s1962-r8i1p1f1_gr_196211-197310.nc already exists and has a file size greater than 10000 bytes.\n",
      "The file /work/scratch-nopw2/benhutch/pr/EC-Earth3/global/all_forecast_years/ONDJFM/outputs/all-years-ONDJFM-global-pr_Amon_EC-Earth3_dcppA-hindcast_s1962-r8i2p1f1_gr_196211-197310.nc already exists and has a file size greater than 10000 bytes.\n",
      "The file /work/scratch-nopw2/benhutch/pr/EC-Earth3/global/all_forecast_years/ONDJFM/outputs/all-years-ONDJFM-global-pr_Amon_EC-Earth3_dcppA-hindcast_s1962-r10i1p1f1_gr_196211-197310.nc already exists and has a file size greater than 10000 bytes.\n",
      "The file /work/scratch-nopw2/benhutch/pr/EC-Earth3/global/all_forecast_years/ONDJFM/outputs/all-years-ONDJFM-global-pr_Amon_EC-Earth3_dcppA-hindcast_s1962-r1i1p1f1_gr_196211-197310.nc already exists and has a file size greater than 10000 bytes.\n",
      "The file /work/scratch-nopw2/benhutch/pr/EC-Earth3/global/all_forecast_years/ONDJFM/outputs/all-years-ONDJFM-global-pr_Amon_EC-Earth3_dcppA-hindcast_s1962-r4i1p1f1_gr_196211-197310.nc already exists and has a file size greater than 10000 bytes.\n",
      "The file /work/scratch-nopw2/benhutch/pr/EC-Earth3/global/all_forecast_years/ONDJFM/outputs/all-years-ONDJFM-global-pr_Amon_EC-Earth3_dcppA-hindcast_s1962-r9i2p1f1_gr_196211-197310.nc already exists and has a file size greater than 10000 bytes.\n",
      "The file /work/scratch-nopw2/benhutch/pr/EC-Earth3/global/all_forecast_years/ONDJFM/outputs/all-years-ONDJFM-global-pr_Amon_EC-Earth3_dcppA-hindcast_s1962-r6i1p1f1_gr_196211-197310.nc already exists and has a file size greater than 10000 bytes.\n"
     ]
    },
    {
     "name": "stderr",
     "output_type": "stream",
     "text": [
      "\n"
     ]
    }
   ],
   "source": [
    "# Test regridding these intermediate files\n",
    "regrid_file_paths = regrid_int_files(int_file_paths=int_file_paths,\n",
    "                                     variable=variable,\n",
    "                                     model=model,\n",
    "                                     season=\"ONDJFM\",\n",
    "                                     region=\"global\",\n",
    "                                    )"
   ]
  }
 ],
 "metadata": {
  "kernelspec": {
   "display_name": "Python 3",
   "language": "python",
   "name": "python3"
  },
  "language_info": {
   "codemirror_mode": {
    "name": "ipython",
    "version": 3
   },
   "file_extension": ".py",
   "mimetype": "text/x-python",
   "name": "python",
   "nbconvert_exporter": "python",
   "pygments_lexer": "ipython3",
   "version": "3.10.5"
  }
 },
 "nbformat": 4,
 "nbformat_minor": 2
}
