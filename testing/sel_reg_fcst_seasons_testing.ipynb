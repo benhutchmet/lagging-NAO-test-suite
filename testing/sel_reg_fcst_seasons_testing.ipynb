{
 "cells": [
  {
   "cell_type": "markdown",
   "metadata": {},
   "source": [
    "### New way of regridding step ###\n",
    "\n",
    "Old way doesn't consistently work. Doing with Python."
   ]
  },
  {
   "cell_type": "code",
   "execution_count": null,
   "metadata": {},
   "outputs": [],
   "source": [
    "# Load autoreload\n",
    "%load_ext autoreload\n",
    "%autoreload 2\n",
    "\n",
    "# Import local modules\n",
    "import os\n",
    "import sys\n",
    "import time\n",
    "import glob\n",
    "\n",
    "# Import third-party modules\n",
    "import numpy as np\n",
    "import pandas as pd\n",
    "import matplotlib.pyplot as plt\n",
    "import xarray as xr\n",
    "import tqdm"
   ]
  },
  {
   "cell_type": "code",
   "execution_count": null,
   "metadata": {},
   "outputs": [],
   "source": [
    "# Import the functions from the local modules\n",
    "from sel_reg_fcst_seasons_functions import *\n",
    "\n",
    "# Import the dictionary\n",
    "sys.path.append('/home/users/benhutch/lagging-NAO-test-suite/')\n",
    "                \n",
    "# Import the dictionary\n",
    "import dictionaries as dicts"
   ]
  },
  {
   "cell_type": "code",
   "execution_count": null,
   "metadata": {},
   "outputs": [],
   "source": [
    "# Test the load data function\n",
    "# First set up the params\n",
    "variable = \"pr\"\n",
    "model = \"EC-Earth3\"\n",
    "experiment = \"dcppA-hindcast\"\n",
    "start_year = 1961\n",
    "end_year = 2014\n",
    "season = \"AYULGS\"\n",
    "region = \"global\""
   ]
  },
  {
   "cell_type": "code",
   "execution_count": null,
   "metadata": {},
   "outputs": [],
   "source": [
    "# Loop over the models\n",
    "for model in dicts.pr_models:\n",
    "    # First check that the files don't already exist\n",
    "    df = check_regrid_files_exist(variable=variable,\n",
    "                                model=model,\n",
    "                                season=season,\n",
    "                                experiment=experiment,\n",
    "                                region=region,\n",
    "                                start_year=start_year,\n",
    "                                end_year=end_year,\n",
    "                                )\n",
    "    \n",
    "    # Assert that all of the file_exist are True\n",
    "    assert all(df[\"file exists\"]), f\"Files already exist for {model}\""
   ]
  },
  {
   "cell_type": "code",
   "execution_count": null,
   "metadata": {},
   "outputs": [],
   "source": [
    "df"
   ]
  },
  {
   "cell_type": "code",
   "execution_count": null,
   "metadata": {},
   "outputs": [],
   "source": [
    "# test the functions\n",
    "file_paths = load_model_data(variable=variable,\n",
    "                             model=model,\n",
    "                             experiment=experiment,\n",
    "                             start_year=start_year,\n",
    "                             end_year=end_year)"
   ]
  },
  {
   "cell_type": "code",
   "execution_count": null,
   "metadata": {},
   "outputs": [],
   "source": [
    "# Test the functoin for processing the intermediate files\n",
    "int_file_paths = sel_season_shift(file_paths=file_paths,\n",
    "                                  year = 1962,\n",
    "                                  season=\"ONDJFM\",\n",
    "                                  variable=variable,\n",
    "                                  model=model,\n",
    "                                  )"
   ]
  },
  {
   "cell_type": "code",
   "execution_count": null,
   "metadata": {},
   "outputs": [],
   "source": [
    "# Test regridding these intermediate files\n",
    "regrid_file_paths = regrid_int_files(int_file_paths=int_file_paths,\n",
    "                                     variable=variable,\n",
    "                                     model=model,\n",
    "                                     season=\"ONDJFM\",\n",
    "                                     region=\"global\",\n",
    "                                    )"
   ]
  }
 ],
 "metadata": {
  "kernelspec": {
   "display_name": "Python 3",
   "language": "python",
   "name": "python3"
  },
  "language_info": {
   "codemirror_mode": {
    "name": "ipython",
    "version": 3
   },
   "file_extension": ".py",
   "mimetype": "text/x-python",
   "name": "python",
   "nbconvert_exporter": "python",
   "pygments_lexer": "ipython3",
   "version": "3.10.5"
  }
 },
 "nbformat": 4,
 "nbformat_minor": 2
}
