{
 "cells": [
  {
   "cell_type": "markdown",
   "metadata": {},
   "source": [
    "### New way of regridding step ###\n",
    "\n",
    "Old way doesn't consistently work. Doing with Python."
   ]
  },
  {
   "cell_type": "code",
   "execution_count": 1,
   "metadata": {},
   "outputs": [],
   "source": [
    "# Import local modules\n",
    "import os\n",
    "import sys\n",
    "import time\n",
    "import glob\n",
    "\n",
    "# Import third-party modules\n",
    "import numpy as np\n",
    "import pandas as pd\n",
    "import matplotlib.pyplot as plt\n",
    "import xarray as xr\n",
    "import tqdm"
   ]
  },
  {
   "cell_type": "code",
   "execution_count": 2,
   "metadata": {},
   "outputs": [
    {
     "name": "stdout",
     "output_type": "stream",
     "text": [
      "  variable      experiment            model  \\\n",
      "0      tas  dcppA-hindcast  HadGEM3-GC31-MM   \n",
      "1      tas  dcppA-hindcast          NorCPM1   \n",
      "2      tas  dcppA-hindcast     IPSL-CM6A-LR   \n",
      "3      tas  dcppA-hindcast           MIROC6   \n",
      "4      tas  dcppA-hindcast      BCC-CSM2-MR   \n",
      "\n",
      "                                                path  \n",
      "0  /gws/nopw/j04/canari/users/benhutch/dcppA-hind...  \n",
      "1  /badc/cmip6/data/CMIP6/DCPP/NCC/NorCPM1/dcppA-...  \n",
      "2  /badc/cmip6/data/CMIP6/DCPP/IPSL/IPSL-CM6A-LR/...  \n",
      "3  /badc/cmip6/data/CMIP6/DCPP/MIROC/MIROC6/dcppA...  \n",
      "4  /badc/cmip6/data/CMIP6/DCPP/BCC/BCC-CSM2-MR/dc...  \n"
     ]
    }
   ],
   "source": [
    "# Set up the csv containing the paths to the data\n",
    "csv_path = \"/home/users/benhutch/lagging-NAO-test-suite/data_paths/paths_to_file_src.csv\"\n",
    "\n",
    "# Open the csv\n",
    "df = pd.read_csv(csv_path)\n",
    "\n",
    "# print the head of the dataframe\n",
    "print(df.head())"
   ]
  }
 ],
 "metadata": {
  "kernelspec": {
   "display_name": "Python 3",
   "language": "python",
   "name": "python3"
  },
  "language_info": {
   "codemirror_mode": {
    "name": "ipython",
    "version": 3
   },
   "file_extension": ".py",
   "mimetype": "text/x-python",
   "name": "python",
   "nbconvert_exporter": "python",
   "pygments_lexer": "ipython3",
   "version": "3.10.5"
  }
 },
 "nbformat": 4,
 "nbformat_minor": 2
}
