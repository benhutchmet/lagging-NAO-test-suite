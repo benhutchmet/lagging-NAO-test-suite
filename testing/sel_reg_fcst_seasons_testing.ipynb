{
 "cells": [
  {
   "cell_type": "markdown",
   "metadata": {},
   "source": [
    "### New way of regridding step ###\n",
    "\n",
    "Old way doesn't consistently work. Doing with Python."
   ]
  },
  {
   "cell_type": "code",
   "execution_count": 1,
   "metadata": {},
   "outputs": [],
   "source": [
    "# Load autoreload\n",
    "%load_ext autoreload\n",
    "%autoreload 2\n",
    "\n",
    "# Import local modules\n",
    "import os\n",
    "import sys\n",
    "import time\n",
    "import glob\n",
    "\n",
    "# Import third-party modules\n",
    "import numpy as np\n",
    "import pandas as pd\n",
    "import matplotlib.pyplot as plt\n",
    "import xarray as xr\n",
    "import tqdm"
   ]
  },
  {
   "cell_type": "code",
   "execution_count": 2,
   "metadata": {},
   "outputs": [],
   "source": [
    "# Import the functions from the local modules\n",
    "from sel_reg_fcst_seasons_functions import *"
   ]
  },
  {
   "cell_type": "code",
   "execution_count": 3,
   "metadata": {},
   "outputs": [],
   "source": [
    "# Test the load data function\n",
    "# First set up the params\n",
    "variable = \"pr\"\n",
    "model = \"EC-Earth3\"\n",
    "experiment = \"dcppA-hindcast\"\n",
    "start_year = 1961\n",
    "end_year = 2014"
   ]
  },
  {
   "cell_type": "code",
   "execution_count": 4,
   "metadata": {},
   "outputs": [
    {
     "name": "stdout",
     "output_type": "stream",
     "text": [
      "The model path root is gws.\n",
      "The unique members are:  ['r7i1p1f1', 'r3i1p1f1', 'r9i1p1f1', 'r7i2p1f1', 'r8i2p1f1', 'r8i1p1f1', 'r2i1p1f1', 'r4i1p1f1', 'r5i1p1f1', 'r6i1p1f1', 'r1i1p1f1', 'r6i2p1f1', 'r10i1p1f1', 'r9i2p1f1', 'r10i2p1f1']\n",
      "The length of the unique members is:  15\n"
     ]
    },
    {
     "name": "stderr",
     "output_type": "stream",
     "text": [
      "  0%|          | 0/54 [00:00<?, ?it/s]"
     ]
    },
    {
     "name": "stderr",
     "output_type": "stream",
     "text": [
      "100%|██████████| 54/54 [00:25<00:00,  2.15it/s]"
     ]
    },
    {
     "name": "stdout",
     "output_type": "stream",
     "text": [
      "The length of the file paths is:  810\n"
     ]
    },
    {
     "name": "stderr",
     "output_type": "stream",
     "text": [
      "\n"
     ]
    }
   ],
   "source": [
    "# test the functions\n",
    "file_paths = load_model_data(variable=variable,\n",
    "                             model=model,\n",
    "                             experiment=experiment,\n",
    "                             start_year=start_year,\n",
    "                             end_year=end_year)"
   ]
  },
  {
   "cell_type": "code",
   "execution_count": 5,
   "metadata": {},
   "outputs": [
    {
     "name": "stdout",
     "output_type": "stream",
     "text": [
      "The length of the year file paths is:  15\n"
     ]
    },
    {
     "name": "stderr",
     "output_type": "stream",
     "text": [
      "  0%|          | 0/15 [00:00<?, ?it/s]"
     ]
    },
    {
     "name": "stderr",
     "output_type": "stream",
     "text": [
      "/home/users/benhutch/.local/lib/python3.10/site-packages/xarray/core/dataset.py:278: UserWarning: The specified chunks separate the stored chunks along dimension \"lat\" starting at index 91. This could degrade performance. Instead, consider rechunking after loading.\n",
      "  warnings.warn(\n",
      "/home/users/benhutch/.local/lib/python3.10/site-packages/xarray/core/dataset.py:278: UserWarning: The specified chunks separate the stored chunks along dimension \"lon\" starting at index 180. This could degrade performance. Instead, consider rechunking after loading.\n",
      "  warnings.warn(\n"
     ]
    },
    {
     "name": "stdout",
     "output_type": "stream",
     "text": [
      "The data is:  <xarray.Dataset>\n",
      "Dimensions:    (time: 132, bnds: 2, lon: 512, lat: 256)\n",
      "Coordinates:\n",
      "  * time       (time) datetime64[ns] 1961-11-16 ... 1972-10-16T12:00:00\n",
      "  * lon        (lon) float64 0.0 0.7031 1.406 2.109 ... 357.2 357.9 358.6 359.3\n",
      "  * lat        (lat) float64 -89.46 -88.77 -88.07 -87.37 ... 88.07 88.77 89.46\n",
      "Dimensions without coordinates: bnds\n",
      "Data variables:\n",
      "    time_bnds  (time, bnds) datetime64[ns] dask.array<chunksize=(132, 2), meta=np.ndarray>\n",
      "    lon_bnds   (lon, bnds) float64 dask.array<chunksize=(180, 2), meta=np.ndarray>\n",
      "    lat_bnds   (lat, bnds) float64 dask.array<chunksize=(91, 2), meta=np.ndarray>\n",
      "    pr         (time, lat, lon) float32 dask.array<chunksize=(132, 91, 180), meta=np.ndarray>\n",
      "Attributes: (12/50)\n",
      "    CDI:                       Climate Data Interface version 2.0.5 (https://...\n",
      "    source:                    EC-Earth3 (2019): \\naerosol: none\\natmos: IFS ...\n",
      "    institution:               AEMET, Spain; BSC, Spain; CNR-ISAC, Italy; DMI...\n",
      "    Conventions:               CF-1.7 CMIP-6.2\n",
      "    activity_id:               DCPP\n",
      "    branch_method:             no parent\n",
      "    ...                        ...\n",
      "    variant_label:             r7i1p1f1\n",
      "    license:                   CMIP6 model data produced by EC-Earth-Consorti...\n",
      "    cmor_version:              3.4.0\n",
      "    variant_info:              Atmosphere initialization based on full-fields...\n",
      "    history:                   Thu Feb 22 11:58:54 2024: cdo mergetime /badc/...\n",
      "    CDO:                       Climate Data Operators version 2.0.5 (https://...\n"
     ]
    },
    {
     "name": "stderr",
     "output_type": "stream",
     "text": [
      "  7%|▋         | 1/15 [00:03<00:43,  3.12s/it]/home/users/benhutch/.local/lib/python3.10/site-packages/xarray/core/dataset.py:278: UserWarning: The specified chunks separate the stored chunks along dimension \"lat\" starting at index 91. This could degrade performance. Instead, consider rechunking after loading.\n",
      "  warnings.warn(\n",
      "/home/users/benhutch/.local/lib/python3.10/site-packages/xarray/core/dataset.py:278: UserWarning: The specified chunks separate the stored chunks along dimension \"lon\" starting at index 180. This could degrade performance. Instead, consider rechunking after loading.\n",
      "  warnings.warn(\n"
     ]
    },
    {
     "name": "stdout",
     "output_type": "stream",
     "text": [
      "The data is:  <xarray.Dataset>\n",
      "Dimensions:    (time: 132, bnds: 2, lon: 512, lat: 256)\n",
      "Coordinates:\n",
      "  * time       (time) datetime64[ns] 1961-11-16 ... 1972-10-16T12:00:00\n",
      "  * lon        (lon) float64 0.0 0.7031 1.406 2.109 ... 357.2 357.9 358.6 359.3\n",
      "  * lat        (lat) float64 -89.46 -88.77 -88.07 -87.37 ... 88.07 88.77 89.46\n",
      "Dimensions without coordinates: bnds\n",
      "Data variables:\n",
      "    time_bnds  (time, bnds) datetime64[ns] dask.array<chunksize=(132, 2), meta=np.ndarray>\n",
      "    lon_bnds   (lon, bnds) float64 dask.array<chunksize=(180, 2), meta=np.ndarray>\n",
      "    lat_bnds   (lat, bnds) float64 dask.array<chunksize=(91, 2), meta=np.ndarray>\n",
      "    pr         (time, lat, lon) float32 dask.array<chunksize=(132, 91, 180), meta=np.ndarray>\n",
      "Attributes: (12/50)\n",
      "    CDI:                       Climate Data Interface version 2.0.5 (https://...\n",
      "    source:                    EC-Earth3 (2019): \\naerosol: none\\natmos: IFS ...\n",
      "    institution:               AEMET, Spain; BSC, Spain; CNR-ISAC, Italy; DMI...\n",
      "    Conventions:               CF-1.7 CMIP-6.2\n",
      "    activity_id:               DCPP\n",
      "    branch_method:             no parent\n",
      "    ...                        ...\n",
      "    license:                   CMIP6 model data produced by EC-Earth-Consorti...\n",
      "    cmor_version:              3.4.0\n",
      "    variant_info:              Atmosphere initialization based on full-fields...\n",
      "    history:                   Thu Feb 22 11:57:15 2024: cdo mergetime /badc/...\n",
      "    nominal_resolution:        100 km\n",
      "    CDO:                       Climate Data Operators version 2.0.5 (https://...\n"
     ]
    },
    {
     "name": "stderr",
     "output_type": "stream",
     "text": [
      " 13%|█▎        | 2/15 [00:04<00:24,  1.85s/it]/home/users/benhutch/.local/lib/python3.10/site-packages/xarray/core/dataset.py:278: UserWarning: The specified chunks separate the stored chunks along dimension \"lat\" starting at index 91. This could degrade performance. Instead, consider rechunking after loading.\n",
      "  warnings.warn(\n",
      "/home/users/benhutch/.local/lib/python3.10/site-packages/xarray/core/dataset.py:278: UserWarning: The specified chunks separate the stored chunks along dimension \"lon\" starting at index 180. This could degrade performance. Instead, consider rechunking after loading.\n",
      "  warnings.warn(\n"
     ]
    },
    {
     "name": "stdout",
     "output_type": "stream",
     "text": [
      "The data is:  <xarray.Dataset>\n",
      "Dimensions:    (time: 132, bnds: 2, lon: 512, lat: 256)\n",
      "Coordinates:\n",
      "  * time       (time) datetime64[ns] 1961-11-16 ... 1972-10-16T12:00:00\n",
      "  * lon        (lon) float64 0.0 0.7031 1.406 2.109 ... 357.2 357.9 358.6 359.3\n",
      "  * lat        (lat) float64 -89.46 -88.77 -88.07 -87.37 ... 88.07 88.77 89.46\n",
      "Dimensions without coordinates: bnds\n",
      "Data variables:\n",
      "    time_bnds  (time, bnds) datetime64[ns] dask.array<chunksize=(132, 2), meta=np.ndarray>\n",
      "    lon_bnds   (lon, bnds) float64 dask.array<chunksize=(180, 2), meta=np.ndarray>\n",
      "    lat_bnds   (lat, bnds) float64 dask.array<chunksize=(91, 2), meta=np.ndarray>\n",
      "    pr         (time, lat, lon) float32 dask.array<chunksize=(132, 91, 180), meta=np.ndarray>\n",
      "Attributes: (12/50)\n",
      "    CDI:                       Climate Data Interface version 2.0.5 (https://...\n",
      "    source:                    EC-Earth3 (2019): \\naerosol: none\\natmos: IFS ...\n",
      "    institution:               AEMET, Spain; BSC, Spain; CNR-ISAC, Italy; DMI...\n",
      "    Conventions:               CF-1.7 CMIP-6.2\n",
      "    activity_id:               DCPP\n",
      "    branch_method:             no parent\n",
      "    ...                        ...\n",
      "    license:                   CMIP6 model data produced by EC-Earth-Consorti...\n",
      "    cmor_version:              3.4.0\n",
      "    variant_info:              Atmosphere initialization based on full-fields...\n",
      "    history:                   Thu Feb 22 11:59:57 2024: cdo mergetime /badc/...\n",
      "    nominal_resolution:        100 km\n",
      "    CDO:                       Climate Data Operators version 2.0.5 (https://...\n"
     ]
    },
    {
     "name": "stderr",
     "output_type": "stream",
     "text": [
      " 20%|██        | 3/15 [00:05<00:18,  1.51s/it]/home/users/benhutch/.local/lib/python3.10/site-packages/xarray/core/dataset.py:278: UserWarning: The specified chunks separate the stored chunks along dimension \"lat\" starting at index 91. This could degrade performance. Instead, consider rechunking after loading.\n",
      "  warnings.warn(\n",
      "/home/users/benhutch/.local/lib/python3.10/site-packages/xarray/core/dataset.py:278: UserWarning: The specified chunks separate the stored chunks along dimension \"lon\" starting at index 180. This could degrade performance. Instead, consider rechunking after loading.\n",
      "  warnings.warn(\n"
     ]
    },
    {
     "name": "stdout",
     "output_type": "stream",
     "text": [
      "The data is:  <xarray.Dataset>\n",
      "Dimensions:    (time: 122, bnds: 2, lon: 512, lat: 256)\n",
      "Coordinates:\n",
      "  * time       (time) datetime64[ns] 1961-11-16 ... 1971-12-16T12:00:00\n",
      "  * lon        (lon) float64 0.0 0.7031 1.406 2.109 ... 357.2 357.9 358.6 359.3\n",
      "  * lat        (lat) float64 -89.46 -88.77 -88.07 -87.37 ... 88.07 88.77 89.46\n",
      "Dimensions without coordinates: bnds\n",
      "Data variables:\n",
      "    time_bnds  (time, bnds) datetime64[ns] dask.array<chunksize=(122, 2), meta=np.ndarray>\n",
      "    lon_bnds   (lon, bnds) float64 dask.array<chunksize=(180, 2), meta=np.ndarray>\n",
      "    lat_bnds   (lat, bnds) float64 dask.array<chunksize=(91, 2), meta=np.ndarray>\n",
      "    pr         (time, lat, lon) float32 dask.array<chunksize=(122, 91, 180), meta=np.ndarray>\n",
      "Attributes: (12/48)\n",
      "    CDI:                    Climate Data Interface version 2.0.5 (https://mpi...\n",
      "    source:                 EC-Earth3 (2019): \\naerosol: none\\natmos: IFS cy3...\n",
      "    institution:            AEMET, Spain; BSC, Spain; CNR-ISAC, Italy; DMI, D...\n",
      "    Conventions:            CF-1.7 CMIP-6.2\n",
      "    activity_id:            DCPP\n",
      "    branch_method:          no parent\n",
      "    ...                     ...\n",
      "    variable_id:            pr\n",
      "    variant_info:           Atmosphere initialization based on full-fields fr...\n",
      "    variant_label:          r7i2p1f1\n",
      "    license:                CMIP6 model data produced by EC-Earth-Consortium ...\n",
      "    cmor_version:           3.5.0\n",
      "    CDO:                    Climate Data Operators version 2.0.5 (https://mpi...\n"
     ]
    },
    {
     "name": "stderr",
     "output_type": "stream",
     "text": [
      " 27%|██▋       | 4/15 [00:06<00:13,  1.26s/it]/home/users/benhutch/.local/lib/python3.10/site-packages/xarray/core/dataset.py:278: UserWarning: The specified chunks separate the stored chunks along dimension \"lat\" starting at index 91. This could degrade performance. Instead, consider rechunking after loading.\n",
      "  warnings.warn(\n",
      "/home/users/benhutch/.local/lib/python3.10/site-packages/xarray/core/dataset.py:278: UserWarning: The specified chunks separate the stored chunks along dimension \"lon\" starting at index 180. This could degrade performance. Instead, consider rechunking after loading.\n",
      "  warnings.warn(\n"
     ]
    },
    {
     "name": "stdout",
     "output_type": "stream",
     "text": [
      "The data is:  <xarray.Dataset>\n",
      "Dimensions:    (time: 122, bnds: 2, lon: 512, lat: 256)\n",
      "Coordinates:\n",
      "  * time       (time) datetime64[ns] 1961-11-16 ... 1971-12-16T12:00:00\n",
      "  * lon        (lon) float64 0.0 0.7031 1.406 2.109 ... 357.2 357.9 358.6 359.3\n",
      "  * lat        (lat) float64 -89.46 -88.77 -88.07 -87.37 ... 88.07 88.77 89.46\n",
      "Dimensions without coordinates: bnds\n",
      "Data variables:\n",
      "    time_bnds  (time, bnds) datetime64[ns] dask.array<chunksize=(122, 2), meta=np.ndarray>\n",
      "    lon_bnds   (lon, bnds) float64 dask.array<chunksize=(180, 2), meta=np.ndarray>\n",
      "    lat_bnds   (lat, bnds) float64 dask.array<chunksize=(91, 2), meta=np.ndarray>\n",
      "    pr         (time, lat, lon) float32 dask.array<chunksize=(122, 91, 180), meta=np.ndarray>\n",
      "Attributes: (12/48)\n",
      "    CDI:                    Climate Data Interface version 2.0.5 (https://mpi...\n",
      "    source:                 EC-Earth3 (2019): \\naerosol: none\\natmos: IFS cy3...\n",
      "    institution:            AEMET, Spain; BSC, Spain; CNR-ISAC, Italy; DMI, D...\n",
      "    Conventions:            CF-1.7 CMIP-6.2\n",
      "    activity_id:            DCPP\n",
      "    branch_method:          no parent\n",
      "    ...                     ...\n",
      "    variable_id:            pr\n",
      "    variant_info:           Atmosphere initialization based on full-fields fr...\n",
      "    variant_label:          r8i2p1f1\n",
      "    license:                CMIP6 model data produced by EC-Earth-Consortium ...\n",
      "    cmor_version:           3.5.0\n",
      "    CDO:                    Climate Data Operators version 2.0.5 (https://mpi...\n"
     ]
    },
    {
     "name": "stderr",
     "output_type": "stream",
     "text": [
      " 33%|███▎      | 5/15 [00:06<00:11,  1.12s/it]/home/users/benhutch/.local/lib/python3.10/site-packages/xarray/core/dataset.py:278: UserWarning: The specified chunks separate the stored chunks along dimension \"lat\" starting at index 91. This could degrade performance. Instead, consider rechunking after loading.\n",
      "  warnings.warn(\n",
      "/home/users/benhutch/.local/lib/python3.10/site-packages/xarray/core/dataset.py:278: UserWarning: The specified chunks separate the stored chunks along dimension \"lon\" starting at index 180. This could degrade performance. Instead, consider rechunking after loading.\n",
      "  warnings.warn(\n"
     ]
    },
    {
     "name": "stdout",
     "output_type": "stream",
     "text": [
      "The data is:  <xarray.Dataset>\n",
      "Dimensions:    (time: 132, bnds: 2, lon: 512, lat: 256)\n",
      "Coordinates:\n",
      "  * time       (time) datetime64[ns] 1961-11-16 ... 1972-10-16T12:00:00\n",
      "  * lon        (lon) float64 0.0 0.7031 1.406 2.109 ... 357.2 357.9 358.6 359.3\n",
      "  * lat        (lat) float64 -89.46 -88.77 -88.07 -87.37 ... 88.07 88.77 89.46\n",
      "Dimensions without coordinates: bnds\n",
      "Data variables:\n",
      "    time_bnds  (time, bnds) datetime64[ns] dask.array<chunksize=(132, 2), meta=np.ndarray>\n",
      "    lon_bnds   (lon, bnds) float64 dask.array<chunksize=(180, 2), meta=np.ndarray>\n",
      "    lat_bnds   (lat, bnds) float64 dask.array<chunksize=(91, 2), meta=np.ndarray>\n",
      "    pr         (time, lat, lon) float32 dask.array<chunksize=(132, 91, 180), meta=np.ndarray>\n",
      "Attributes: (12/50)\n",
      "    CDI:                       Climate Data Interface version 2.0.5 (https://...\n",
      "    source:                    EC-Earth3 (2019): \\naerosol: none\\natmos: IFS ...\n",
      "    institution:               AEMET, Spain; BSC, Spain; CNR-ISAC, Italy; DMI...\n",
      "    Conventions:               CF-1.7 CMIP-6.2\n",
      "    activity_id:               DCPP\n",
      "    branch_method:             no parent\n",
      "    ...                        ...\n",
      "    license:                   CMIP6 model data produced by EC-Earth-Consorti...\n",
      "    cmor_version:              3.4.0\n",
      "    variant_info:              Atmosphere initialization based on full-fields...\n",
      "    history:                   Thu Feb 22 11:59:14 2024: cdo mergetime /badc/...\n",
      "    nominal_resolution:        100 km\n",
      "    CDO:                       Climate Data Operators version 2.0.5 (https://...\n"
     ]
    },
    {
     "name": "stderr",
     "output_type": "stream",
     "text": [
      " 40%|████      | 6/15 [00:08<00:10,  1.11s/it]/home/users/benhutch/.local/lib/python3.10/site-packages/xarray/core/dataset.py:278: UserWarning: The specified chunks separate the stored chunks along dimension \"lat\" starting at index 91. This could degrade performance. Instead, consider rechunking after loading.\n",
      "  warnings.warn(\n",
      "/home/users/benhutch/.local/lib/python3.10/site-packages/xarray/core/dataset.py:278: UserWarning: The specified chunks separate the stored chunks along dimension \"lon\" starting at index 180. This could degrade performance. Instead, consider rechunking after loading.\n",
      "  warnings.warn(\n"
     ]
    },
    {
     "name": "stdout",
     "output_type": "stream",
     "text": [
      "The data is:  <xarray.Dataset>\n",
      "Dimensions:    (time: 132, bnds: 2, lon: 512, lat: 256)\n",
      "Coordinates:\n",
      "  * time       (time) datetime64[ns] 1961-11-16 ... 1972-10-16T12:00:00\n",
      "  * lon        (lon) float64 0.0 0.7031 1.406 2.109 ... 357.2 357.9 358.6 359.3\n",
      "  * lat        (lat) float64 -89.46 -88.77 -88.07 -87.37 ... 88.07 88.77 89.46\n",
      "Dimensions without coordinates: bnds\n",
      "Data variables:\n",
      "    time_bnds  (time, bnds) datetime64[ns] dask.array<chunksize=(132, 2), meta=np.ndarray>\n",
      "    lon_bnds   (lon, bnds) float64 dask.array<chunksize=(180, 2), meta=np.ndarray>\n",
      "    lat_bnds   (lat, bnds) float64 dask.array<chunksize=(91, 2), meta=np.ndarray>\n",
      "    pr         (time, lat, lon) float32 dask.array<chunksize=(132, 91, 180), meta=np.ndarray>\n",
      "Attributes: (12/50)\n",
      "    CDI:                       Climate Data Interface version 2.0.5 (https://...\n",
      "    source:                    EC-Earth3 (2019): \\naerosol: none\\natmos: IFS ...\n",
      "    institution:               AEMET, Spain; BSC, Spain; CNR-ISAC, Italy; DMI...\n",
      "    Conventions:               CF-1.7 CMIP-6.2\n",
      "    activity_id:               DCPP\n",
      "    branch_method:             no parent\n",
      "    ...                        ...\n",
      "    license:                   CMIP6 model data produced by EC-Earth-Consorti...\n",
      "    cmor_version:              3.4.0\n",
      "    variant_info:              Atmosphere initialization based on full-fields...\n",
      "    history:                   Thu Feb 22 11:57:02 2024: cdo mergetime /badc/...\n",
      "    nominal_resolution:        100 km\n",
      "    CDO:                       Climate Data Operators version 2.0.5 (https://...\n"
     ]
    },
    {
     "name": "stderr",
     "output_type": "stream",
     "text": [
      " 47%|████▋     | 7/15 [00:09<00:08,  1.11s/it]/home/users/benhutch/.local/lib/python3.10/site-packages/xarray/core/dataset.py:278: UserWarning: The specified chunks separate the stored chunks along dimension \"lat\" starting at index 91. This could degrade performance. Instead, consider rechunking after loading.\n",
      "  warnings.warn(\n",
      "/home/users/benhutch/.local/lib/python3.10/site-packages/xarray/core/dataset.py:278: UserWarning: The specified chunks separate the stored chunks along dimension \"lon\" starting at index 180. This could degrade performance. Instead, consider rechunking after loading.\n",
      "  warnings.warn(\n"
     ]
    },
    {
     "name": "stdout",
     "output_type": "stream",
     "text": [
      "The data is:  <xarray.Dataset>\n",
      "Dimensions:    (time: 132, bnds: 2, lon: 512, lat: 256)\n",
      "Coordinates:\n",
      "  * time       (time) datetime64[ns] 1961-11-16 ... 1972-10-16T12:00:00\n",
      "  * lon        (lon) float64 0.0 0.7031 1.406 2.109 ... 357.2 357.9 358.6 359.3\n",
      "  * lat        (lat) float64 -89.46 -88.77 -88.07 -87.37 ... 88.07 88.77 89.46\n",
      "Dimensions without coordinates: bnds\n",
      "Data variables:\n",
      "    time_bnds  (time, bnds) datetime64[ns] dask.array<chunksize=(132, 2), meta=np.ndarray>\n",
      "    lon_bnds   (lon, bnds) float64 dask.array<chunksize=(180, 2), meta=np.ndarray>\n",
      "    lat_bnds   (lat, bnds) float64 dask.array<chunksize=(91, 2), meta=np.ndarray>\n",
      "    pr         (time, lat, lon) float32 dask.array<chunksize=(132, 91, 180), meta=np.ndarray>\n",
      "Attributes: (12/50)\n",
      "    CDI:                       Climate Data Interface version 2.0.5 (https://...\n",
      "    source:                    EC-Earth3 (2019): \\naerosol: none\\natmos: IFS ...\n",
      "    institution:               AEMET, Spain; BSC, Spain; CNR-ISAC, Italy; DMI...\n",
      "    Conventions:               CF-1.7 CMIP-6.2\n",
      "    activity_id:               DCPP\n",
      "    branch_method:             no parent\n",
      "    ...                        ...\n",
      "    license:                   CMIP6 model data produced by EC-Earth-Consorti...\n",
      "    cmor_version:              3.4.0\n",
      "    variant_info:              Atmosphere initialization based on full-fields...\n",
      "    history:                   Thu Feb 22 11:57:25 2024: cdo mergetime /badc/...\n",
      "    nominal_resolution:        100 km\n",
      "    CDO:                       Climate Data Operators version 2.0.5 (https://...\n"
     ]
    },
    {
     "name": "stderr",
     "output_type": "stream",
     "text": [
      " 53%|█████▎    | 8/15 [00:10<00:08,  1.20s/it]/home/users/benhutch/.local/lib/python3.10/site-packages/xarray/core/dataset.py:278: UserWarning: The specified chunks separate the stored chunks along dimension \"lat\" starting at index 91. This could degrade performance. Instead, consider rechunking after loading.\n",
      "  warnings.warn(\n",
      "/home/users/benhutch/.local/lib/python3.10/site-packages/xarray/core/dataset.py:278: UserWarning: The specified chunks separate the stored chunks along dimension \"lon\" starting at index 180. This could degrade performance. Instead, consider rechunking after loading.\n",
      "  warnings.warn(\n"
     ]
    },
    {
     "name": "stdout",
     "output_type": "stream",
     "text": [
      "The data is:  <xarray.Dataset>\n",
      "Dimensions:    (time: 132, bnds: 2, lon: 512, lat: 256)\n",
      "Coordinates:\n",
      "  * time       (time) datetime64[ns] 1961-11-16 ... 1972-10-16T12:00:00\n",
      "  * lon        (lon) float64 0.0 0.7031 1.406 2.109 ... 357.2 357.9 358.6 359.3\n",
      "  * lat        (lat) float64 -89.46 -88.77 -88.07 -87.37 ... 88.07 88.77 89.46\n",
      "Dimensions without coordinates: bnds\n",
      "Data variables:\n",
      "    time_bnds  (time, bnds) datetime64[ns] dask.array<chunksize=(132, 2), meta=np.ndarray>\n",
      "    lon_bnds   (lon, bnds) float64 dask.array<chunksize=(180, 2), meta=np.ndarray>\n",
      "    lat_bnds   (lat, bnds) float64 dask.array<chunksize=(91, 2), meta=np.ndarray>\n",
      "    pr         (time, lat, lon) float32 dask.array<chunksize=(132, 91, 180), meta=np.ndarray>\n",
      "Attributes: (12/50)\n",
      "    CDI:                       Climate Data Interface version 2.0.5 (https://...\n",
      "    source:                    EC-Earth3 (2019): \\naerosol: none\\natmos: IFS ...\n",
      "    institution:               AEMET, Spain; BSC, Spain; CNR-ISAC, Italy; DMI...\n",
      "    Conventions:               CF-1.7 CMIP-6.2\n",
      "    activity_id:               DCPP\n",
      "    branch_method:             no parent\n",
      "    ...                        ...\n",
      "    license:                   CMIP6 model data produced by EC-Earth-Consorti...\n",
      "    cmor_version:              3.4.0\n",
      "    variant_info:              Atmosphere initialization based on full-fields...\n",
      "    history:                   Thu Feb 22 11:58:05 2024: cdo mergetime /badc/...\n",
      "    nominal_resolution:        100 km\n",
      "    CDO:                       Climate Data Operators version 2.0.5 (https://...\n"
     ]
    },
    {
     "name": "stderr",
     "output_type": "stream",
     "text": [
      " 60%|██████    | 9/15 [00:11<00:06,  1.17s/it]/home/users/benhutch/.local/lib/python3.10/site-packages/xarray/core/dataset.py:278: UserWarning: The specified chunks separate the stored chunks along dimension \"lat\" starting at index 91. This could degrade performance. Instead, consider rechunking after loading.\n",
      "  warnings.warn(\n",
      "/home/users/benhutch/.local/lib/python3.10/site-packages/xarray/core/dataset.py:278: UserWarning: The specified chunks separate the stored chunks along dimension \"lon\" starting at index 180. This could degrade performance. Instead, consider rechunking after loading.\n",
      "  warnings.warn(\n"
     ]
    },
    {
     "name": "stdout",
     "output_type": "stream",
     "text": [
      "The data is:  <xarray.Dataset>\n",
      "Dimensions:    (time: 132, bnds: 2, lon: 512, lat: 256)\n",
      "Coordinates:\n",
      "  * time       (time) datetime64[ns] 1961-11-16 ... 1972-10-16T12:00:00\n",
      "  * lon        (lon) float64 0.0 0.7031 1.406 2.109 ... 357.2 357.9 358.6 359.3\n",
      "  * lat        (lat) float64 -89.46 -88.77 -88.07 -87.37 ... 88.07 88.77 89.46\n",
      "Dimensions without coordinates: bnds\n",
      "Data variables:\n",
      "    time_bnds  (time, bnds) datetime64[ns] dask.array<chunksize=(132, 2), meta=np.ndarray>\n",
      "    lon_bnds   (lon, bnds) float64 dask.array<chunksize=(180, 2), meta=np.ndarray>\n",
      "    lat_bnds   (lat, bnds) float64 dask.array<chunksize=(91, 2), meta=np.ndarray>\n",
      "    pr         (time, lat, lon) float32 dask.array<chunksize=(132, 91, 180), meta=np.ndarray>\n",
      "Attributes: (12/50)\n",
      "    CDI:                       Climate Data Interface version 2.0.5 (https://...\n",
      "    source:                    EC-Earth3 (2019): \\naerosol: none\\natmos: IFS ...\n",
      "    institution:               AEMET, Spain; BSC, Spain; CNR-ISAC, Italy; DMI...\n",
      "    Conventions:               CF-1.7 CMIP-6.2\n",
      "    activity_id:               DCPP\n",
      "    branch_method:             no parent\n",
      "    ...                        ...\n",
      "    variant_label:             r6i1p1f1\n",
      "    license:                   CMIP6 model data produced by EC-Earth-Consorti...\n",
      "    cmor_version:              3.4.0\n",
      "    variant_info:              Atmosphere initialization based on full-fields...\n",
      "    history:                   Thu Feb 22 11:58:16 2024: cdo mergetime /badc/...\n",
      "    CDO:                       Climate Data Operators version 2.0.5 (https://...\n"
     ]
    },
    {
     "name": "stderr",
     "output_type": "stream",
     "text": [
      " 67%|██████▋   | 10/15 [00:12<00:05,  1.16s/it]/home/users/benhutch/.local/lib/python3.10/site-packages/xarray/core/dataset.py:278: UserWarning: The specified chunks separate the stored chunks along dimension \"lat\" starting at index 91. This could degrade performance. Instead, consider rechunking after loading.\n",
      "  warnings.warn(\n",
      "/home/users/benhutch/.local/lib/python3.10/site-packages/xarray/core/dataset.py:278: UserWarning: The specified chunks separate the stored chunks along dimension \"lon\" starting at index 180. This could degrade performance. Instead, consider rechunking after loading.\n",
      "  warnings.warn(\n"
     ]
    },
    {
     "name": "stdout",
     "output_type": "stream",
     "text": [
      "The data is:  <xarray.Dataset>\n",
      "Dimensions:    (time: 132, bnds: 2, lon: 512, lat: 256)\n",
      "Coordinates:\n",
      "  * time       (time) datetime64[ns] 1961-11-16 ... 1972-10-16T12:00:00\n",
      "  * lon        (lon) float64 0.0 0.7031 1.406 2.109 ... 357.2 357.9 358.6 359.3\n",
      "  * lat        (lat) float64 -89.46 -88.77 -88.07 -87.37 ... 88.07 88.77 89.46\n",
      "Dimensions without coordinates: bnds\n",
      "Data variables:\n",
      "    time_bnds  (time, bnds) datetime64[ns] dask.array<chunksize=(132, 2), meta=np.ndarray>\n",
      "    lon_bnds   (lon, bnds) float64 dask.array<chunksize=(180, 2), meta=np.ndarray>\n",
      "    lat_bnds   (lat, bnds) float64 dask.array<chunksize=(91, 2), meta=np.ndarray>\n",
      "    pr         (time, lat, lon) float32 dask.array<chunksize=(132, 91, 180), meta=np.ndarray>\n",
      "Attributes: (12/50)\n",
      "    CDI:                       Climate Data Interface version 2.0.5 (https://...\n",
      "    source:                    EC-Earth3 (2019): \\naerosol: none\\natmos: IFS ...\n",
      "    institution:               AEMET, Spain; BSC, Spain; CNR-ISAC, Italy; DMI...\n",
      "    Conventions:               CF-1.7 CMIP-6.2\n",
      "    activity_id:               DCPP\n",
      "    branch_method:             no parent\n",
      "    ...                        ...\n",
      "    license:                   CMIP6 model data produced by EC-Earth-Consorti...\n",
      "    cmor_version:              3.4.0\n",
      "    variant_info:              Atmosphere initialization based on full-fields...\n",
      "    history:                   Thu Feb 22 11:56:50 2024: cdo mergetime /badc/...\n",
      "    nominal_resolution:        100 km\n",
      "    CDO:                       Climate Data Operators version 2.0.5 (https://...\n"
     ]
    },
    {
     "name": "stderr",
     "output_type": "stream",
     "text": [
      " 73%|███████▎  | 11/15 [00:13<00:04,  1.11s/it]/home/users/benhutch/.local/lib/python3.10/site-packages/xarray/core/dataset.py:278: UserWarning: The specified chunks separate the stored chunks along dimension \"lat\" starting at index 91. This could degrade performance. Instead, consider rechunking after loading.\n",
      "  warnings.warn(\n",
      "/home/users/benhutch/.local/lib/python3.10/site-packages/xarray/core/dataset.py:278: UserWarning: The specified chunks separate the stored chunks along dimension \"lon\" starting at index 180. This could degrade performance. Instead, consider rechunking after loading.\n",
      "  warnings.warn(\n"
     ]
    },
    {
     "name": "stdout",
     "output_type": "stream",
     "text": [
      "The data is:  <xarray.Dataset>\n",
      "Dimensions:    (time: 122, bnds: 2, lon: 512, lat: 256)\n",
      "Coordinates:\n",
      "  * time       (time) datetime64[ns] 1961-11-16 ... 1971-12-16T12:00:00\n",
      "  * lon        (lon) float64 0.0 0.7031 1.406 2.109 ... 357.2 357.9 358.6 359.3\n",
      "  * lat        (lat) float64 -89.46 -88.77 -88.07 -87.37 ... 88.07 88.77 89.46\n",
      "Dimensions without coordinates: bnds\n",
      "Data variables:\n",
      "    time_bnds  (time, bnds) datetime64[ns] dask.array<chunksize=(122, 2), meta=np.ndarray>\n",
      "    lon_bnds   (lon, bnds) float64 dask.array<chunksize=(180, 2), meta=np.ndarray>\n",
      "    lat_bnds   (lat, bnds) float64 dask.array<chunksize=(91, 2), meta=np.ndarray>\n",
      "    pr         (time, lat, lon) float32 dask.array<chunksize=(122, 91, 180), meta=np.ndarray>\n",
      "Attributes: (12/48)\n",
      "    CDI:                    Climate Data Interface version 2.0.5 (https://mpi...\n",
      "    source:                 EC-Earth3 (2019): \\naerosol: none\\natmos: IFS cy3...\n",
      "    institution:            AEMET, Spain; BSC, Spain; CNR-ISAC, Italy; DMI, D...\n",
      "    Conventions:            CF-1.7 CMIP-6.2\n",
      "    activity_id:            DCPP\n",
      "    branch_method:          no parent\n",
      "    ...                     ...\n",
      "    variable_id:            pr\n",
      "    variant_info:           Atmosphere initialization based on full-fields fr...\n",
      "    variant_label:          r6i2p1f1\n",
      "    license:                CMIP6 model data produced by EC-Earth-Consortium ...\n",
      "    cmor_version:           3.5.0\n",
      "    CDO:                    Climate Data Operators version 2.0.5 (https://mpi...\n"
     ]
    },
    {
     "name": "stderr",
     "output_type": "stream",
     "text": [
      " 80%|████████  | 12/15 [00:14<00:03,  1.04s/it]/home/users/benhutch/.local/lib/python3.10/site-packages/xarray/core/dataset.py:278: UserWarning: The specified chunks separate the stored chunks along dimension \"lat\" starting at index 91. This could degrade performance. Instead, consider rechunking after loading.\n",
      "  warnings.warn(\n",
      "/home/users/benhutch/.local/lib/python3.10/site-packages/xarray/core/dataset.py:278: UserWarning: The specified chunks separate the stored chunks along dimension \"lon\" starting at index 180. This could degrade performance. Instead, consider rechunking after loading.\n",
      "  warnings.warn(\n"
     ]
    },
    {
     "name": "stdout",
     "output_type": "stream",
     "text": [
      "The data is:  <xarray.Dataset>\n",
      "Dimensions:    (time: 132, bnds: 2, lon: 512, lat: 256)\n",
      "Coordinates:\n",
      "  * time       (time) datetime64[ns] 1961-11-16 ... 1972-10-16T12:00:00\n",
      "  * lon        (lon) float64 0.0 0.7031 1.406 2.109 ... 357.2 357.9 358.6 359.3\n",
      "  * lat        (lat) float64 -89.46 -88.77 -88.07 -87.37 ... 88.07 88.77 89.46\n",
      "Dimensions without coordinates: bnds\n",
      "Data variables:\n",
      "    time_bnds  (time, bnds) datetime64[ns] dask.array<chunksize=(132, 2), meta=np.ndarray>\n",
      "    lon_bnds   (lon, bnds) float64 dask.array<chunksize=(180, 2), meta=np.ndarray>\n",
      "    lat_bnds   (lat, bnds) float64 dask.array<chunksize=(91, 2), meta=np.ndarray>\n",
      "    pr         (time, lat, lon) float32 dask.array<chunksize=(132, 91, 180), meta=np.ndarray>\n",
      "Attributes: (12/50)\n",
      "    CDI:                       Climate Data Interface version 2.0.5 (https://...\n",
      "    source:                    EC-Earth3 (2019): \\naerosol: none\\natmos: IFS ...\n",
      "    institution:               AEMET, Spain; BSC, Spain; CNR-ISAC, Italy; DMI...\n",
      "    Conventions:               CF-1.7 CMIP-6.2\n",
      "    activity_id:               DCPP\n",
      "    branch_method:             no parent\n",
      "    ...                        ...\n",
      "    license:                   CMIP6 model data produced by EC-Earth-Consorti...\n",
      "    cmor_version:              3.4.0\n",
      "    variant_info:              Atmosphere initialization based on full-fields...\n",
      "    history:                   Thu Feb 22 12:00:54 2024: cdo mergetime /badc/...\n",
      "    nominal_resolution:        100 km\n",
      "    CDO:                       Climate Data Operators version 2.0.5 (https://...\n"
     ]
    },
    {
     "name": "stderr",
     "output_type": "stream",
     "text": [
      " 87%|████████▋ | 13/15 [00:15<00:02,  1.04s/it]/home/users/benhutch/.local/lib/python3.10/site-packages/xarray/core/dataset.py:278: UserWarning: The specified chunks separate the stored chunks along dimension \"lat\" starting at index 91. This could degrade performance. Instead, consider rechunking after loading.\n",
      "  warnings.warn(\n",
      "/home/users/benhutch/.local/lib/python3.10/site-packages/xarray/core/dataset.py:278: UserWarning: The specified chunks separate the stored chunks along dimension \"lon\" starting at index 180. This could degrade performance. Instead, consider rechunking after loading.\n",
      "  warnings.warn(\n"
     ]
    },
    {
     "name": "stdout",
     "output_type": "stream",
     "text": [
      "The data is:  <xarray.Dataset>\n",
      "Dimensions:    (time: 122, bnds: 2, lon: 512, lat: 256)\n",
      "Coordinates:\n",
      "  * time       (time) datetime64[ns] 1961-11-16 ... 1971-12-16T12:00:00\n",
      "  * lon        (lon) float64 0.0 0.7031 1.406 2.109 ... 357.2 357.9 358.6 359.3\n",
      "  * lat        (lat) float64 -89.46 -88.77 -88.07 -87.37 ... 88.07 88.77 89.46\n",
      "Dimensions without coordinates: bnds\n",
      "Data variables:\n",
      "    time_bnds  (time, bnds) datetime64[ns] dask.array<chunksize=(122, 2), meta=np.ndarray>\n",
      "    lon_bnds   (lon, bnds) float64 dask.array<chunksize=(180, 2), meta=np.ndarray>\n",
      "    lat_bnds   (lat, bnds) float64 dask.array<chunksize=(91, 2), meta=np.ndarray>\n",
      "    pr         (time, lat, lon) float32 dask.array<chunksize=(122, 91, 180), meta=np.ndarray>\n",
      "Attributes: (12/48)\n",
      "    CDI:                    Climate Data Interface version 2.0.5 (https://mpi...\n",
      "    source:                 EC-Earth3 (2019): \\naerosol: none\\natmos: IFS cy3...\n",
      "    institution:            AEMET, Spain; BSC, Spain; CNR-ISAC, Italy; DMI, D...\n",
      "    Conventions:            CF-1.7 CMIP-6.2\n",
      "    activity_id:            DCPP\n",
      "    branch_method:          no parent\n",
      "    ...                     ...\n",
      "    variable_id:            pr\n",
      "    variant_info:           Atmosphere initialization based on full-fields fr...\n",
      "    variant_label:          r9i2p1f1\n",
      "    license:                CMIP6 model data produced by EC-Earth-Consortium ...\n",
      "    cmor_version:           3.5.0\n",
      "    CDO:                    Climate Data Operators version 2.0.5 (https://mpi...\n"
     ]
    },
    {
     "name": "stderr",
     "output_type": "stream",
     "text": [
      " 93%|█████████▎| 14/15 [00:16<00:00,  1.01it/s]/home/users/benhutch/.local/lib/python3.10/site-packages/xarray/core/dataset.py:278: UserWarning: The specified chunks separate the stored chunks along dimension \"lat\" starting at index 91. This could degrade performance. Instead, consider rechunking after loading.\n",
      "  warnings.warn(\n",
      "/home/users/benhutch/.local/lib/python3.10/site-packages/xarray/core/dataset.py:278: UserWarning: The specified chunks separate the stored chunks along dimension \"lon\" starting at index 180. This could degrade performance. Instead, consider rechunking after loading.\n",
      "  warnings.warn(\n"
     ]
    },
    {
     "name": "stdout",
     "output_type": "stream",
     "text": [
      "The data is:  <xarray.Dataset>\n",
      "Dimensions:    (time: 122, bnds: 2, lon: 512, lat: 256)\n",
      "Coordinates:\n",
      "  * time       (time) datetime64[ns] 1961-11-16 ... 1971-12-16T12:00:00\n",
      "  * lon        (lon) float64 0.0 0.7031 1.406 2.109 ... 357.2 357.9 358.6 359.3\n",
      "  * lat        (lat) float64 -89.46 -88.77 -88.07 -87.37 ... 88.07 88.77 89.46\n",
      "Dimensions without coordinates: bnds\n",
      "Data variables:\n",
      "    time_bnds  (time, bnds) datetime64[ns] dask.array<chunksize=(122, 2), meta=np.ndarray>\n",
      "    lon_bnds   (lon, bnds) float64 dask.array<chunksize=(180, 2), meta=np.ndarray>\n",
      "    lat_bnds   (lat, bnds) float64 dask.array<chunksize=(91, 2), meta=np.ndarray>\n",
      "    pr         (time, lat, lon) float32 dask.array<chunksize=(122, 91, 180), meta=np.ndarray>\n",
      "Attributes: (12/48)\n",
      "    CDI:                    Climate Data Interface version 2.0.5 (https://mpi...\n",
      "    source:                 EC-Earth3 (2019): \\naerosol: none\\natmos: IFS cy3...\n",
      "    institution:            AEMET, Spain; BSC, Spain; CNR-ISAC, Italy; DMI, D...\n",
      "    Conventions:            CF-1.7 CMIP-6.2\n",
      "    activity_id:            DCPP\n",
      "    branch_method:          no parent\n",
      "    ...                     ...\n",
      "    variable_id:            pr\n",
      "    variant_info:           Atmosphere initialization based on full-fields fr...\n",
      "    variant_label:          r10i2p1f1\n",
      "    license:                CMIP6 model data produced by EC-Earth-Consortium ...\n",
      "    cmor_version:           3.5.0\n",
      "    CDO:                    Climate Data Operators version 2.0.5 (https://mpi...\n"
     ]
    },
    {
     "name": "stderr",
     "output_type": "stream",
     "text": [
      "100%|██████████| 15/15 [00:17<00:00,  1.18s/it]\n"
     ]
    }
   ],
   "source": [
    "# Test the functoin for processing the intermediate files\n",
    "int_file_paths = sel_season_shift(file_paths=file_paths,\n",
    "                                  year = 1961,\n",
    "                                  season=\"ONDJFM\",\n",
    "                                  variable=variable,\n",
    "                                  model=model,\n",
    "                                  )"
   ]
  },
  {
   "cell_type": "code",
   "execution_count": 6,
   "metadata": {},
   "outputs": [
    {
     "data": {
      "text/plain": [
       "['/work/scratch-nopw2/benhutch/pr/EC-Earth3/ONDJFM/1961/tmp/pr_Amon_EC-Earth3_dcppA-hindcast_s1961-r7i1p1f1_gr_196111-197210_ONDJFM_1961_tmp.nc',\n",
       " '/work/scratch-nopw2/benhutch/pr/EC-Earth3/ONDJFM/1961/tmp/pr_Amon_EC-Earth3_dcppA-hindcast_s1961-r3i1p1f1_gr_196111-197210_ONDJFM_1961_tmp.nc',\n",
       " '/work/scratch-nopw2/benhutch/pr/EC-Earth3/ONDJFM/1961/tmp/pr_Amon_EC-Earth3_dcppA-hindcast_s1961-r9i1p1f1_gr_196111-197210_ONDJFM_1961_tmp.nc',\n",
       " '/work/scratch-nopw2/benhutch/pr/EC-Earth3/ONDJFM/1961/tmp/pr_Amon_EC-Earth3_dcppA-hindcast_s1961-r7i2p1f1_gr_196111-197210_ONDJFM_1961_tmp.nc',\n",
       " '/work/scratch-nopw2/benhutch/pr/EC-Earth3/ONDJFM/1961/tmp/pr_Amon_EC-Earth3_dcppA-hindcast_s1961-r8i2p1f1_gr_196111-197210_ONDJFM_1961_tmp.nc',\n",
       " '/work/scratch-nopw2/benhutch/pr/EC-Earth3/ONDJFM/1961/tmp/pr_Amon_EC-Earth3_dcppA-hindcast_s1961-r8i1p1f1_gr_196111-197210_ONDJFM_1961_tmp.nc',\n",
       " '/work/scratch-nopw2/benhutch/pr/EC-Earth3/ONDJFM/1961/tmp/pr_Amon_EC-Earth3_dcppA-hindcast_s1961-r2i1p1f1_gr_196111-197210_ONDJFM_1961_tmp.nc',\n",
       " '/work/scratch-nopw2/benhutch/pr/EC-Earth3/ONDJFM/1961/tmp/pr_Amon_EC-Earth3_dcppA-hindcast_s1961-r4i1p1f1_gr_196111-197210_ONDJFM_1961_tmp.nc',\n",
       " '/work/scratch-nopw2/benhutch/pr/EC-Earth3/ONDJFM/1961/tmp/pr_Amon_EC-Earth3_dcppA-hindcast_s1961-r5i1p1f1_gr_196111-197210_ONDJFM_1961_tmp.nc',\n",
       " '/work/scratch-nopw2/benhutch/pr/EC-Earth3/ONDJFM/1961/tmp/pr_Amon_EC-Earth3_dcppA-hindcast_s1961-r6i1p1f1_gr_196111-197210_ONDJFM_1961_tmp.nc',\n",
       " '/work/scratch-nopw2/benhutch/pr/EC-Earth3/ONDJFM/1961/tmp/pr_Amon_EC-Earth3_dcppA-hindcast_s1961-r1i1p1f1_gr_196111-197210_ONDJFM_1961_tmp.nc',\n",
       " '/work/scratch-nopw2/benhutch/pr/EC-Earth3/ONDJFM/1961/tmp/pr_Amon_EC-Earth3_dcppA-hindcast_s1961-r6i2p1f1_gr_196111-197210_ONDJFM_1961_tmp.nc',\n",
       " '/work/scratch-nopw2/benhutch/pr/EC-Earth3/ONDJFM/1961/tmp/pr_Amon_EC-Earth3_dcppA-hindcast_s1961-r10i1p1f1_gr_196111-197210_ONDJFM_1961_tmp.nc',\n",
       " '/work/scratch-nopw2/benhutch/pr/EC-Earth3/ONDJFM/1961/tmp/pr_Amon_EC-Earth3_dcppA-hindcast_s1961-r9i2p1f1_gr_196111-197210_ONDJFM_1961_tmp.nc',\n",
       " '/work/scratch-nopw2/benhutch/pr/EC-Earth3/ONDJFM/1961/tmp/pr_Amon_EC-Earth3_dcppA-hindcast_s1961-r10i2p1f1_gr_196111-197210_ONDJFM_1961_tmp.nc']"
      ]
     },
     "execution_count": 6,
     "metadata": {},
     "output_type": "execute_result"
    }
   ],
   "source": [
    "int_file_paths"
   ]
  }
 ],
 "metadata": {
  "kernelspec": {
   "display_name": "Python 3",
   "language": "python",
   "name": "python3"
  },
  "language_info": {
   "codemirror_mode": {
    "name": "ipython",
    "version": 3
   },
   "file_extension": ".py",
   "mimetype": "text/x-python",
   "name": "python",
   "nbconvert_exporter": "python",
   "pygments_lexer": "ipython3",
   "version": "3.10.5"
  }
 },
 "nbformat": 4,
 "nbformat_minor": 2
}
