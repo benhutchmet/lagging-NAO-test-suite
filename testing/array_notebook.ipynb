{
 "cells": [
  {
   "cell_type": "code",
   "execution_count": 1,
   "metadata": {},
   "outputs": [],
   "source": [
    "# Local imports\n",
    "import os\n",
    "import sys\n",
    "import glob\n",
    "\n",
    "# Third-party imports\n",
    "import numpy as np"
   ]
  },
  {
   "cell_type": "code",
   "execution_count": 2,
   "metadata": {},
   "outputs": [
    {
     "name": "stdout",
     "output_type": "stream",
     "text": [
      "Contents of directory:\n"
     ]
    }
   ],
   "source": [
    "# Set up the directory in which the data are stored\n",
    "alt_lag_dir = \"/gws/nopw/j04/canari/users/benhutch/alternate-lag-processed-data/\"\n",
    "\n",
    "# Print the contents of the directory\n",
    "print(\"Contents of directory:\")\n",
    "print(os.listdir(alt_lag_dir))\n",
    "\n",
    "# Print the most recent file\n",
    "print(\"Most recent file:\")\n",
    "print(max(glob.iglob(alt_lag_dir + \"*.npy\"), key=os.path.getctime))"
   ]
  },
  {
   "cell_type": "code",
   "execution_count": null,
   "metadata": {},
   "outputs": [],
   "source": [
    "# Extract the contents of the directory into a dataframe\n",
    "# With headings: \"variable\", \"season\", \"region\", \"start_year\", \"end_year\", \"forecast_range\", \"lag\", \"datetime\", \"filesize\"\n",
    "import pandas as pd\n",
    "\n",
    "# Create a list of all the files in the directory\n",
    "files = glob.glob(alt_lag_dir + \"*.npy\")\n",
    "\n",
    "# Extract the filenames\n",
    "filenames = [os.path.basename(file) for file in files]\n",
    "\n",
    "# Convert the list to a dataframe\n",
    "df = pd.DataFrame(filenames, columns=[\"filename\"])\n",
    "\n",
    "# Print the dataframe\n",
    "print(df)\n",
    "\n",
    "# Extract the variables\n",
    "df[\"variable\"] = df[\"filename\"].str.split(\"_\", expand=True)[0]\n",
    "\n",
    "# Extract the seasons\n",
    "df[\"season\"] = df[\"filename\"].str.split(\"_\", expand=True)[1]\n",
    "\n",
    "# Extract the regions\n",
    "df[\"region\"] = df[\"filename\"].str.split(\"_\", expand=True)[2]\n",
    "\n",
    "# Extract the start years\n",
    "df[\"start_year\"] = df[\"filename\"].str.split(\"_\", expand=True)[3]\n",
    "\n",
    "# Extract the end years\n",
    "df[\"end_year\"] = df[\"filename\"].str.split(\"_\", expand=True)[4]\n",
    "\n",
    "# Extract the lags\n",
    "df[\"lag\"] = df[\"filename\"].str.split(\"_\", expand=True)[6]\n",
    "\n",
    "# Extract the forecast ranges\n",
    "df[\"forecast_range\"] = df[\"filename\"].str.split(\"_\", expand=True)[5]\n",
    "\n",
    "# Create a column for the alt lag\n",
    "# If the file contains the string alternate_lag, then set this to True\n",
    "# Otherwise, set it to False\n",
    "df[\"alt_lag\"] = df[\"filename\"].str.contains(\"alternate_lag\")\n",
    "\n",
    "# If the psl_DJFM_global_1962_1980_2-9_2_1706281292.628301_alternate_lag.npy\n",
    "# 1706281292.628301 is the datetime\n",
    "# Extract the datetimes\n",
    "df[\"datetime\"] = df[\"filename\"].str.split(\"_\", expand=True)[7]\n",
    "\n",
    "# Remove the .npy extension\n",
    "df[\"datetime\"] = df[\"datetime\"].str.replace(\".npy\", \"\")\n",
    "\n",
    "# Convert the datetimes to a more readable format\n",
    "df[\"datetime\"] = pd.to_datetime(df[\"datetime\"], unit=\"s\")\n",
    "\n",
    "# Calculate the file sizes\n",
    "df[\"filesize\"] = [os.path.getsize(file) for file in files]\n",
    "\n",
    "# Create a column for the n_ens members\n",
    "# Load the file (as a .npy file) and insert the shape into the dataframe\n",
    "df[\"n_ens\"] = [np.load(file).shape[1] for file in files]\n",
    "\n",
    "# Set up a column for the raw data\n",
    "# If the file does not contain the string alternate_lag, then set this to True\n",
    "# Otherwise, set it to False\n",
    "df[\"raw\"] = ~df[\"alt_lag\"]\n",
    "\n",
    "df"
   ]
  },
  {
   "cell_type": "code",
   "execution_count": null,
   "metadata": {},
   "outputs": [],
   "source": [
    "df"
   ]
  },
  {
   "cell_type": "code",
   "execution_count": null,
   "metadata": {},
   "outputs": [],
   "source": [
    "df"
   ]
  },
  {
   "cell_type": "code",
   "execution_count": null,
   "metadata": {},
   "outputs": [],
   "source": [
    "# Print the unique options in ['forecast_range']\n",
    "# Create a new dataframe where df['forecast_range'] == '1'\n"
   ]
  },
  {
   "cell_type": "code",
   "execution_count": null,
   "metadata": {},
   "outputs": [],
   "source": [
    "df_new = df[df['forecast_range'] == '2-3']"
   ]
  },
  {
   "cell_type": "code",
   "execution_count": null,
   "metadata": {},
   "outputs": [],
   "source": [
    "df_new"
   ]
  },
  {
   "cell_type": "code",
   "execution_count": null,
   "metadata": {},
   "outputs": [],
   "source": [
    "df_new"
   ]
  },
  {
   "cell_type": "code",
   "execution_count": null,
   "metadata": {},
   "outputs": [],
   "source": [
    "print(df['forecast_range'].unique())"
   ]
  },
  {
   "cell_type": "code",
   "execution_count": null,
   "metadata": {},
   "outputs": [],
   "source": [
    "# Save this file as a .csv\n",
    "df.to_csv(\"alternate_lag_file_info.csv\", index=False)"
   ]
  },
  {
   "cell_type": "code",
   "execution_count": null,
   "metadata": {},
   "outputs": [],
   "source": [
    "# Set up the variables for the data\n",
    "var=\"psl\"\n",
    "season=\"DJFM\"\n",
    "region=\"global\"\n",
    "start_year=\"1964\"\n",
    "end_year=\"2014\"\n",
    "lag=\"4\"\n",
    "forecast_range=\"2-5\""
   ]
  },
  {
   "cell_type": "code",
   "execution_count": null,
   "metadata": {},
   "outputs": [],
   "source": [
    "# Form the filename\n",
    "filename = f\"{var}_{season}_{region}_{start_year}_{end_year}_{forecast_range}_{lag}_*_alternate_lag.npy\"\n",
    "\n",
    "# Print the filename\n",
    "print(\"Filename:\")\n",
    "print(filename)\n",
    "\n",
    "# Print the files that match the filename\n",
    "print(\"Matching files:\")\n",
    "print(glob.glob(alt_lag_dir + filename))"
   ]
  },
  {
   "cell_type": "code",
   "execution_count": null,
   "metadata": {},
   "outputs": [],
   "source": [
    "# Load the file\n",
    "data = np.load(glob.glob(alt_lag_dir + filename)[1])\n",
    "\n",
    "# Print the shape of the data\n",
    "print(\"Shape of data:\")\n",
    "print(data.shape)\n",
    "\n",
    "# Print the data\n",
    "print(\"Data:\")\n",
    "print(data)"
   ]
  },
  {
   "cell_type": "code",
   "execution_count": null,
   "metadata": {},
   "outputs": [],
   "source": [
    "# Set up the other filename\n",
    "# Like this: psl_DJFM_global_1961_1980_2-9_2_1706281292.628301.npy\n",
    "filename = f\"{var}_{season}_{region}_*_{end_year}_{forecast_range}_{lag}_*.npy\"\n",
    "\n",
    "# Print the filename\n",
    "print(\"Filename:\")\n",
    "print(filename)\n",
    "\n",
    "# Print the files that match the filename\n",
    "print(\"Matching files:\")\n",
    "print(glob.glob(alt_lag_dir + filename))\n",
    "\n",
    "# Find the matching file which doesn't have the \"alternate_lag\" string in it\n",
    "for file in glob.glob(alt_lag_dir + filename):\n",
    "    if \"alternate_lag\" not in file:\n",
    "        data = np.load(file)"
   ]
  },
  {
   "cell_type": "code",
   "execution_count": null,
   "metadata": {},
   "outputs": [],
   "source": [
    "# Print the shape of the data\n",
    "print(\"Shape of data:\")\n",
    "print(data.shape)\n",
    "\n",
    "# Print the data\n",
    "print(\"Data:\")\n",
    "print(data)"
   ]
  }
 ],
 "metadata": {
  "kernelspec": {
   "display_name": "Python 3",
   "language": "python",
   "name": "python3"
  },
  "language_info": {
   "codemirror_mode": {
    "name": "ipython",
    "version": 3
   },
   "file_extension": ".py",
   "mimetype": "text/x-python",
   "name": "python",
   "nbconvert_exporter": "python",
   "pygments_lexer": "ipython3",
   "version": "3.10.5"
  }
 },
 "nbformat": 4,
 "nbformat_minor": 2
}
