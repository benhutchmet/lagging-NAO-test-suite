{
 "cells": [
  {
   "cell_type": "markdown",
   "metadata": {},
   "source": [
    "### Testing functions for NAO matching ###"
   ]
  },
  {
   "cell_type": "code",
   "execution_count": null,
   "metadata": {},
   "outputs": [],
   "source": [
    "# Load autoreload extension\n",
    "%load_ext autoreload\n",
    "%autoreload 2\n",
    "\n",
    "# Import local modules\n",
    "import sys\n",
    "import os\n",
    "import pathlib\n",
    "import glob\n",
    "import re\n",
    "import time\n",
    "\n",
    "# Importing third party modules\n",
    "import pandas as pd\n",
    "import numpy as np\n",
    "import xarray as xr\n",
    "from tqdm import tqdm"
   ]
  },
  {
   "cell_type": "code",
   "execution_count": null,
   "metadata": {},
   "outputs": [],
   "source": [
    "# import local modules\n",
    "sys.path.append('/home/users/benhutch/lagging-NAO-test-suite/alternate_lag_suite')\n",
    "\n",
    "# Import alt lag functions\n",
    "import alternate_lag_functions as funcs"
   ]
  },
  {
   "cell_type": "code",
   "execution_count": null,
   "metadata": {},
   "outputs": [],
   "source": [
    "%%time\n",
    "\n",
    "# Test the NAO function\n",
    "obs_nao, model_nao = funcs.calculate_nao_index(\n",
    "    season=\"ONDJFM\",\n",
    "    forecast_range=\"2-9\",\n",
    "    start_year=1961,\n",
    "    end_year=2014,\n",
    "    models_list=[\"BCC-CSM2-MR\"],\n",
    "    plot=False,\n",
    ") # test for a shorter time frame\n"
   ]
  },
  {
   "cell_type": "code",
   "execution_count": null,
   "metadata": {},
   "outputs": [],
   "source": [
    "\n",
    "obs_nao"
   ]
  },
  {
   "cell_type": "code",
   "execution_count": null,
   "metadata": {},
   "outputs": [],
   "source": [
    "model_nao"
   ]
  },
  {
   "cell_type": "code",
   "execution_count": null,
   "metadata": {},
   "outputs": [],
   "source": [
    "# remove the first lag - 1 time steps from the model data\n",
    "lag = 4\n",
    "\n",
    "model_nao = model_nao.isel(time=slice(lag - 1, None))"
   ]
  },
  {
   "cell_type": "code",
   "execution_count": null,
   "metadata": {},
   "outputs": [],
   "source": [
    "model_nao"
   ]
  },
  {
   "cell_type": "code",
   "execution_count": null,
   "metadata": {},
   "outputs": [],
   "source": [
    "# Remove the final lag - 1 time steps from the end of the model data\n",
    "model_nao = model_nao.isel(time=slice(None, -1 * (lag - 1)))"
   ]
  },
  {
   "cell_type": "code",
   "execution_count": null,
   "metadata": {},
   "outputs": [],
   "source": [
    "model_nao"
   ]
  },
  {
   "cell_type": "code",
   "execution_count": null,
   "metadata": {},
   "outputs": [],
   "source": [
    "# Remove the first lag - 1 time steps from the obs data\n",
    "obs_nao = obs_nao.isel(time=slice(lag - 1, None))"
   ]
  },
  {
   "cell_type": "code",
   "execution_count": null,
   "metadata": {},
   "outputs": [],
   "source": [
    "obs_nao"
   ]
  },
  {
   "cell_type": "code",
   "execution_count": null,
   "metadata": {},
   "outputs": [],
   "source": [
    "model_nao"
   ]
  },
  {
   "cell_type": "code",
   "execution_count": null,
   "metadata": {},
   "outputs": [],
   "source": [
    "# Calculate the correlation between the model and obs NAO index\n",
    "from scipy.stats import pearsonr\n",
    "\n",
    "print(obs_nao.shape)\n",
    "print(model_nao['psl'].shape)\n",
    "\n",
    "# Set up the ensemble mean of the model\n",
    "model_nao_ens_mean = model_nao['psl'].mean(dim=\"ensemble_member\")"
   ]
  },
  {
   "cell_type": "code",
   "execution_count": null,
   "metadata": {},
   "outputs": [],
   "source": [
    "%%time\n",
    "\n",
    "# Calculate the correlation\n",
    "corr, _ = pearsonr(obs_nao, model_nao_ens_mean)"
   ]
  },
  {
   "cell_type": "code",
   "execution_count": null,
   "metadata": {},
   "outputs": [],
   "source": [
    "# Calculate the standard deviation of the ensemble mean\n",
    "sig_f_sig = np.std(model_nao_ens_mean)\n",
    "\n",
    "# Calculate the standard deviation of the ensemble\n",
    "sig_f_tot = np.std(model_nao['psl'])\n",
    "\n",
    "# Calculate the standard deviation of the observations\n",
    "sig_o_tot = np.std(obs_nao)"
   ]
  },
  {
   "cell_type": "code",
   "execution_count": null,
   "metadata": {},
   "outputs": [],
   "source": [
    "# Calculate the rpc\n",
    "rpc = corr / (sig_f_sig / sig_f_tot)\n",
    "\n",
    "# Calculate the rps\n",
    "rps = rpc * (sig_o_tot / sig_f_tot)"
   ]
  },
  {
   "cell_type": "code",
   "execution_count": null,
   "metadata": {},
   "outputs": [],
   "source": [
    "# Scale the ensemble mean nao by the rps\n",
    "model_nao_ens_mean = model_nao_ens_mean * rps"
   ]
  },
  {
   "cell_type": "code",
   "execution_count": null,
   "metadata": {},
   "outputs": [],
   "source": [
    "import matplotlib.pyplot as plt\n",
    "\n",
    "# Set up a figure\n",
    "fig, ax = plt.subplots()\n",
    "\n",
    "# Plot the obs NAO\n",
    "obs_nao.plot(ax=ax, label=\"Obs\")\n",
    "\n",
    "# Plot the model NAO\n",
    "model_nao_ens_mean.plot(ax=ax, label=\"Model\")\n",
    "\n",
    "# Add a legend\n",
    "ax.legend()"
   ]
  },
  {
   "cell_type": "markdown",
   "metadata": {},
   "source": [
    "NAO looks approximately correct (but we also need to align the years), now we want to find the ensemble members which have the closest values to the signal adjusted NAO each year."
   ]
  },
  {
   "cell_type": "code",
   "execution_count": null,
   "metadata": {},
   "outputs": [],
   "source": [
    "%%time\n",
    "\n",
    "# For each year, calculate the absolute difference between the NAO of each\n",
    "# of the ensemble members and the signal adjusted ensemble mean\n",
    "# Then we want to create an ascending list of the ensemble members and their\n",
    "# differences from the signal adjusted ensemble mean, from smallest to largest\n",
    "# Then we want to calculate the rank of each ensemble member in this list\n",
    "\n",
    "# Calculate the absolute difference between the NAO of each of the ensemble\n",
    "# members and the signal adjusted ensemble mean\n",
    "# Set up the years\n",
    "years = model_nao['time.year'].values\n",
    "\n",
    "# Extract the values for the data\n",
    "model_nao_values = model_nao['psl'].values\n",
    "\n",
    "# Extract the model\n",
    "\n",
    "# limit years for testing\n",
    "years = years[:10]\n",
    "\n",
    "# Set up a list to store the ranks\n",
    "rank_list = {year: [] for year in years}\n",
    "\n",
    "# Loop over the years\n",
    "for i, year in tqdm(enumerate(years)):\n",
    "    # Get the ensemble members for the year\n",
    "    year_ens = model_nao_values[i, :]\n",
    "\n",
    "    # print the types\n",
    "    print(type(year_ens))\n",
    "    print(type(model_nao_ens_mean[i].values))\n",
    "\n",
    "    # Calculate the absolute difference\n",
    "    abs_diff = np.abs(year_ens - model_nao_ens_mean[i].values)\n",
    "\n",
    "    # Create a dataframe\n",
    "    df = pd.DataFrame(\n",
    "        {\n",
    "            \"ensemble_member\": model_nao['ensemble_member'].values,\n",
    "            \"abs_diff\": abs_diff,\n",
    "        }\n",
    "    )\n",
    "\n",
    "    # Sort the dataframe by the absolute difference\n",
    "    df = df.sort_values(by=\"abs_diff\")\n",
    "\n",
    "    # Add the dataframe to the rank list\n",
    "    rank_list[year] = df\n"
   ]
  },
  {
   "cell_type": "code",
   "execution_count": null,
   "metadata": {},
   "outputs": [],
   "source": [
    "rank_list[1972] "
   ]
  },
  {
   "cell_type": "markdown",
   "metadata": {},
   "source": [
    "#### Matching for the variable ####\n",
    "\n",
    "Now we want to pick a variable to match for, say, sfcWind. Then we want to find the ensemble members within the sfcWind ensemble which correspond to the 20 highest ranked members in the ranked list. First we want to assemble the ensemble list for this variable."
   ]
  },
  {
   "cell_type": "code",
   "execution_count": null,
   "metadata": {},
   "outputs": [],
   "source": [
    "# Define a function for finding the ensemble members for a given variable\n",
    "def find_ens_members(\n",
    "                variable: str,\n",
    "                models_list: list,\n",
    "                season: str,\n",
    "                forecast_range: str,\n",
    "                start_year: int = 1961,\n",
    "                end_year: int = 2014,\n",
    "                lag: int = 4,\n",
    "                region: str = \"global\",\n",
    "                base_dir: str = \"/gws/nopw/j04/canari/users/benhutch/skill-maps-processed-data\",\n",
    "):\n",
    "        \"\"\"\n",
    "        Forms a list of all of the ensemble members for a given variable.\n",
    "\n",
    "        Args:\n",
    "                variable (str): The variable to find the ensemble members for.\n",
    "                models_list (list): A list of the models to find the ensemble members for.\n",
    "                start_year (int): The start year of the data.\n",
    "                end_year (int): The end year of the data.\n",
    "                region (str): The region to find the ensemble members for.\n",
    "                base_dir (str): The base directory of the data.\n",
    "\n",
    "        Returns:\n",
    "                ens_members (list): A list of the ensemble members for the given variable.\n",
    "        \"\"\"\n",
    "\n",
    "        # Set up a list to store the ensemble members\n",
    "        ens_members = []\n",
    "\n",
    "        # Loop over the models\n",
    "        for model in tqdm(models_list):\n",
    "                # Set up the fstem\n",
    "                fstem = (\n",
    "                        f\"{base_dir}/{variable}/{model}/{region}/{forecast_range}/{season}/outputs/\"\n",
    "                )\n",
    "                                \n",
    "                # Set up the filename\n",
    "                fname = f\"*s{start_year}-*years_{forecast_range}_start_{start_year}_end_{end_year}_anoms.nc\"\n",
    "\n",
    "                # Find the files\n",
    "                files = glob.glob(f\"{fstem}{fname}\")\n",
    "\n",
    "                # Extract the filenames\n",
    "                fnames = [file.split(\"/\")[-1] for file in files]\n",
    "\n",
    "                # Split the fnames by _\n",
    "                fnames_split = [fname.split(\"_\")[4] for fname in fnames]\n",
    "\n",
    "                # Split this list by -\n",
    "                members = [fname.split(\"-\")[1] for fname in fnames_split]\n",
    "\n",
    "                # Find the unique members\n",
    "                unique_members = list(set(members))\n",
    "\n",
    "                # New members list\n",
    "                new_members = []\n",
    "\n",
    "                if lag is not None:\n",
    "                        for lag_idx in range(lag):\n",
    "                                # append the model to the members\n",
    "                                new_members += [f\"{model}_{member}_lag_{lag_idx}\" for member in unique_members]\n",
    "                else:\n",
    "                        # append the model to the members\n",
    "                        #f\"{model}_{member}\" for member in members\n",
    "                        new_members = [f\"{model}_{member}\" for member in members]\n",
    "\n",
    "                # Add the members to the list\n",
    "                ens_members.extend(new_members)\n",
    "\n",
    "        return ens_members\n"
   ]
  },
  {
   "cell_type": "code",
   "execution_count": null,
   "metadata": {},
   "outputs": [],
   "source": [
    "# Import dictionaries\n",
    "sys.path.append('/home/users/benhutch/lagging-NAO-test-suite/')\n",
    "\n",
    "# Import dictionaries\n",
    "import dictionaries as dicts"
   ]
  },
  {
   "cell_type": "code",
   "execution_count": null,
   "metadata": {},
   "outputs": [],
   "source": [
    "# test this function\n",
    "sfcwind_ens = find_ens_members(\n",
    "    variable=\"sfcWind\",\n",
    "    models_list=dicts.sfcWind_models,\n",
    "    season=\"ONDJFM\",\n",
    "    forecast_range=\"2-9\",\n",
    "    start_year=1961,\n",
    "    end_year=2014,\n",
    "    region=\"global\",\n",
    "    base_dir=\"/gws/nopw/j04/canari/users/benhutch/skill-maps-processed-data\",\n",
    ")"
   ]
  },
  {
   "cell_type": "code",
   "execution_count": null,
   "metadata": {},
   "outputs": [],
   "source": [
    "len(sfcwind_ens)"
   ]
  },
  {
   "cell_type": "markdown",
   "metadata": {},
   "source": [
    "Now that we have this list, we want to find the members which match those within the nao rank_list for each year, then we need to extract these."
   ]
  }
 ],
 "metadata": {
  "kernelspec": {
   "display_name": "Python 3",
   "language": "python",
   "name": "python3"
  },
  "language_info": {
   "codemirror_mode": {
    "name": "ipython",
    "version": 3
   },
   "file_extension": ".py",
   "mimetype": "text/x-python",
   "name": "python",
   "nbconvert_exporter": "python",
   "pygments_lexer": "ipython3",
   "version": "3.10.5"
  }
 },
 "nbformat": 4,
 "nbformat_minor": 4
}
