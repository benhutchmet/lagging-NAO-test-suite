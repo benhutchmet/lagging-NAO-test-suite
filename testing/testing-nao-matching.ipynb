{
 "cells": [
  {
   "cell_type": "markdown",
   "metadata": {},
   "source": [
    "### Testing functions for NAO matching ###"
   ]
  },
  {
   "cell_type": "code",
   "execution_count": null,
   "metadata": {},
   "outputs": [],
   "source": [
    "# Load autoreload extension\n",
    "%load_ext autoreload\n",
    "%autoreload 2\n",
    "\n",
    "# Import local modules\n",
    "import sys\n",
    "import os\n",
    "import pathlib\n",
    "import glob\n",
    "import re\n",
    "import time\n",
    "\n",
    "# Importing third party modules\n",
    "import pandas as pd\n",
    "import numpy as np\n",
    "import xarray as xr\n",
    "from tqdm import tqdm"
   ]
  },
  {
   "cell_type": "code",
   "execution_count": null,
   "metadata": {},
   "outputs": [],
   "source": [
    "# import local modules\n",
    "sys.path.append('/home/users/benhutch/lagging-NAO-test-suite/alternate_lag_suite')\n",
    "\n",
    "# Import alt lag functions\n",
    "import alternate_lag_functions as funcs"
   ]
  },
  {
   "cell_type": "code",
   "execution_count": null,
   "metadata": {},
   "outputs": [],
   "source": [
    "%%time\n",
    "\n",
    "# Test the NAO function\n",
    "obs_nao, model_nao = funcs.calculate_nao_index(\n",
    "    season=\"ONDJFM\",\n",
    "    forecast_range=\"2-9\",\n",
    "    start_year=1961,\n",
    "    end_year=2014,\n",
    "    models_list=[\"BCC-CSM2-MR\"],\n",
    "    plot=False,\n",
    ") # test for a shorter time frame\n"
   ]
  },
  {
   "cell_type": "code",
   "execution_count": null,
   "metadata": {},
   "outputs": [],
   "source": [
    "\n",
    "obs_nao"
   ]
  },
  {
   "cell_type": "code",
   "execution_count": null,
   "metadata": {},
   "outputs": [],
   "source": [
    "model_nao"
   ]
  },
  {
   "cell_type": "code",
   "execution_count": null,
   "metadata": {},
   "outputs": [],
   "source": [
    "# remove the first lag - 1 time steps from the model data\n",
    "lag = 4\n",
    "\n",
    "model_nao = model_nao.isel(time=slice(lag - 1, None))"
   ]
  },
  {
   "cell_type": "code",
   "execution_count": null,
   "metadata": {},
   "outputs": [],
   "source": [
    "model_nao"
   ]
  },
  {
   "cell_type": "code",
   "execution_count": null,
   "metadata": {},
   "outputs": [],
   "source": [
    "# Remove the final lag - 1 time steps from the end of the model data\n",
    "model_nao = model_nao.isel(time=slice(None, -1 * (lag - 1)))"
   ]
  },
  {
   "cell_type": "code",
   "execution_count": null,
   "metadata": {},
   "outputs": [],
   "source": [
    "model_nao"
   ]
  },
  {
   "cell_type": "code",
   "execution_count": null,
   "metadata": {},
   "outputs": [],
   "source": [
    "# Remove the first lag - 1 time steps from the obs data\n",
    "obs_nao = obs_nao.isel(time=slice(lag - 1, None))"
   ]
  },
  {
   "cell_type": "code",
   "execution_count": null,
   "metadata": {},
   "outputs": [],
   "source": [
    "obs_nao"
   ]
  },
  {
   "cell_type": "code",
   "execution_count": null,
   "metadata": {},
   "outputs": [],
   "source": [
    "model_nao"
   ]
  },
  {
   "cell_type": "code",
   "execution_count": null,
   "metadata": {},
   "outputs": [],
   "source": [
    "# Calculate the correlation between the model and obs NAO index\n",
    "from scipy.stats import pearsonr\n",
    "\n",
    "print(obs_nao.shape)\n",
    "print(model_nao['psl'].shape)\n",
    "\n",
    "# Set up the ensemble mean of the model\n",
    "model_nao_ens_mean = model_nao['psl'].mean(dim=\"ensemble_member\")"
   ]
  },
  {
   "cell_type": "code",
   "execution_count": null,
   "metadata": {},
   "outputs": [],
   "source": [
    "# Calculate the correlation\n",
    "corr, _ = pearsonr(obs_nao, model_nao_ens_mean)"
   ]
  },
  {
   "cell_type": "code",
   "execution_count": null,
   "metadata": {},
   "outputs": [],
   "source": [
    "# Calculate the standard deviation of the ensemble mean\n",
    "sig_f_sig = np.std(model_nao_ens_mean)\n",
    "\n",
    "# Calculate the standard deviation of the ensemble\n",
    "sig_f_tot = np.std(model_nao['psl'])\n",
    "\n",
    "# Calculate the standard deviation of the observations\n",
    "sig_o_tot = np.std(obs_nao)"
   ]
  },
  {
   "cell_type": "code",
   "execution_count": null,
   "metadata": {},
   "outputs": [],
   "source": [
    "# Calculate the rpc\n",
    "rpc = corr / (sig_f_sig / sig_f_tot)\n",
    "\n",
    "# Calculate the rps\n",
    "rps = rpc * (sig_o_tot / sig_f_tot)"
   ]
  },
  {
   "cell_type": "code",
   "execution_count": null,
   "metadata": {},
   "outputs": [],
   "source": [
    "# Scale the ensemble mean nao by the rps\n",
    "model_nao_ens_mean = model_nao_ens_mean * rps"
   ]
  },
  {
   "cell_type": "code",
   "execution_count": null,
   "metadata": {},
   "outputs": [],
   "source": [
    "import matplotlib.pyplot as plt\n",
    "\n",
    "# Set up a figure\n",
    "fig, ax = plt.subplots()\n",
    "\n",
    "# Plot the obs NAO\n",
    "obs_nao.plot(ax=ax, label=\"Obs\")\n",
    "\n",
    "# Plot the model NAO\n",
    "model_nao_ens_mean.plot(ax=ax, label=\"Model\")\n",
    "\n",
    "# Add a legend\n",
    "ax.legend()"
   ]
  },
  {
   "cell_type": "markdown",
   "metadata": {},
   "source": [
    "NAO looks approximately correct (but we also need to align the years), now we want to find the ensemble members which have the closest values to the signal adjusted NAO each year."
   ]
  },
  {
   "cell_type": "code",
   "execution_count": null,
   "metadata": {},
   "outputs": [],
   "source": [
    "%%time\n",
    "\n",
    "# For each year, calculate the absolute difference between the NAO of each\n",
    "# of the ensemble members and the signal adjusted ensemble mean\n",
    "# Then we want to create an ascending list of the ensemble members and their\n",
    "# differences from the signal adjusted ensemble mean, from smallest to largest\n",
    "# Then we want to calculate the rank of each ensemble member in this list\n",
    "\n",
    "# Calculate the absolute difference between the NAO of each of the ensemble\n",
    "# members and the signal adjusted ensemble mean\n",
    "# Set up the years\n",
    "years = model_nao['time.year'].values\n",
    "\n",
    "# Set up a list to store the ranks\n",
    "rank_list = []\n",
    "\n",
    "# Loop over the years\n",
    "for i, year in enumerate(years):\n",
    "    # Get the ensemble members for the year\n",
    "    year_ens = model_nao.sel(time=str(year)).values\n",
    "\n",
    "    # print the types\n",
    "    print(type(year_ens))\n",
    "    print(type(model_nao_ens_mean[i].values))\n",
    "\n",
    "    # Calculate the absolute difference\n",
    "    abs_diff = np.abs(year_ens - model_nao_ens_mean[i].values)\n",
    "\n",
    "    # Create a dataframe\n",
    "    df = pd.DataFrame(\n",
    "        {\n",
    "            \"ensemble_member\": model_nao['ensemble_member'].values,\n",
    "            \"abs_diff\": abs_diff,\n",
    "        }\n",
    "    )\n",
    "\n",
    "    # Sort the dataframe by the absolute difference\n",
    "    df = df.sort_values(by=\"abs_diff\")\n",
    "\n",
    "    # Add the rank to the rank list\n",
    "    rank_list.append(df['ensemble_member'].values)\n"
   ]
  }
 ],
 "metadata": {
  "kernelspec": {
   "display_name": "Python 3",
   "language": "python",
   "name": "python3"
  },
  "language_info": {
   "codemirror_mode": {
    "name": "ipython",
    "version": 3
   },
   "file_extension": ".py",
   "mimetype": "text/x-python",
   "name": "python",
   "nbconvert_exporter": "python",
   "pygments_lexer": "ipython3",
   "version": "3.10.5"
  }
 },
 "nbformat": 4,
 "nbformat_minor": 4
}
