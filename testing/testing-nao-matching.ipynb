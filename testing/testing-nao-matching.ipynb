{
 "cells": [
  {
   "cell_type": "markdown",
   "metadata": {},
   "source": [
    "### Testing functions for NAO matching ###"
   ]
  },
  {
   "cell_type": "code",
   "execution_count": null,
   "metadata": {},
   "outputs": [],
   "source": [
    "# Load autoreload extension\n",
    "%load_ext autoreload\n",
    "%autoreload 2\n",
    "\n",
    "# Import local modules\n",
    "import sys\n",
    "import os\n",
    "import glob\n",
    "import re\n",
    "\n",
    "# Importing third party modules\n",
    "import pandas as pd\n",
    "import numpy as np\n",
    "import xarray as xr\n",
    "from tqdm import tqdm"
   ]
  },
  {
   "cell_type": "code",
   "execution_count": null,
   "metadata": {},
   "outputs": [],
   "source": [
    "# import local modules\n",
    "sys.path.append('/home/users/benhutch/lagging-NAO-test-suite/alternate_lag_suite')\n",
    "\n",
    "# Import alt lag functions\n",
    "import alternate_lag_functions as funcs"
   ]
  },
  {
   "cell_type": "code",
   "execution_count": null,
   "metadata": {},
   "outputs": [],
   "source": [
    "# Test the NAO function\n",
    "paths = funcs.calculate_nao_index(season=\"ONDJFM\",\n",
    "                            forecast_range=\"2-9\",)\n"
   ]
  },
  {
   "cell_type": "code",
   "execution_count": null,
   "metadata": {},
   "outputs": [],
   "source": []
  },
  {
   "cell_type": "code",
   "execution_count": null,
   "metadata": {},
   "outputs": [],
   "source": [
    "# Limit the paths to the first 8\n",
    "paths = paths[:50]"
   ]
  },
  {
   "cell_type": "code",
   "execution_count": null,
   "metadata": {},
   "outputs": [],
   "source": [
    "bcc_test = []\n",
    "\n",
    "# Loop over the paths\n",
    "for path in tqdm(paths):\n",
    "\n",
    "    # Loop over the lags\n",
    "    for k in range(0, 4):\n",
    "        # print(f\"Processing lag index {k}\")\n",
    "\n",
    "        # Load the data\n",
    "        ds = xr.open_mfdataset(path,\n",
    "                            preprocess=lambda ds: preprocess(ds, forecast_range=\"2-9\",\n",
    "                                                                filenames=path,\n",
    "                                                                lag=k),\n",
    "                            combine='nested',\n",
    "                            concat_dim='time',\n",
    "                            join='override',\n",
    "                            coords='minimal',\n",
    "                            engine='netcdf4',\n",
    "                            parallel=True,)\n",
    "    \n",
    "        # Append the data to the list\n",
    "        bcc_test.append(ds)\n",
    "\n",
    "# Concatenate the data\n",
    "bcc_test = xr.concat(bcc_test, dim='ensemble_member')"
   ]
  },
  {
   "cell_type": "code",
   "execution_count": null,
   "metadata": {},
   "outputs": [],
   "source": [
    "bcc_test"
   ]
  }
 ],
 "metadata": {
  "kernelspec": {
   "display_name": "Python 3",
   "language": "python",
   "name": "python3"
  },
  "language_info": {
   "codemirror_mode": {
    "name": "ipython",
    "version": 3
   },
   "file_extension": ".py",
   "mimetype": "text/x-python",
   "name": "python",
   "nbconvert_exporter": "python",
   "pygments_lexer": "ipython3",
   "version": "3.10.5"
  }
 },
 "nbformat": 4,
 "nbformat_minor": 2
}
