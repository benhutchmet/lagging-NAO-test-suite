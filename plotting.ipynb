{
 "cells": [
  {
   "cell_type": "code",
   "execution_count": 1,
   "metadata": {},
   "outputs": [],
   "source": [
    "# Imports\n",
    "import argparse\n",
    "import glob\n",
    "import os\n",
    "import sys\n",
    "import re\n",
    "\n",
    "# Third party imports\n",
    "import xarray as xr\n",
    "import numpy as np\n",
    "import scipy.stats as stats\n",
    "import matplotlib.pyplot as plt\n",
    "import pandas as pd\n",
    "from datetime import datetime\n",
    "import cftime"
   ]
  },
  {
   "cell_type": "code",
   "execution_count": 2,
   "metadata": {},
   "outputs": [],
   "source": [
    "# Import from dictionaries\n",
    "import dictionaries as dic\n",
    "\n",
    "# Import functions\n",
    "import processing_NAO_data as pnd\n",
    "import functions_lag as fnc"
   ]
  },
  {
   "cell_type": "code",
   "execution_count": 3,
   "metadata": {},
   "outputs": [],
   "source": [
    "# Load the observations manually\n",
    "obs = xr.open_dataset(dic.obs_long, chunks={\"time\": 50})"
   ]
  },
  {
   "cell_type": "code",
   "execution_count": 4,
   "metadata": {},
   "outputs": [],
   "source": [
    "# Set up the forecast range and season\n",
    "forecast_range = \"2-9\"\n",
    "season = \"DJFM\"\n",
    "variable = \"psl\"\n",
    "\n",
    "# Set up the test model\n",
    "test_model = [ \"BCC-CSM2-MR\" ]"
   ]
  },
  {
   "cell_type": "code",
   "execution_count": 5,
   "metadata": {},
   "outputs": [
    {
     "name": "stdout",
     "output_type": "stream",
     "text": [
      "Searching for files in  /home/users/benhutch/alternate-lag-processed-data/*.nc\n",
      "Files for BCC-CSM2-MR: ['/home/users/benhutch/alternate-lag-processed-data/NAO_BCC-CSM2-MR_psl__DJFM_lag-4_r1i1.init-minus-1.nc', '/home/users/benhutch/alternate-lag-processed-data/NAO_BCC-CSM2-MR_psl__DJFM_lag-4_r1i1.init-minus-2.nc', '/home/users/benhutch/alternate-lag-processed-data/NAO_BCC-CSM2-MR_psl__DJFM_lag-4_r1i1.init-minus-3.nc', '/home/users/benhutch/alternate-lag-processed-data/NAO_BCC-CSM2-MR_psl__DJFM_lag-4_r1i1.same-init.nc', '/home/users/benhutch/alternate-lag-processed-data/NAO_BCC-CSM2-MR_psl__DJFM_lag-4_r2i1.init-minus-1.nc', '/home/users/benhutch/alternate-lag-processed-data/NAO_BCC-CSM2-MR_psl__DJFM_lag-4_r2i1.init-minus-2.nc', '/home/users/benhutch/alternate-lag-processed-data/NAO_BCC-CSM2-MR_psl__DJFM_lag-4_r2i1.init-minus-3.nc', '/home/users/benhutch/alternate-lag-processed-data/NAO_BCC-CSM2-MR_psl__DJFM_lag-4_r2i1.same-init.nc', '/home/users/benhutch/alternate-lag-processed-data/NAO_BCC-CSM2-MR_psl__DJFM_lag-4_r3i1.init-minus-1.nc', '/home/users/benhutch/alternate-lag-processed-data/NAO_BCC-CSM2-MR_psl__DJFM_lag-4_r3i1.init-minus-2.nc', '/home/users/benhutch/alternate-lag-processed-data/NAO_BCC-CSM2-MR_psl__DJFM_lag-4_r3i1.init-minus-3.nc', '/home/users/benhutch/alternate-lag-processed-data/NAO_BCC-CSM2-MR_psl__DJFM_lag-4_r3i1.same-init.nc', '/home/users/benhutch/alternate-lag-processed-data/NAO_BCC-CSM2-MR_psl__DJFM_lag-4_r4i1.init-minus-1.nc', '/home/users/benhutch/alternate-lag-processed-data/NAO_BCC-CSM2-MR_psl__DJFM_lag-4_r4i1.init-minus-2.nc', '/home/users/benhutch/alternate-lag-processed-data/NAO_BCC-CSM2-MR_psl__DJFM_lag-4_r4i1.init-minus-3.nc', '/home/users/benhutch/alternate-lag-processed-data/NAO_BCC-CSM2-MR_psl__DJFM_lag-4_r4i1.same-init.nc', '/home/users/benhutch/alternate-lag-processed-data/NAO_BCC-CSM2-MR_psl__DJFM_lag-4_r5i1.init-minus-1.nc', '/home/users/benhutch/alternate-lag-processed-data/NAO_BCC-CSM2-MR_psl__DJFM_lag-4_r5i1.init-minus-2.nc', '/home/users/benhutch/alternate-lag-processed-data/NAO_BCC-CSM2-MR_psl__DJFM_lag-4_r5i1.init-minus-3.nc', '/home/users/benhutch/alternate-lag-processed-data/NAO_BCC-CSM2-MR_psl__DJFM_lag-4_r5i1.same-init.nc', '/home/users/benhutch/alternate-lag-processed-data/NAO_BCC-CSM2-MR_psl__DJFM_lag-4_r6i1.init-minus-1.nc', '/home/users/benhutch/alternate-lag-processed-data/NAO_BCC-CSM2-MR_psl__DJFM_lag-4_r6i1.init-minus-2.nc', '/home/users/benhutch/alternate-lag-processed-data/NAO_BCC-CSM2-MR_psl__DJFM_lag-4_r6i1.init-minus-3.nc', '/home/users/benhutch/alternate-lag-processed-data/NAO_BCC-CSM2-MR_psl__DJFM_lag-4_r6i1.same-init.nc', '/home/users/benhutch/alternate-lag-processed-data/NAO_BCC-CSM2-MR_psl__DJFM_lag-4_r7i1.init-minus-1.nc', '/home/users/benhutch/alternate-lag-processed-data/NAO_BCC-CSM2-MR_psl__DJFM_lag-4_r7i1.init-minus-2.nc', '/home/users/benhutch/alternate-lag-processed-data/NAO_BCC-CSM2-MR_psl__DJFM_lag-4_r7i1.init-minus-3.nc', '/home/users/benhutch/alternate-lag-processed-data/NAO_BCC-CSM2-MR_psl__DJFM_lag-4_r7i1.same-init.nc', '/home/users/benhutch/alternate-lag-processed-data/NAO_BCC-CSM2-MR_psl__DJFM_lag-4_r8i1.init-minus-1.nc', '/home/users/benhutch/alternate-lag-processed-data/NAO_BCC-CSM2-MR_psl__DJFM_lag-4_r8i1.init-minus-2.nc', '/home/users/benhutch/alternate-lag-processed-data/NAO_BCC-CSM2-MR_psl__DJFM_lag-4_r8i1.init-minus-3.nc', '/home/users/benhutch/alternate-lag-processed-data/NAO_BCC-CSM2-MR_psl__DJFM_lag-4_r8i1.same-init.nc']\n"
     ]
    }
   ],
   "source": [
    "# Call the function to load the lagged ensemble members\n",
    "# %tb\n",
    "base_directory = \"/home/users/benhutch/alternate-lag-processed-data\"\n",
    "lagged_ensemble_members = fnc.load_data(base_directory, test_model, variable, forecast_range, season)"
   ]
  },
  {
   "cell_type": "code",
   "execution_count": 6,
   "metadata": {},
   "outputs": [],
   "source": [
    "# (lagged_ensemble_members[\"BCC-CSM2-MR\"])"
   ]
  },
  {
   "cell_type": "code",
   "execution_count": 7,
   "metadata": {},
   "outputs": [
    {
     "name": "stdout",
     "output_type": "stream",
     "text": [
      "Dataset type: <class 'dict'>\n"
     ]
    }
   ],
   "source": [
    "# Process the model data\n",
    "extracted_model_data, model_time = fnc.process_data(lagged_ensemble_members, variable)"
   ]
  },
  {
   "cell_type": "code",
   "execution_count": 8,
   "metadata": {},
   "outputs": [],
   "source": [
    "# print((lagged_nao))"
   ]
  },
  {
   "cell_type": "code",
   "execution_count": 9,
   "metadata": {},
   "outputs": [],
   "source": [
    "# # Extract the model data from the combined model data\n",
    "# extracted_model_data = fnc.extract_model_data(test_model, combined_model_data)"
   ]
  },
  {
   "cell_type": "code",
   "execution_count": 10,
   "metadata": {},
   "outputs": [
    {
     "name": "stdout",
     "output_type": "stream",
     "text": [
      "(56,)\n",
      "(56,)\n"
     ]
    }
   ],
   "source": [
    "# Process the observations\n",
    "obs_nao_anom, obs_time = pnd.process_observations(obs)"
   ]
  },
  {
   "cell_type": "code",
   "execution_count": 11,
   "metadata": {},
   "outputs": [
    {
     "data": {
      "text/plain": [
       "array([-6.3554754e+00, -9.5273399e+00, -9.0454988e+00, -7.9209752e+00,\n",
       "       -6.1510725e+00, -3.9323792e+00, -1.8308229e+00, -2.0797155e+00,\n",
       "       -8.2601625e-01,  1.3739395e-01,  3.4737507e-01, -3.5296369e-01,\n",
       "       -8.7588125e-01, -1.5944579e+00, -2.1773391e+00, -1.2276349e+00,\n",
       "       -1.3797085e+00, -6.4968222e-01, -3.4038123e-01,  3.5413346e-01,\n",
       "        1.4846133e-01,  1.8810407e+00,  3.2510529e+00,  2.5537694e+00,\n",
       "        2.8302557e+00,  4.7958565e+00,  6.1325402e+00,  8.1794100e+00,\n",
       "        7.2252769e+00,  5.0482664e+00,  3.6352830e+00,  4.0361080e+00,\n",
       "        4.1495919e+00,  1.7028153e+00,  3.2773572e-01, -1.2587537e+00,\n",
       "       -3.2270613e-01, -1.0932827e-03, -4.4648442e-01, -3.2553241e-01,\n",
       "       -6.0777533e-01,  8.8634384e-01, -1.5123428e+00, -2.0658119e+00,\n",
       "       -1.0855211e-01, -1.5723979e+00,  1.6705549e-01,  1.4913354e+00,\n",
       "        1.4322727e+00,  1.8301322e+00,  4.7285671e+00,  5.7731433e+00,\n",
       "        5.8144898e+00,  6.7102952e+00,  6.2561598e+00,  6.4657485e-01],\n",
       "      dtype=float32)"
      ]
     },
     "execution_count": 11,
     "metadata": {},
     "output_type": "execute_result"
    }
   ],
   "source": [
    "obs_nao_anom.values"
   ]
  },
  {
   "cell_type": "code",
   "execution_count": 12,
   "metadata": {},
   "outputs": [
    {
     "data": {
      "text/plain": [
       "array(['1964', '1965', '1966', '1967', '1968', '1969', '1970', '1971',\n",
       "       '1972', '1973', '1974', '1975', '1976', '1977', '1978', '1979',\n",
       "       '1980', '1981', '1982', '1983', '1984', '1985', '1986', '1987',\n",
       "       '1988', '1989', '1990', '1991', '1992', '1993', '1994', '1995',\n",
       "       '1996', '1997', '1998', '1999', '2000', '2001', '2002', '2003',\n",
       "       '2004', '2005', '2006', '2007', '2008', '2009', '2010', '2011',\n",
       "       '2012', '2013', '2014', '2015', '2016', '2017', '2018', '2019'],\n",
       "      dtype='datetime64[Y]')"
      ]
     },
     "execution_count": 12,
     "metadata": {},
     "output_type": "execute_result"
    }
   ],
   "source": [
    "obs_time"
   ]
  },
  {
   "cell_type": "code",
   "execution_count": 13,
   "metadata": {},
   "outputs": [
    {
     "name": "stdout",
     "output_type": "stream",
     "text": [
      "model data shape ()\n",
      "Extracting data for model: BCC-CSM2-MR\n",
      "ensemble members array shape (32, 51, 1, 1)\n",
      "For the obs time: <class 'numpy.ndarray'>\n",
      "For the model time: <class 'numpy.ndarray'>\n",
      "obs time ['1964' '1965' '1966' '1967' '1968' '1969' '1970' '1971' '1972' '1973'\n",
      " '1974' '1975' '1976' '1977' '1978' '1979' '1980' '1981' '1982' '1983'\n",
      " '1984' '1985' '1986' '1987' '1988' '1989' '1990' '1991' '1992' '1993'\n",
      " '1994' '1995' '1996' '1997' '1998' '1999' '2000' '2001' '2002' '2003'\n",
      " '2004' '2005' '2006' '2007' '2008' '2009' '2010' '2011' '2012' '2013'\n",
      " '2014' '2015' '2016' '2017' '2018' '2019']\n",
      "model time [1968 1969 1970 1971 1972 1973 1974 1975 1976 1977 1978 1979 1980 1981\n",
      " 1982 1983 1984 1985 1986 1987 1988 1989 1990 1991 1992 1993 1994 1995\n",
      " 1996 1997 1998 1999 2000 2001 2002 2003 2004 2005 2006 2007 2008 2009\n",
      " 2010 2011 2012 2013 2014 2015 2016 2017 2018]\n"
     ]
    },
    {
     "ename": "ValueError",
     "evalue": "shapes (3,) and (3,1,1) not aligned: 3 (dim 0) != 1 (dim 1)",
     "output_type": "error",
     "traceback": [
      "\u001b[0;31m---------------------------------------------------------------------------\u001b[0m",
      "\u001b[0;31mValueError\u001b[0m                                Traceback (most recent call last)",
      "Input \u001b[0;32mIn [13]\u001b[0m, in \u001b[0;36m<cell line: 2>\u001b[0;34m()\u001b[0m\n\u001b[1;32m      1\u001b[0m \u001b[38;5;66;03m# Call the function to plot the data\u001b[39;00m\n\u001b[0;32m----> 2\u001b[0m \u001b[43mpnd\u001b[49m\u001b[38;5;241;43m.\u001b[39;49m\u001b[43mplot_ensemble_members_and_lagged_adjusted_mean\u001b[49m\u001b[43m(\u001b[49m\u001b[43mtest_model\u001b[49m\u001b[43m,\u001b[49m\u001b[43m \u001b[49m\u001b[43mextracted_model_data\u001b[49m\u001b[43m,\u001b[49m\u001b[43m \u001b[49m\u001b[43mmodel_time\u001b[49m\u001b[43m,\u001b[49m\u001b[43m \u001b[49m\u001b[43mobs_nao_anom\u001b[49m\u001b[43m,\u001b[49m\u001b[43m \u001b[49m\u001b[43mobs_time\u001b[49m\u001b[43m,\u001b[49m\u001b[43m \u001b[49m\u001b[43mforecast_range\u001b[49m\u001b[43m,\u001b[49m\u001b[43m \u001b[49m\u001b[43mseason\u001b[49m\u001b[43m)\u001b[49m\n",
      "File \u001b[0;32m~/lagging-NAO-test-suite/processing_NAO_data.py:721\u001b[0m, in \u001b[0;36mplot_ensemble_members_and_lagged_adjusted_mean\u001b[0;34m(models, model_data, model_time, obs_nao_anom, obs_time, forecast_range, season, lag)\u001b[0m\n\u001b[1;32m    717\u001b[0m model_time \u001b[38;5;241m=\u001b[39m years\n\u001b[1;32m    719\u001b[0m \u001b[38;5;66;03m# calculate the ACC (short and long) for the lagged grand\u001b[39;00m\n\u001b[1;32m    720\u001b[0m \u001b[38;5;66;03m# ensemble mean\u001b[39;00m\n\u001b[0;32m--> 721\u001b[0m acc_score_short_lagged, _ \u001b[38;5;241m=\u001b[39m \u001b[43mpearsonr_score\u001b[49m\u001b[43m(\u001b[49m\u001b[43mobs_nao_anom\u001b[49m\u001b[43m,\u001b[49m\u001b[43m \u001b[49m\u001b[43mensemble_mean\u001b[49m\u001b[43m,\u001b[49m\u001b[43m \u001b[49m\u001b[43mmodel_time\u001b[49m\u001b[43m,\u001b[49m\n\u001b[1;32m    722\u001b[0m \u001b[43m                                           \u001b[49m\u001b[43mobs_time\u001b[49m\u001b[43m,\u001b[49m\u001b[43m \u001b[49m\u001b[38;5;124;43m\"\u001b[39;49m\u001b[38;5;124;43m1968-01-01\u001b[39;49m\u001b[38;5;124;43m\"\u001b[39;49m\u001b[43m,\u001b[49m\u001b[43m \u001b[49m\u001b[38;5;124;43m\"\u001b[39;49m\u001b[38;5;124;43m1970-12-31\u001b[39;49m\u001b[38;5;124;43m\"\u001b[39;49m\u001b[43m)\u001b[49m\n\u001b[1;32m    723\u001b[0m acc_score_long_lagged, _ \u001b[38;5;241m=\u001b[39m pearsonr_score(obs_nao_anom, ensemble_mean, model_time,\n\u001b[1;32m    724\u001b[0m                                           obs_time, \u001b[38;5;124m\"\u001b[39m\u001b[38;5;124m1968-01-01\u001b[39m\u001b[38;5;124m\"\u001b[39m, \u001b[38;5;124m\"\u001b[39m\u001b[38;5;124m1970-12-31\u001b[39m\u001b[38;5;124m\"\u001b[39m)\n\u001b[1;32m    726\u001b[0m \u001b[38;5;66;03m# Now use these ACC scores to calculate the RPC scores\u001b[39;00m\n\u001b[1;32m    727\u001b[0m \u001b[38;5;66;03m# For the short and long period\u001b[39;00m\n",
      "File \u001b[0;32m~/lagging-NAO-test-suite/processing_NAO_data.py:347\u001b[0m, in \u001b[0;36mpearsonr_score\u001b[0;34m(obs, model, model_times, obs_times, start_date, end_date)\u001b[0m\n\u001b[1;32m    344\u001b[0m filtered_time_series2 \u001b[38;5;241m=\u001b[39m time_series2[model_start_index:model_end_index\u001b[38;5;241m+\u001b[39m\u001b[38;5;241m1\u001b[39m]\n\u001b[1;32m    346\u001b[0m \u001b[38;5;66;03m# Calculate the Pearson correlation coefficient and p-value\u001b[39;00m\n\u001b[0;32m--> 347\u001b[0m correlation_coefficient, p_value \u001b[38;5;241m=\u001b[39m \u001b[43mstats\u001b[49m\u001b[38;5;241;43m.\u001b[39;49m\u001b[43mpearsonr\u001b[49m\u001b[43m(\u001b[49m\u001b[43mfiltered_time_series1\u001b[49m\u001b[43m,\u001b[49m\u001b[43m \u001b[49m\u001b[43mfiltered_time_series2\u001b[49m\u001b[43m)\u001b[49m\n\u001b[1;32m    349\u001b[0m \u001b[38;5;28;01mreturn\u001b[39;00m correlation_coefficient, p_value\n",
      "File \u001b[0;32m/opt/jaspy/lib/python3.10/site-packages/scipy/stats/_stats_py.py:4100\u001b[0m, in \u001b[0;36mpearsonr\u001b[0;34m(x, y)\u001b[0m\n\u001b[1;32m   4094\u001b[0m \u001b[38;5;28;01mif\u001b[39;00m normxm \u001b[38;5;241m<\u001b[39m threshold\u001b[38;5;241m*\u001b[39m\u001b[38;5;28mabs\u001b[39m(xmean) \u001b[38;5;129;01mor\u001b[39;00m normym \u001b[38;5;241m<\u001b[39m threshold\u001b[38;5;241m*\u001b[39m\u001b[38;5;28mabs\u001b[39m(ymean):\n\u001b[1;32m   4095\u001b[0m     \u001b[38;5;66;03m# If all the values in x (likewise y) are very close to the mean,\u001b[39;00m\n\u001b[1;32m   4096\u001b[0m     \u001b[38;5;66;03m# the loss of precision that occurs in the subtraction xm = x - xmean\u001b[39;00m\n\u001b[1;32m   4097\u001b[0m     \u001b[38;5;66;03m# might result in large errors in r.\u001b[39;00m\n\u001b[1;32m   4098\u001b[0m     warnings\u001b[38;5;241m.\u001b[39mwarn(PearsonRNearConstantInputWarning())\n\u001b[0;32m-> 4100\u001b[0m r \u001b[38;5;241m=\u001b[39m \u001b[43mnp\u001b[49m\u001b[38;5;241;43m.\u001b[39;49m\u001b[43mdot\u001b[49m\u001b[43m(\u001b[49m\u001b[43mxm\u001b[49m\u001b[38;5;241;43m/\u001b[39;49m\u001b[43mnormxm\u001b[49m\u001b[43m,\u001b[49m\u001b[43m \u001b[49m\u001b[43mym\u001b[49m\u001b[38;5;241;43m/\u001b[39;49m\u001b[43mnormym\u001b[49m\u001b[43m)\u001b[49m\n\u001b[1;32m   4102\u001b[0m \u001b[38;5;66;03m# Presumably, if abs(r) > 1, then it is only some small artifact of\u001b[39;00m\n\u001b[1;32m   4103\u001b[0m \u001b[38;5;66;03m# floating point arithmetic.\u001b[39;00m\n\u001b[1;32m   4104\u001b[0m r \u001b[38;5;241m=\u001b[39m \u001b[38;5;28mmax\u001b[39m(\u001b[38;5;28mmin\u001b[39m(r, \u001b[38;5;241m1.0\u001b[39m), \u001b[38;5;241m-\u001b[39m\u001b[38;5;241m1.0\u001b[39m)\n",
      "File \u001b[0;32m<__array_function__ internals>:180\u001b[0m, in \u001b[0;36mdot\u001b[0;34m(*args, **kwargs)\u001b[0m\n",
      "\u001b[0;31mValueError\u001b[0m: shapes (3,) and (3,1,1) not aligned: 3 (dim 0) != 1 (dim 1)"
     ]
    }
   ],
   "source": [
    "# Call the function to plot the data\n",
    "pnd.plot_ensemble_members_and_lagged_adjusted_mean(test_model, extracted_model_data, model_time, obs_nao_anom, obs_time, forecast_range, season)\n"
   ]
  }
 ],
 "metadata": {
  "kernelspec": {
   "display_name": "bens-python-environment",
   "language": "python",
   "name": "bens-python-environment"
  },
  "language_info": {
   "codemirror_mode": {
    "name": "ipython",
    "version": 3
   },
   "file_extension": ".py",
   "mimetype": "text/x-python",
   "name": "python",
   "nbconvert_exporter": "python",
   "pygments_lexer": "ipython3",
   "version": "3.10.5"
  }
 },
 "nbformat": 4,
 "nbformat_minor": 4
}
