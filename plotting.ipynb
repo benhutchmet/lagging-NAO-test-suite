{
 "cells": [
  {
   "cell_type": "code",
   "execution_count": null,
   "metadata": {},
   "outputs": [],
   "source": [
    "# Imports\n",
    "import argparse\n",
    "import glob\n",
    "import os\n",
    "import sys\n",
    "import re\n",
    "\n",
    "# Third party imports\n",
    "import xarray as xr\n",
    "import numpy as np\n",
    "import scipy.stats as stats\n",
    "import matplotlib.pyplot as plt\n",
    "import pandas as pd\n",
    "from datetime import datetime\n",
    "import cftime"
   ]
  },
  {
   "cell_type": "code",
   "execution_count": null,
   "metadata": {},
   "outputs": [],
   "source": [
    "# Import from dictionaries\n",
    "import dictionaries as dic\n",
    "\n",
    "# Import functions\n",
    "import processing-NAO-data as fnc"
   ]
  },
  {
   "cell_type": "code",
   "execution_count": null,
   "metadata": {},
   "outputs": [],
   "source": [
    "# Load the observations manually\n",
    "obs = xr.open_dataset(dic.obs_long, chunks={\"time\": 50})"
   ]
  },
  {
   "cell_type": "code",
   "execution_count": null,
   "metadata": {},
   "outputs": [],
   "source": [
    "# Set up the forecast range and season\n",
    "forecast_range = 2-9\n",
    "season = 'DJFM'\n",
    "\n",
    "# Set up the test model\n",
    "test_model = [ \"BCC-CSM2-MR\" ]"
   ]
  },
  {
   "cell_type": "code",
   "execution_count": null,
   "metadata": {},
   "outputs": [],
   "source": [
    "# Call the function to load the lagged ensemble members\n",
    "lagged_ensemble_members = fnc.load_lagged_ensemble_members(forecast_range, season, test_model)"
   ]
  },
  {
   "cell_type": "code",
   "execution_count": null,
   "metadata": {},
   "outputs": [],
   "source": [
    "# Call the function to process the data\n",
    "model_times, model_nao_anoms = fnc.process_model_datasets_by_init(lagged_ensemble_members)"
   ]
  },
  {
   "cell_type": "code",
   "execution_count": null,
   "metadata": {},
   "outputs": [],
   "source": [
    "# Combine the model data\n",
    "combined_model_data = fnc.combine_model_data(model_times, model_nao_anoms)"
   ]
  },
  {
   "cell_type": "code",
   "execution_count": null,
   "metadata": {},
   "outputs": [],
   "source": [
    "# Extract the model data from the combined model data\n",
    "extracted_model_data = fnc.extract_model_data(test_model, combined_model_data)"
   ]
  },
  {
   "cell_type": "code",
   "execution_count": null,
   "metadata": {},
   "outputs": [],
   "source": [
    "# Process the observations\n",
    "obs_nao_anom, obs_time = fnc.process_observations(obs)"
   ]
  },
  {
   "cell_type": "code",
   "execution_count": null,
   "metadata": {},
   "outputs": [],
   "source": [
    "# Call the function to plot the data\n",
    "fnc.plot_ensemble_members_and_lagged_adjusted_mean(test_model, extracted_model_data, obs_nao_anom, obs_time, forecast_range, season)\n"
   ]
  }
 ],
 "metadata": {
  "language_info": {
   "name": "python"
  },
  "orig_nbformat": 4
 },
 "nbformat": 4,
 "nbformat_minor": 2
}
