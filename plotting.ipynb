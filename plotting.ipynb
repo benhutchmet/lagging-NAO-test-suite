{
 "cells": [
  {
   "cell_type": "code",
   "execution_count": 1,
   "metadata": {},
   "outputs": [],
   "source": [
    "# Imports\n",
    "import argparse\n",
    "import glob\n",
    "import os\n",
    "import sys\n",
    "import re\n",
    "\n",
    "# Third party imports\n",
    "import xarray as xr\n",
    "import numpy as np\n",
    "import scipy.stats as stats\n",
    "import matplotlib.pyplot as plt\n",
    "import pandas as pd\n",
    "from datetime import datetime\n",
    "import cftime"
   ]
  },
  {
   "cell_type": "code",
   "execution_count": 2,
   "metadata": {},
   "outputs": [],
   "source": [
    "# Import from dictionaries\n",
    "import dictionaries as dic\n",
    "\n",
    "# Import functions\n",
    "import processing_NAO_data as pnd\n",
    "import functions_lag as fnc"
   ]
  },
  {
   "cell_type": "code",
   "execution_count": 3,
   "metadata": {},
   "outputs": [],
   "source": [
    "# Load the observations manually\n",
    "obs = xr.open_dataset(dic.obs_long, chunks={\"time\": 50})"
   ]
  },
  {
   "cell_type": "code",
   "execution_count": 4,
   "metadata": {},
   "outputs": [],
   "source": [
    "# Set up the forecast range and season\n",
    "forecast_range = \"2-9\"\n",
    "season = \"DJFM\"\n",
    "variable = \"psl\"\n",
    "\n",
    "# Set up the test model\n",
    "test_model = [ \"BCC-CSM2-MR\" ]"
   ]
  },
  {
   "cell_type": "code",
   "execution_count": 5,
   "metadata": {},
   "outputs": [
    {
     "name": "stdout",
     "output_type": "stream",
     "text": [
      "models being used:  ['BCC-CSM2-MR']\n",
      "model name:  BCC-CSM2-MR\n",
      "model path:  /work/scratch-nopw2/benhutch/psl/BCC-CSM2-MR/NAO/years_2-9/DJFM/outputs/\n"
     ]
    },
    {
     "ename": "FileNotFoundError",
     "evalue": "[Errno 2] No such file or directory: '/work/scratch-nopw2/benhutch/psl/BCC-CSM2-MR/NAO/years_2-9/DJFM/outputs/'",
     "output_type": "error",
     "traceback": [
      "\u001b[0;31m---------------------------------------------------------------------------\u001b[0m",
      "\u001b[0;31mFileNotFoundError\u001b[0m                         Traceback (most recent call last)",
      "Input \u001b[0;32mIn [5]\u001b[0m, in \u001b[0;36m<cell line: 2>\u001b[0;34m()\u001b[0m\n\u001b[1;32m      1\u001b[0m \u001b[38;5;66;03m# Call the function to load the lagged ensemble members\u001b[39;00m\n\u001b[0;32m----> 2\u001b[0m lagged_ensemble_members \u001b[38;5;241m=\u001b[39m \u001b[43mfnc\u001b[49m\u001b[38;5;241;43m.\u001b[39;49m\u001b[43mload_lagged_ensemble_members\u001b[49m\u001b[43m(\u001b[49m\u001b[43mforecast_range\u001b[49m\u001b[43m,\u001b[49m\u001b[43m \u001b[49m\u001b[43mseason\u001b[49m\u001b[43m,\u001b[49m\u001b[43m \u001b[49m\u001b[43mtest_model\u001b[49m\u001b[43m)\u001b[49m\n",
      "File \u001b[0;32m~/lagging-NAO-test-suite/processing_NAO_data.py:86\u001b[0m, in \u001b[0;36mload_lagged_ensemble_members\u001b[0;34m(forecast_range, season, models)\u001b[0m\n\u001b[1;32m     83\u001b[0m files \u001b[38;5;241m=\u001b[39m glob\u001b[38;5;241m.\u001b[39mglob(model_path \u001b[38;5;241m+\u001b[39m \u001b[38;5;124m\"\u001b[39m\u001b[38;5;124m/*.nc\u001b[39m\u001b[38;5;124m\"\u001b[39m)\n\u001b[1;32m     85\u001b[0m \u001b[38;5;66;03m# Get a list of all files in the directory\u001b[39;00m\n\u001b[0;32m---> 86\u001b[0m all_files \u001b[38;5;241m=\u001b[39m \u001b[43mos\u001b[49m\u001b[38;5;241;43m.\u001b[39;49m\u001b[43mlistdir\u001b[49m\u001b[43m(\u001b[49m\u001b[43mmodel_path\u001b[49m\u001b[43m)\u001b[49m\n\u001b[1;32m     88\u001b[0m \u001b[38;5;66;03m# Filter the list to include only netCDF files\u001b[39;00m\n\u001b[1;32m     89\u001b[0m nc_files \u001b[38;5;241m=\u001b[39m [f \u001b[38;5;28;01mfor\u001b[39;00m f \u001b[38;5;129;01min\u001b[39;00m all_files \u001b[38;5;28;01mif\u001b[39;00m f\u001b[38;5;241m.\u001b[39mendswith(\u001b[38;5;124m\"\u001b[39m\u001b[38;5;124m.nc\u001b[39m\u001b[38;5;124m\"\u001b[39m)]\n",
      "\u001b[0;31mFileNotFoundError\u001b[0m: [Errno 2] No such file or directory: '/work/scratch-nopw2/benhutch/psl/BCC-CSM2-MR/NAO/years_2-9/DJFM/outputs/'"
     ]
    }
   ],
   "source": [
    "# Call the function to load the lagged ensemble members\n",
    "base_directory = \"/work/scratch-nowp2/benhutch\"\n",
    "lagged_ensemble_members = fnc.load_data(base_directory, test_model, variable, forecast_range, season)"
   ]
  },
  {
   "cell_type": "code",
   "execution_count": null,
   "metadata": {},
   "outputs": [],
   "source": [
    "# Call the function to process the data\n",
    "model_times, model_nao_anoms = fnc.process_model_datasets_by_init(lagged_ensemble_members)"
   ]
  },
  {
   "cell_type": "code",
   "execution_count": null,
   "metadata": {},
   "outputs": [],
   "source": [
    "# Combine the model data\n",
    "combined_model_data = fnc.combine_model_data(model_times, model_nao_anoms)"
   ]
  },
  {
   "cell_type": "code",
   "execution_count": null,
   "metadata": {},
   "outputs": [],
   "source": [
    "# Extract the model data from the combined model data\n",
    "extracted_model_data = fnc.extract_model_data(test_model, combined_model_data)"
   ]
  },
  {
   "cell_type": "code",
   "execution_count": null,
   "metadata": {},
   "outputs": [],
   "source": [
    "# Process the observations\n",
    "obs_nao_anom, obs_time = fnc.process_observations(obs)"
   ]
  },
  {
   "cell_type": "code",
   "execution_count": null,
   "metadata": {},
   "outputs": [],
   "source": [
    "# Call the function to plot the data\n",
    "fnc.plot_ensemble_members_and_lagged_adjusted_mean(test_model, extracted_model_data, obs_nao_anom, obs_time, forecast_range, season)\n"
   ]
  }
 ],
 "metadata": {
  "kernelspec": {
   "display_name": "bens-python-environment",
   "language": "python",
   "name": "bens-python-environment"
  },
  "language_info": {
   "codemirror_mode": {
    "name": "ipython",
    "version": 3
   },
   "file_extension": ".py",
   "mimetype": "text/x-python",
   "name": "python",
   "nbconvert_exporter": "python",
   "pygments_lexer": "ipython3",
   "version": "3.10.5"
  }
 },
 "nbformat": 4,
 "nbformat_minor": 4
}
