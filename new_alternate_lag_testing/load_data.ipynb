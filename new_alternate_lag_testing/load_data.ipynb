{
 "cells": [
  {
   "cell_type": "markdown",
   "metadata": {},
   "source": [
    "## Alternate lag testing ##\n",
    "\n",
    "Here we test a new methodology for the alternate lagging. Having calculated the anomalies for all of the models, ensemble members, start dates, and forecast years in the '*calc_anoms_suite*', we want to load these into python to form arrays with shapes like:\n",
    "\n",
    "(178, 60, 11, 72, 144)\n",
    "\n",
    "Where the dimensions are as following:\n",
    "\n",
    "* 178 total ensemble members (from all of the models)\n",
    "* 60 start dates (~1960-2020)\n",
    "* 11 forecast years (could this differ between models - *may have to watch out for*)\n",
    "* 72 latitude bands\n",
    "* 144 longitude bands\n",
    "\n",
    "As a first exercise, it would be useful to load in an array for a single model, in this case: BCC-CSM2-MR. The shape would look something like:\n",
    "\n",
    "(8, 60, 11, 72, 144)"
   ]
  },
  {
   "cell_type": "code",
   "execution_count": 1,
   "metadata": {},
   "outputs": [],
   "source": [
    "# Import local modules\n",
    "import sys\n",
    "import os\n",
    "import argparse\n",
    "\n",
    "# Import 3rd party modules\n",
    "import numpy as np\n",
    "import pandas as pd\n",
    "import matplotlib.pyplot as plt\n",
    "import xarray as xr"
   ]
  },
  {
   "cell_type": "code",
   "execution_count": 2,
   "metadata": {},
   "outputs": [],
   "source": [
    "# Set up the arguments\n",
    "base_dir = \"/gws/nopw/j04/canari/users/benhutch/skill-maps-processed-data\"\n",
    "variable = \"psl\"\n",
    "model = \"BCC-CSM2-MR\"\n",
    "region = \"global\"\n",
    "forecast_range = \"all_forecast_years\"\n",
    "season = \"DJFM\""
   ]
  },
  {
   "cell_type": "code",
   "execution_count": 4,
   "metadata": {},
   "outputs": [
    {
     "name": "stdout",
     "output_type": "stream",
     "text": [
      "/gws/nopw/j04/canari/users/benhutch/skill-maps-processed-data/psl/BCC-CSM2-MR/global/all_forecast_years/DJFM/outputs/anoms\n",
      "['all-years-DJFM-global-psl_Amon_BCC-CSM2-MR_dcppA-hindcast_s1970-r1i1p1f1_gn_197001-197912-anoms.nc', 'all-years-DJFM-global-psl_Amon_BCC-CSM2-MR_dcppA-hindcast_s1970-r2i1p1f1_gn_197001-197912-anoms.nc', 'all-years-DJFM-global-psl_Amon_BCC-CSM2-MR_dcppA-hindcast_s1970-r3i1p1f1_gn_197001-197912-anoms.nc', 'all-years-DJFM-global-psl_Amon_BCC-CSM2-MR_dcppA-hindcast_s1970-r4i1p1f1_gn_197001-197912-anoms.nc', 'all-years-DJFM-global-psl_Amon_BCC-CSM2-MR_dcppA-hindcast_s1970-r5i1p1f1_gn_197001-197912-anoms.nc', 'all-years-DJFM-global-psl_Amon_BCC-CSM2-MR_dcppA-hindcast_s1970-r6i1p1f1_gn_197001-197912-anoms.nc', 'all-years-DJFM-global-psl_Amon_BCC-CSM2-MR_dcppA-hindcast_s1970-r7i1p1f1_gn_197001-197912-anoms.nc', 'all-years-DJFM-global-psl_Amon_BCC-CSM2-MR_dcppA-hindcast_s1970-r8i1p1f1_gn_197001-197912-anoms.nc', 'all-years-DJFM-global-psl_Amon_BCC-CSM2-MR_dcppA-hindcast_s1971-r1i1p1f1_gn_197101-198012-anoms.nc', 'all-years-DJFM-global-psl_Amon_BCC-CSM2-MR_dcppA-hindcast_s1971-r2i1p1f1_gn_197101-198012-anoms.nc', 'all-years-DJFM-global-psl_Amon_BCC-CSM2-MR_dcppA-hindcast_s1971-r3i1p1f1_gn_197101-198012-anoms.nc', 'all-years-DJFM-global-psl_Amon_BCC-CSM2-MR_dcppA-hindcast_s1971-r4i1p1f1_gn_197101-198012-anoms.nc', 'all-years-DJFM-global-psl_Amon_BCC-CSM2-MR_dcppA-hindcast_s1971-r5i1p1f1_gn_197101-198012-anoms.nc', 'all-years-DJFM-global-psl_Amon_BCC-CSM2-MR_dcppA-hindcast_s1971-r6i1p1f1_gn_197101-198012-anoms.nc', 'all-years-DJFM-global-psl_Amon_BCC-CSM2-MR_dcppA-hindcast_s1971-r7i1p1f1_gn_197101-198012-anoms.nc', 'all-years-DJFM-global-psl_Amon_BCC-CSM2-MR_dcppA-hindcast_s1971-r8i1p1f1_gn_197101-198012-anoms.nc', 'all-years-DJFM-global-psl_Amon_BCC-CSM2-MR_dcppA-hindcast_s1972-r1i1p1f1_gn_197201-198112-anoms.nc', 'all-years-DJFM-global-psl_Amon_BCC-CSM2-MR_dcppA-hindcast_s1972-r2i1p1f1_gn_197201-198112-anoms.nc', 'all-years-DJFM-global-psl_Amon_BCC-CSM2-MR_dcppA-hindcast_s1972-r3i1p1f1_gn_197201-198112-anoms.nc', 'all-years-DJFM-global-psl_Amon_BCC-CSM2-MR_dcppA-hindcast_s1972-r4i1p1f1_gn_197201-198112-anoms.nc', 'all-years-DJFM-global-psl_Amon_BCC-CSM2-MR_dcppA-hindcast_s1972-r5i1p1f1_gn_197201-198112-anoms.nc', 'all-years-DJFM-global-psl_Amon_BCC-CSM2-MR_dcppA-hindcast_s1972-r6i1p1f1_gn_197201-198112-anoms.nc', 'all-years-DJFM-global-psl_Amon_BCC-CSM2-MR_dcppA-hindcast_s1972-r7i1p1f1_gn_197201-198112-anoms.nc', 'all-years-DJFM-global-psl_Amon_BCC-CSM2-MR_dcppA-hindcast_s1972-r8i1p1f1_gn_197201-198112-anoms.nc', 'all-years-DJFM-global-psl_Amon_BCC-CSM2-MR_dcppA-hindcast_s1973-r1i1p1f1_gn_197301-198212-anoms.nc', 'all-years-DJFM-global-psl_Amon_BCC-CSM2-MR_dcppA-hindcast_s1973-r2i1p1f1_gn_197301-198212-anoms.nc', 'all-years-DJFM-global-psl_Amon_BCC-CSM2-MR_dcppA-hindcast_s1973-r3i1p1f1_gn_197301-198212-anoms.nc', 'all-years-DJFM-global-psl_Amon_BCC-CSM2-MR_dcppA-hindcast_s1973-r4i1p1f1_gn_197301-198212-anoms.nc', 'all-years-DJFM-global-psl_Amon_BCC-CSM2-MR_dcppA-hindcast_s1973-r5i1p1f1_gn_197301-198212-anoms.nc', 'all-years-DJFM-global-psl_Amon_BCC-CSM2-MR_dcppA-hindcast_s1973-r6i1p1f1_gn_197301-198212-anoms.nc', 'all-years-DJFM-global-psl_Amon_BCC-CSM2-MR_dcppA-hindcast_s1973-r7i1p1f1_gn_197301-198212-anoms.nc', 'all-years-DJFM-global-psl_Amon_BCC-CSM2-MR_dcppA-hindcast_s1973-r8i1p1f1_gn_197301-198212-anoms.nc', 'all-years-DJFM-global-psl_Amon_BCC-CSM2-MR_dcppA-hindcast_s1974-r1i1p1f1_gn_197401-198312-anoms.nc', 'all-years-DJFM-global-psl_Amon_BCC-CSM2-MR_dcppA-hindcast_s1974-r2i1p1f1_gn_197401-198312-anoms.nc', 'all-years-DJFM-global-psl_Amon_BCC-CSM2-MR_dcppA-hindcast_s1974-r3i1p1f1_gn_197401-198312-anoms.nc', 'all-years-DJFM-global-psl_Amon_BCC-CSM2-MR_dcppA-hindcast_s1974-r4i1p1f1_gn_197401-198312-anoms.nc', 'all-years-DJFM-global-psl_Amon_BCC-CSM2-MR_dcppA-hindcast_s1974-r5i1p1f1_gn_197401-198312-anoms.nc', 'all-years-DJFM-global-psl_Amon_BCC-CSM2-MR_dcppA-hindcast_s1974-r6i1p1f1_gn_197401-198312-anoms.nc', 'all-years-DJFM-global-psl_Amon_BCC-CSM2-MR_dcppA-hindcast_s1974-r7i1p1f1_gn_197401-198312-anoms.nc', 'all-years-DJFM-global-psl_Amon_BCC-CSM2-MR_dcppA-hindcast_s1974-r8i1p1f1_gn_197401-198312-anoms.nc', 'all-years-DJFM-global-psl_Amon_BCC-CSM2-MR_dcppA-hindcast_s1975-r1i1p1f1_gn_197501-198412-anoms.nc', 'all-years-DJFM-global-psl_Amon_BCC-CSM2-MR_dcppA-hindcast_s1975-r2i1p1f1_gn_197501-198412-anoms.nc', 'all-years-DJFM-global-psl_Amon_BCC-CSM2-MR_dcppA-hindcast_s1975-r3i1p1f1_gn_197501-198412-anoms.nc', 'all-years-DJFM-global-psl_Amon_BCC-CSM2-MR_dcppA-hindcast_s1975-r4i1p1f1_gn_197501-198412-anoms.nc', 'all-years-DJFM-global-psl_Amon_BCC-CSM2-MR_dcppA-hindcast_s1975-r5i1p1f1_gn_197501-198412-anoms.nc', 'all-years-DJFM-global-psl_Amon_BCC-CSM2-MR_dcppA-hindcast_s1975-r6i1p1f1_gn_197501-198412-anoms.nc', 'all-years-DJFM-global-psl_Amon_BCC-CSM2-MR_dcppA-hindcast_s1975-r7i1p1f1_gn_197501-198412-anoms.nc', 'all-years-DJFM-global-psl_Amon_BCC-CSM2-MR_dcppA-hindcast_s1975-r8i1p1f1_gn_197501-198412-anoms.nc']\n"
     ]
    }
   ],
   "source": [
    "# Form the directory path\n",
    "dir_path = os.path.join(base_dir, variable, model, region, forecast_range,\n",
    "                        season, \"outputs\", \"anoms\")\n",
    "\n",
    "print(dir_path)\n",
    "\n",
    "# List the files ending with *.nc in this directory\n",
    "file_list = [f for f in os.listdir(dir_path) if f.endswith(\".nc\")]\n",
    "\n",
    "# Print the list of files\n",
    "print(file_list)"
   ]
  }
 ],
 "metadata": {
  "kernelspec": {
   "display_name": "Python 3",
   "language": "python",
   "name": "python3"
  },
  "language_info": {
   "codemirror_mode": {
    "name": "ipython",
    "version": 3
   },
   "file_extension": ".py",
   "mimetype": "text/x-python",
   "name": "python",
   "nbconvert_exporter": "python",
   "pygments_lexer": "ipython3",
   "version": "3.10.5"
  }
 },
 "nbformat": 4,
 "nbformat_minor": 2
}
